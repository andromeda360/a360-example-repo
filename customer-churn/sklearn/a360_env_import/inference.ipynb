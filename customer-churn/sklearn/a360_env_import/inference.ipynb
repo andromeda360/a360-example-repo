{
 "cells": [
  {
   "cell_type": "markdown",
   "id": "29287a95-7cbc-4517-9e1a-3cd3451a842a",
   "metadata": {},
   "source": [
    "### Inference/ model prediction with endpoint"
   ]
  },
  {
   "cell_type": "code",
   "execution_count": 6,
   "id": "a4968914-dfe9-4df1-b372-deab02fb6518",
   "metadata": {},
   "outputs": [
    {
     "data": {
      "text/plain": [
       "<A360 AI Interface for project: Customer Churn>"
      ]
     },
     "execution_count": 6,
     "metadata": {},
     "output_type": "execute_result"
    }
   ],
   "source": [
    "a360ai"
   ]
  },
  {
   "cell_type": "code",
   "execution_count": 7,
   "id": "e96dc3d7-a1b5-4713-a0e3-57b7fbf7edb3",
   "metadata": {},
   "outputs": [
    {
     "data": {
      "text/plain": [
       "'Customer Churn'"
      ]
     },
     "execution_count": 7,
     "metadata": {},
     "output_type": "execute_result"
    }
   ],
   "source": [
    "# Get default data repo\n",
    "DATAREPO_LIST = a360ai.list_datarepos()\n",
    "DATAREPO = DATAREPO_LIST['name'][0]\n",
    "DATAREPO"
   ]
  },
  {
   "cell_type": "code",
   "execution_count": 8,
   "id": "f2cb6c88-faa4-488f-88bb-bfe5f60d19eb",
   "metadata": {},
   "outputs": [],
   "source": [
    "import requests\n",
    "import json\n",
    "\n",
    "import matplotlib.pyplot as plt\n",
    "import matplotlib.dates as mdates"
   ]
  },
  {
   "cell_type": "markdown",
   "id": "db8908f5-3ef4-4e2d-af72-57ca29afb272",
   "metadata": {},
   "source": [
    "#### 1. Set Default Data Repo and load data"
   ]
  },
  {
   "cell_type": "code",
   "execution_count": 9,
   "id": "382fdd86-99a8-4a22-80e3-570e3b502407",
   "metadata": {},
   "outputs": [],
   "source": [
    "a360ai.set_default_datarepo(DATAREPO)"
   ]
  },
  {
   "cell_type": "code",
   "execution_count": 10,
   "id": "ff331db8-6464-4b48-8da9-89f690512e07",
   "metadata": {},
   "outputs": [
    {
     "data": {
      "text/html": [
       "<div>\n",
       "<style scoped>\n",
       "    .dataframe tbody tr th:only-of-type {\n",
       "        vertical-align: middle;\n",
       "    }\n",
       "\n",
       "    .dataframe tbody tr th {\n",
       "        vertical-align: top;\n",
       "    }\n",
       "\n",
       "    .dataframe thead th {\n",
       "        text-align: right;\n",
       "    }\n",
       "</style>\n",
       "<table border=\"1\" class=\"dataframe\">\n",
       "  <thead>\n",
       "    <tr style=\"text-align: right;\">\n",
       "      <th></th>\n",
       "      <th>base_name</th>\n",
       "      <th>extension</th>\n",
       "      <th>size</th>\n",
       "    </tr>\n",
       "  </thead>\n",
       "  <tbody>\n",
       "    <tr>\n",
       "      <th>1</th>\n",
       "      <td>Reward-Customer-Churn.csv</td>\n",
       "      <td>csv</td>\n",
       "      <td>736215.0</td>\n",
       "    </tr>\n",
       "    <tr>\n",
       "      <th>2</th>\n",
       "      <td>X.parquet</td>\n",
       "      <td>parquet</td>\n",
       "      <td>174436.0</td>\n",
       "    </tr>\n",
       "    <tr>\n",
       "      <th>3</th>\n",
       "      <td>X_drift.parquet</td>\n",
       "      <td>parquet</td>\n",
       "      <td>25692.0</td>\n",
       "    </tr>\n",
       "    <tr>\n",
       "      <th>4</th>\n",
       "      <td>y.parquet</td>\n",
       "      <td>parquet</td>\n",
       "      <td>42876.0</td>\n",
       "    </tr>\n",
       "  </tbody>\n",
       "</table>\n",
       "</div>"
      ],
      "text/plain": [
       "                   base_name extension      size\n",
       "1  Reward-Customer-Churn.csv       csv  736215.0\n",
       "2                  X.parquet   parquet  174436.0\n",
       "3            X_drift.parquet   parquet   25692.0\n",
       "4                  y.parquet   parquet   42876.0"
      ]
     },
     "execution_count": 10,
     "metadata": {},
     "output_type": "execute_result"
    }
   ],
   "source": [
    "a360ai.list_datasets()"
   ]
  },
  {
   "cell_type": "code",
   "execution_count": 11,
   "id": "5dc76b35-6813-4295-af1f-e016ba01e5b3",
   "metadata": {},
   "outputs": [],
   "source": [
    "df = a360ai.load_dataset(\"X_drift.parquet\")"
   ]
  },
  {
   "cell_type": "markdown",
   "id": "3c029746-885f-4988-8efb-6f39a44a38d2",
   "metadata": {},
   "source": [
    "#### 2. Test endpoint with one data point "
   ]
  },
  {
   "cell_type": "code",
   "execution_count": null,
   "id": "a457f8aa-218e-4909-9676-3e80486b57ce",
   "metadata": {},
   "outputs": [],
   "source": [
    "url = \"https://ms-demo.a360.ai/churn-rf-drift/\"\n",
    "with open('header.json') as json_file:\n",
    "    headers = json.load(json_file)"
   ]
  },
  {
   "cell_type": "code",
   "execution_count": null,
   "id": "382b54bf-6caa-4723-96d7-e64a0a31228d",
   "metadata": {},
   "outputs": [],
   "source": [
    "data = {'gender': 1.000000,\n",
    "'SeniorCitizen': 0.000000,\n",
    "'Partner': 1.000000,\n",
    "'Dependents': 0.000000,\n",
    "'tenure': 0.000000,\n",
    "'MobileOnRecord': 0.000000,\n",
    "'AddressOnRecord': 0.000000,\n",
    "'TwoFactorAuth': 0.000000,\n",
    "'OnlineBackup': 1.000000,\n",
    "'DeviceProtection': 0.000000,\n",
    "'TechSupport': 0.000000,\n",
    "'NewsletterSubscribe': 0.000000,\n",
    "'PaperlessBilling': 0.000000,\n",
    "'LastLogInOneMonth': 1.000000,\n",
    "'MonthlyCharges': 0.115423, \n",
    "'TotalCharges': 0.001275,\n",
    "'LinkedAccount_Amazon': 1.000000, \n",
    "'LinkedAccount_Starbucks': 0.000000,\n",
    "'LinkedAccount_Target': 0.000000, \n",
    "'Contract_Month-to-month': 1.000000, \n",
    "'Contract_One year': 0.000000,\n",
    "'Contract_Two year': 0.000000, \n",
    "'Generation_Boomers': 0.000000,\n",
    "'Generation_Gen X': 0.000000, \n",
    "'Generation_Gen Z': 1.000000, \n",
    "'Generation_Millennials': 0.000000}"
   ]
  },
  {
   "cell_type": "code",
   "execution_count": null,
   "id": "b92a2444-d9c0-4bc4-b600-9be770f8ca81",
   "metadata": {},
   "outputs": [],
   "source": [
    "data = json.dumps(data,indent=2)"
   ]
  },
  {
   "cell_type": "code",
   "execution_count": null,
   "id": "c66ed471-c219-4d39-b19c-c70348a50acb",
   "metadata": {},
   "outputs": [],
   "source": [
    "prediction = requests.post(url,data=data,headers=headers).text.split(':')[-1].split(\"}\")[0]"
   ]
  },
  {
   "cell_type": "code",
   "execution_count": null,
   "id": "cebd8116-ab2c-4b7e-b814-077a8d93823f",
   "metadata": {},
   "outputs": [],
   "source": [
    "if prediction == \"0.0\":\n",
    "    print(\" \")\n",
    "    print(\"This customer will likely be retained in the next 3 months.\")\n",
    "    print(\" \")\n",
    "else:\n",
    "    print(\" \")\n",
    "    print(\"This customer will likely churn in the next 3 months.\")\n",
    "    print(\" \")"
   ]
  },
  {
   "cell_type": "markdown",
   "id": "1509f8c3-0df0-4c33-a16b-6a132b7f4ac6",
   "metadata": {},
   "source": [
    "#### 3. Test data outlier/ anomaly "
   ]
  },
  {
   "cell_type": "code",
   "execution_count": null,
   "id": "1583072a-b027-4f68-8a10-56ec88aef4ee",
   "metadata": {},
   "outputs": [],
   "source": [
    "data = {'gender': 1.000000,\n",
    "'SeniorCitizen': 0.000000,\n",
    "'Partner': 1.000000,\n",
    "'Dependents': 0.000000,\n",
    "'tenure': 0.000000,\n",
    "'MobileOnRecord': 0.000000,\n",
    "'AddressOnRecord': 0.000000,\n",
    "'TwoFactorAuth': 0.000000,\n",
    "'OnlineBackup': 1.000000,\n",
    "'DeviceProtection': 0.000000,\n",
    "'TechSupport': 0.000000,\n",
    "'NewsletterSubscribe': 0.000000,\n",
    "'PaperlessBilling': 0.000000,\n",
    "'LastLogInOneMonth': 1.000000,\n",
    "'MonthlyCharges': 11.5423, # <---\n",
    "'TotalCharges': 0.1275, # <---\n",
    "'LinkedAccount_Amazon': 1.000000, \n",
    "'LinkedAccount_Starbucks': 0.000000,\n",
    "'LinkedAccount_Target': 0.000000, \n",
    "'Contract_Month-to-month': 1.000000, \n",
    "'Contract_One year': 0.000000,\n",
    "'Contract_Two year': 0.000000, \n",
    "'Generation_Boomers': 0.000000,\n",
    "'Generation_Gen X': 0.000000, \n",
    "'Generation_Gen Z': 1.000000, \n",
    "'Generation_Millennials': 0.000000}"
   ]
  },
  {
   "cell_type": "code",
   "execution_count": null,
   "id": "1b29026d-6f47-4419-bde6-434e9a3e505a",
   "metadata": {},
   "outputs": [],
   "source": [
    "data = json.dumps(data,indent=2)"
   ]
  },
  {
   "cell_type": "code",
   "execution_count": null,
   "id": "6bbb9d17-03b7-4fb7-8964-1e9af397dc5d",
   "metadata": {},
   "outputs": [],
   "source": [
    "prediction = requests.post(url,data=data,headers=headers).text.split(':')[-1].split(\"}\")[0]\n",
    "prediction"
   ]
  },
  {
   "cell_type": "markdown",
   "id": "4e1712bb-e1c4-4460-bed4-795fec333731",
   "metadata": {},
   "source": [
    "#### 4. Test data and concept drift "
   ]
  },
  {
   "cell_type": "code",
   "execution_count": null,
   "id": "fbd41344-b6fb-4ee3-9549-bd64e45a09bc",
   "metadata": {},
   "outputs": [],
   "source": [
    "for i in range(0, df.shape[0]):\n",
    "    data = df.iloc[i]\n",
    "    out = data.to_json() \n",
    "    prediction = requests.post(url,data=out,headers=headers).text.split(':')[-1].split(\"}\")[0]\n",
    "    #print(prediction)"
   ]
  },
  {
   "cell_type": "code",
   "execution_count": null,
   "id": "90349beb-b506-40e2-9fdf-e89ca013003c",
   "metadata": {},
   "outputs": [],
   "source": [
    "data_drift = df_X_covid"
   ]
  },
  {
   "cell_type": "code",
   "execution_count": null,
   "id": "b6b605e4-924d-4967-8329-3391b14314b6",
   "metadata": {},
   "outputs": [],
   "source": [
    "data_drift"
   ]
  },
  {
   "cell_type": "code",
   "execution_count": null,
   "id": "7b93319b-2396-4d39-8494-050bb4ed7f7c",
   "metadata": {},
   "outputs": [],
   "source": [
    "for i in range(0, data_drift.shape[0]):\n",
    "    data = data_drift.iloc[i]\n",
    "    out = data.to_json() \n",
    "    prediction = requests.post(url,data=out,headers=headers).text.split(':')[-1].split(\"}\")[0]\n",
    "    print(prediction)"
   ]
  },
  {
   "cell_type": "code",
   "execution_count": null,
   "id": "4525af74-b055-44b4-a284-d84852dc45a5",
   "metadata": {},
   "outputs": [],
   "source": []
  }
 ],
 "metadata": {
  "kernelspec": {
   "display_name": "Python 3 (ipykernel)",
   "language": "python",
   "name": "python3"
  },
  "language_info": {
   "codemirror_mode": {
    "name": "ipython",
    "version": 3
   },
   "file_extension": ".py",
   "mimetype": "text/x-python",
   "name": "python",
   "nbconvert_exporter": "python",
   "pygments_lexer": "ipython3",
   "version": "3.9.12"
  }
 },
 "nbformat": 4,
 "nbformat_minor": 5
}
