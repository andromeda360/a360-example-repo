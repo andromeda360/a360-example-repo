{
 "cells": [
  {
   "cell_type": "markdown",
   "id": "7b65bbdb-b286-4980-b35c-e83122fa5794",
   "metadata": {},
   "source": [
    "## 1. Exploratory Data Analysis"
   ]
  },
  {
   "cell_type": "markdown",
   "id": "285cbf84-5794-42f6-ad31-53bf22caf742",
   "metadata": {},
   "source": [
    "#### A360 MDK interface"
   ]
  },
  {
   "cell_type": "code",
   "execution_count": 1,
   "id": "dd8748a5-156d-432b-a970-aa504994adf2",
   "metadata": {},
   "outputs": [
    {
     "data": {
      "text/plain": [
       "<A360 AI Interface for project: Customer Churn>"
      ]
     },
     "execution_count": 1,
     "metadata": {},
     "output_type": "execute_result"
    }
   ],
   "source": [
    "a360ai"
   ]
  },
  {
   "cell_type": "code",
   "execution_count": 2,
   "id": "0e8b609f-ec67-4583-931c-9f25e57b890d",
   "metadata": {},
   "outputs": [
    {
     "data": {
      "text/plain": [
       "'Customer Churn'"
      ]
     },
     "execution_count": 2,
     "metadata": {},
     "output_type": "execute_result"
    }
   ],
   "source": [
    "# Get default data repo\n",
    "DATAREPO_LIST = a360ai.list_datarepos()\n",
    "DATAREPO = DATAREPO_LIST['name'][0]\n",
    "DATAREPO"
   ]
  },
  {
   "cell_type": "code",
   "execution_count": 3,
   "id": "bb0df988-728b-4b31-9787-dd8b1da8a968",
   "metadata": {},
   "outputs": [
    {
     "name": "stdout",
     "output_type": "stream",
     "text": [
      "Collecting inflection\n",
      "  Using cached inflection-0.5.1-py2.py3-none-any.whl (9.5 kB)\n",
      "Installing collected packages: inflection\n",
      "Successfully installed inflection-0.5.1\n"
     ]
    }
   ],
   "source": [
    "!pip install inflection"
   ]
  },
  {
   "cell_type": "code",
   "execution_count": 4,
   "id": "412eb813-fdff-423f-aaf5-82e26e5dba1a",
   "metadata": {},
   "outputs": [],
   "source": [
    "import pandas as pd\n",
    "import numpy as np\n",
    "import matplotlib.pyplot as plt\n",
    "import inflection\n",
    "import seaborn as sns"
   ]
  },
  {
   "cell_type": "code",
   "execution_count": 5,
   "id": "de05fa4f-3e69-4b74-94a4-16361b3af3a6",
   "metadata": {},
   "outputs": [],
   "source": [
    "import warnings\n",
    "warnings.filterwarnings('ignore')"
   ]
  },
  {
   "cell_type": "markdown",
   "id": "e638e53f-dbbe-4045-9754-10d5a1f7421a",
   "metadata": {},
   "source": [
    "### 1. Set Default Data Repo and load data"
   ]
  },
  {
   "cell_type": "code",
   "execution_count": 6,
   "id": "65b6c0f7-74b0-44fa-a4f3-96079a85f107",
   "metadata": {},
   "outputs": [],
   "source": [
    "a360ai.set_default_datarepo(DATAREPO)"
   ]
  },
  {
   "cell_type": "code",
   "execution_count": 7,
   "id": "daf91aed-6bf2-4a10-858c-df91e678824e",
   "metadata": {},
   "outputs": [
    {
     "data": {
      "text/html": [
       "<div>\n",
       "<style scoped>\n",
       "    .dataframe tbody tr th:only-of-type {\n",
       "        vertical-align: middle;\n",
       "    }\n",
       "\n",
       "    .dataframe tbody tr th {\n",
       "        vertical-align: top;\n",
       "    }\n",
       "\n",
       "    .dataframe thead th {\n",
       "        text-align: right;\n",
       "    }\n",
       "</style>\n",
       "<table border=\"1\" class=\"dataframe\">\n",
       "  <thead>\n",
       "    <tr style=\"text-align: right;\">\n",
       "      <th></th>\n",
       "      <th>base_name</th>\n",
       "      <th>extension</th>\n",
       "      <th>size</th>\n",
       "    </tr>\n",
       "  </thead>\n",
       "  <tbody>\n",
       "    <tr>\n",
       "      <th>1</th>\n",
       "      <td>Reward-Customer-Churn.csv</td>\n",
       "      <td>csv</td>\n",
       "      <td>736215.0</td>\n",
       "    </tr>\n",
       "    <tr>\n",
       "      <th>2</th>\n",
       "      <td>X.parquet</td>\n",
       "      <td>parquet</td>\n",
       "      <td>174436.0</td>\n",
       "    </tr>\n",
       "    <tr>\n",
       "      <th>3</th>\n",
       "      <td>X_drift.parquet</td>\n",
       "      <td>parquet</td>\n",
       "      <td>25692.0</td>\n",
       "    </tr>\n",
       "    <tr>\n",
       "      <th>4</th>\n",
       "      <td>y.parquet</td>\n",
       "      <td>parquet</td>\n",
       "      <td>42876.0</td>\n",
       "    </tr>\n",
       "  </tbody>\n",
       "</table>\n",
       "</div>"
      ],
      "text/plain": [
       "                   base_name extension      size\n",
       "1  Reward-Customer-Churn.csv       csv  736215.0\n",
       "2                  X.parquet   parquet  174436.0\n",
       "3            X_drift.parquet   parquet   25692.0\n",
       "4                  y.parquet   parquet   42876.0"
      ]
     },
     "execution_count": 7,
     "metadata": {},
     "output_type": "execute_result"
    }
   ],
   "source": [
    "a360ai.list_datasets()"
   ]
  },
  {
   "cell_type": "code",
   "execution_count": 8,
   "id": "a79e2120-89de-4cfd-a53b-b0d250ae0e1e",
   "metadata": {},
   "outputs": [],
   "source": [
    "df = a360ai.load_dataset(\"Reward-Customer-Churn.csv\")"
   ]
  },
  {
   "cell_type": "markdown",
   "id": "06c08cc1-ba08-44fc-ae64-eaad6caa7c39",
   "metadata": {},
   "source": [
    "### 2. Data overview"
   ]
  },
  {
   "cell_type": "code",
   "execution_count": 9,
   "id": "1e0659a8-bf9c-40ed-b15b-a4e6c129e1c4",
   "metadata": {},
   "outputs": [
    {
     "data": {
      "text/html": [
       "<div>\n",
       "<style scoped>\n",
       "    .dataframe tbody tr th:only-of-type {\n",
       "        vertical-align: middle;\n",
       "    }\n",
       "\n",
       "    .dataframe tbody tr th {\n",
       "        vertical-align: top;\n",
       "    }\n",
       "\n",
       "    .dataframe thead th {\n",
       "        text-align: right;\n",
       "    }\n",
       "</style>\n",
       "<table border=\"1\" class=\"dataframe\">\n",
       "  <thead>\n",
       "    <tr style=\"text-align: right;\">\n",
       "      <th></th>\n",
       "      <th>customerID</th>\n",
       "      <th>gender</th>\n",
       "      <th>SeniorCitizen</th>\n",
       "      <th>Partner</th>\n",
       "      <th>Dependents</th>\n",
       "      <th>tenure</th>\n",
       "      <th>MobileOnRecord</th>\n",
       "      <th>AddressOnRecord</th>\n",
       "      <th>LinkedAccount</th>\n",
       "      <th>TwoFactorAuth</th>\n",
       "      <th>...</th>\n",
       "      <th>DeviceProtection</th>\n",
       "      <th>TechSupport</th>\n",
       "      <th>NewsletterSubscribe</th>\n",
       "      <th>PaperlessBilling</th>\n",
       "      <th>Contract</th>\n",
       "      <th>LastLogInOneMonth</th>\n",
       "      <th>Generation</th>\n",
       "      <th>MonthlyCharges</th>\n",
       "      <th>TotalCharges</th>\n",
       "      <th>Churn</th>\n",
       "    </tr>\n",
       "  </thead>\n",
       "  <tbody>\n",
       "    <tr>\n",
       "      <th>0</th>\n",
       "      <td>7590-VHVEG</td>\n",
       "      <td>Female</td>\n",
       "      <td>0</td>\n",
       "      <td>Yes</td>\n",
       "      <td>No</td>\n",
       "      <td>1</td>\n",
       "      <td>No</td>\n",
       "      <td>No</td>\n",
       "      <td>Target</td>\n",
       "      <td>No</td>\n",
       "      <td>...</td>\n",
       "      <td>No</td>\n",
       "      <td>No</td>\n",
       "      <td>No</td>\n",
       "      <td>No</td>\n",
       "      <td>Month-to-month</td>\n",
       "      <td>Yes</td>\n",
       "      <td>Gen Z</td>\n",
       "      <td>29.85</td>\n",
       "      <td>29.85</td>\n",
       "      <td>No</td>\n",
       "    </tr>\n",
       "    <tr>\n",
       "      <th>1</th>\n",
       "      <td>5575-GNVDE</td>\n",
       "      <td>Male</td>\n",
       "      <td>0</td>\n",
       "      <td>No</td>\n",
       "      <td>No</td>\n",
       "      <td>34</td>\n",
       "      <td>Yes</td>\n",
       "      <td>No</td>\n",
       "      <td>Target</td>\n",
       "      <td>Yes</td>\n",
       "      <td>...</td>\n",
       "      <td>Yes</td>\n",
       "      <td>No</td>\n",
       "      <td>No</td>\n",
       "      <td>No</td>\n",
       "      <td>One year</td>\n",
       "      <td>No</td>\n",
       "      <td>Gen X</td>\n",
       "      <td>56.95</td>\n",
       "      <td>1889.5</td>\n",
       "      <td>No</td>\n",
       "    </tr>\n",
       "    <tr>\n",
       "      <th>2</th>\n",
       "      <td>3668-QPYBK</td>\n",
       "      <td>Male</td>\n",
       "      <td>0</td>\n",
       "      <td>No</td>\n",
       "      <td>No</td>\n",
       "      <td>2</td>\n",
       "      <td>Yes</td>\n",
       "      <td>No</td>\n",
       "      <td>Target</td>\n",
       "      <td>Yes</td>\n",
       "      <td>...</td>\n",
       "      <td>No</td>\n",
       "      <td>No</td>\n",
       "      <td>No</td>\n",
       "      <td>No</td>\n",
       "      <td>Month-to-month</td>\n",
       "      <td>Yes</td>\n",
       "      <td>Gen X</td>\n",
       "      <td>53.85</td>\n",
       "      <td>108.15</td>\n",
       "      <td>Yes</td>\n",
       "    </tr>\n",
       "    <tr>\n",
       "      <th>3</th>\n",
       "      <td>7795-CFOCW</td>\n",
       "      <td>Male</td>\n",
       "      <td>0</td>\n",
       "      <td>No</td>\n",
       "      <td>No</td>\n",
       "      <td>45</td>\n",
       "      <td>No</td>\n",
       "      <td>No</td>\n",
       "      <td>Target</td>\n",
       "      <td>Yes</td>\n",
       "      <td>...</td>\n",
       "      <td>Yes</td>\n",
       "      <td>Yes</td>\n",
       "      <td>No</td>\n",
       "      <td>No</td>\n",
       "      <td>One year</td>\n",
       "      <td>No</td>\n",
       "      <td>Millennials</td>\n",
       "      <td>42.30</td>\n",
       "      <td>1840.75</td>\n",
       "      <td>No</td>\n",
       "    </tr>\n",
       "    <tr>\n",
       "      <th>4</th>\n",
       "      <td>9237-HQITU</td>\n",
       "      <td>Female</td>\n",
       "      <td>0</td>\n",
       "      <td>No</td>\n",
       "      <td>No</td>\n",
       "      <td>2</td>\n",
       "      <td>Yes</td>\n",
       "      <td>No</td>\n",
       "      <td>Starbucks</td>\n",
       "      <td>No</td>\n",
       "      <td>...</td>\n",
       "      <td>No</td>\n",
       "      <td>No</td>\n",
       "      <td>No</td>\n",
       "      <td>No</td>\n",
       "      <td>Month-to-month</td>\n",
       "      <td>Yes</td>\n",
       "      <td>Gen Z</td>\n",
       "      <td>70.70</td>\n",
       "      <td>151.65</td>\n",
       "      <td>Yes</td>\n",
       "    </tr>\n",
       "  </tbody>\n",
       "</table>\n",
       "<p>5 rows × 21 columns</p>\n",
       "</div>"
      ],
      "text/plain": [
       "   customerID  gender  SeniorCitizen Partner Dependents  tenure  \\\n",
       "0  7590-VHVEG  Female              0     Yes         No       1   \n",
       "1  5575-GNVDE    Male              0      No         No      34   \n",
       "2  3668-QPYBK    Male              0      No         No       2   \n",
       "3  7795-CFOCW    Male              0      No         No      45   \n",
       "4  9237-HQITU  Female              0      No         No       2   \n",
       "\n",
       "  MobileOnRecord AddressOnRecord LinkedAccount TwoFactorAuth  ...  \\\n",
       "0             No              No        Target            No  ...   \n",
       "1            Yes              No        Target           Yes  ...   \n",
       "2            Yes              No        Target           Yes  ...   \n",
       "3             No              No        Target           Yes  ...   \n",
       "4            Yes              No     Starbucks            No  ...   \n",
       "\n",
       "  DeviceProtection TechSupport NewsletterSubscribe PaperlessBilling  \\\n",
       "0               No          No                  No               No   \n",
       "1              Yes          No                  No               No   \n",
       "2               No          No                  No               No   \n",
       "3              Yes         Yes                  No               No   \n",
       "4               No          No                  No               No   \n",
       "\n",
       "         Contract LastLogInOneMonth   Generation MonthlyCharges  TotalCharges  \\\n",
       "0  Month-to-month               Yes        Gen Z          29.85         29.85   \n",
       "1        One year                No        Gen X          56.95        1889.5   \n",
       "2  Month-to-month               Yes        Gen X          53.85        108.15   \n",
       "3        One year                No  Millennials          42.30       1840.75   \n",
       "4  Month-to-month               Yes        Gen Z          70.70        151.65   \n",
       "\n",
       "  Churn  \n",
       "0    No  \n",
       "1    No  \n",
       "2   Yes  \n",
       "3    No  \n",
       "4   Yes  \n",
       "\n",
       "[5 rows x 21 columns]"
      ]
     },
     "execution_count": 9,
     "metadata": {},
     "output_type": "execute_result"
    }
   ],
   "source": [
    "df.head()"
   ]
  },
  {
   "cell_type": "markdown",
   "id": "55df0955-9860-4531-b915-955fea7f4a2c",
   "metadata": {},
   "source": [
    "#### Check Null value"
   ]
  },
  {
   "cell_type": "code",
   "execution_count": 10,
   "id": "8b6879e2-6c24-49d6-93e8-e5a5da2de8a7",
   "metadata": {},
   "outputs": [
    {
     "name": "stdout",
     "output_type": "stream",
     "text": [
      "<class 'pandas.core.frame.DataFrame'>\n",
      "RangeIndex: 7043 entries, 0 to 7042\n",
      "Data columns (total 21 columns):\n",
      " #   Column               Non-Null Count  Dtype  \n",
      "---  ------               --------------  -----  \n",
      " 0   customerID           7043 non-null   object \n",
      " 1   gender               7043 non-null   object \n",
      " 2   SeniorCitizen        7043 non-null   int64  \n",
      " 3   Partner              7043 non-null   object \n",
      " 4   Dependents           7043 non-null   object \n",
      " 5   tenure               7043 non-null   int64  \n",
      " 6   MobileOnRecord       7043 non-null   object \n",
      " 7   AddressOnRecord      7043 non-null   object \n",
      " 8   LinkedAccount        7043 non-null   object \n",
      " 9   TwoFactorAuth        7043 non-null   object \n",
      " 10  OnlineBackup         7043 non-null   object \n",
      " 11  DeviceProtection     7043 non-null   object \n",
      " 12  TechSupport          7043 non-null   object \n",
      " 13  NewsletterSubscribe  7043 non-null   object \n",
      " 14  PaperlessBilling     7043 non-null   object \n",
      " 15  Contract             7043 non-null   object \n",
      " 16  LastLogInOneMonth    7043 non-null   object \n",
      " 17  Generation           7043 non-null   object \n",
      " 18  MonthlyCharges       7043 non-null   float64\n",
      " 19  TotalCharges         7043 non-null   object \n",
      " 20  Churn                7043 non-null   object \n",
      "dtypes: float64(1), int64(2), object(18)\n",
      "memory usage: 1.1+ MB\n"
     ]
    }
   ],
   "source": [
    "df.info()"
   ]
  },
  {
   "cell_type": "markdown",
   "id": "f81b5ed1-d9e5-485a-9128-74560dccdc70",
   "metadata": {},
   "source": [
    "#### Check data shape"
   ]
  },
  {
   "cell_type": "code",
   "execution_count": 11,
   "id": "edf41ffa-1f85-4ebc-b5a0-ce916d6381af",
   "metadata": {},
   "outputs": [
    {
     "data": {
      "text/plain": [
       "(7043, 21)"
      ]
     },
     "execution_count": 11,
     "metadata": {},
     "output_type": "execute_result"
    }
   ],
   "source": [
    "df.shape"
   ]
  },
  {
   "cell_type": "code",
   "execution_count": 12,
   "id": "114cfece-63f2-427c-a719-d611ff603ee3",
   "metadata": {},
   "outputs": [
    {
     "data": {
      "text/html": [
       "<div>\n",
       "<style scoped>\n",
       "    .dataframe tbody tr th:only-of-type {\n",
       "        vertical-align: middle;\n",
       "    }\n",
       "\n",
       "    .dataframe tbody tr th {\n",
       "        vertical-align: top;\n",
       "    }\n",
       "\n",
       "    .dataframe thead th {\n",
       "        text-align: right;\n",
       "    }\n",
       "</style>\n",
       "<table border=\"1\" class=\"dataframe\">\n",
       "  <thead>\n",
       "    <tr style=\"text-align: right;\">\n",
       "      <th></th>\n",
       "      <th>SeniorCitizen</th>\n",
       "      <th>tenure</th>\n",
       "      <th>MonthlyCharges</th>\n",
       "    </tr>\n",
       "  </thead>\n",
       "  <tbody>\n",
       "    <tr>\n",
       "      <th>count</th>\n",
       "      <td>7043.000000</td>\n",
       "      <td>7043.000000</td>\n",
       "      <td>7043.000000</td>\n",
       "    </tr>\n",
       "    <tr>\n",
       "      <th>mean</th>\n",
       "      <td>0.162147</td>\n",
       "      <td>32.371149</td>\n",
       "      <td>64.761692</td>\n",
       "    </tr>\n",
       "    <tr>\n",
       "      <th>std</th>\n",
       "      <td>0.368612</td>\n",
       "      <td>24.559481</td>\n",
       "      <td>30.090047</td>\n",
       "    </tr>\n",
       "    <tr>\n",
       "      <th>min</th>\n",
       "      <td>0.000000</td>\n",
       "      <td>0.000000</td>\n",
       "      <td>18.250000</td>\n",
       "    </tr>\n",
       "    <tr>\n",
       "      <th>25%</th>\n",
       "      <td>0.000000</td>\n",
       "      <td>9.000000</td>\n",
       "      <td>35.500000</td>\n",
       "    </tr>\n",
       "    <tr>\n",
       "      <th>50%</th>\n",
       "      <td>0.000000</td>\n",
       "      <td>29.000000</td>\n",
       "      <td>70.350000</td>\n",
       "    </tr>\n",
       "    <tr>\n",
       "      <th>75%</th>\n",
       "      <td>0.000000</td>\n",
       "      <td>55.000000</td>\n",
       "      <td>89.850000</td>\n",
       "    </tr>\n",
       "    <tr>\n",
       "      <th>max</th>\n",
       "      <td>1.000000</td>\n",
       "      <td>72.000000</td>\n",
       "      <td>118.750000</td>\n",
       "    </tr>\n",
       "  </tbody>\n",
       "</table>\n",
       "</div>"
      ],
      "text/plain": [
       "       SeniorCitizen       tenure  MonthlyCharges\n",
       "count    7043.000000  7043.000000     7043.000000\n",
       "mean        0.162147    32.371149       64.761692\n",
       "std         0.368612    24.559481       30.090047\n",
       "min         0.000000     0.000000       18.250000\n",
       "25%         0.000000     9.000000       35.500000\n",
       "50%         0.000000    29.000000       70.350000\n",
       "75%         0.000000    55.000000       89.850000\n",
       "max         1.000000    72.000000      118.750000"
      ]
     },
     "execution_count": 12,
     "metadata": {},
     "output_type": "execute_result"
    }
   ],
   "source": [
    "df.describe()"
   ]
  },
  {
   "cell_type": "markdown",
   "id": "16b5f4d0-c561-47d9-990f-17078e255aa3",
   "metadata": {},
   "source": [
    "#### Check duplicated values"
   ]
  },
  {
   "cell_type": "code",
   "execution_count": 13,
   "id": "440e97ea-a54f-4fe6-bce6-318f6f4d3ef8",
   "metadata": {},
   "outputs": [
    {
     "data": {
      "text/plain": [
       "0"
      ]
     },
     "execution_count": 13,
     "metadata": {},
     "output_type": "execute_result"
    }
   ],
   "source": [
    "df.duplicated().sum()"
   ]
  },
  {
   "cell_type": "markdown",
   "id": "04e97292-d573-4867-b4a0-c36704a47c2d",
   "metadata": {},
   "source": [
    "#### Check data type"
   ]
  },
  {
   "cell_type": "code",
   "execution_count": 14,
   "id": "cd860cdf-a98d-4e33-a439-f305748ca618",
   "metadata": {},
   "outputs": [
    {
     "data": {
      "text/html": [
       "<div>\n",
       "<style scoped>\n",
       "    .dataframe tbody tr th:only-of-type {\n",
       "        vertical-align: middle;\n",
       "    }\n",
       "\n",
       "    .dataframe tbody tr th {\n",
       "        vertical-align: top;\n",
       "    }\n",
       "\n",
       "    .dataframe thead th {\n",
       "        text-align: right;\n",
       "    }\n",
       "</style>\n",
       "<table border=\"1\" class=\"dataframe\">\n",
       "  <thead>\n",
       "    <tr style=\"text-align: right;\">\n",
       "      <th></th>\n",
       "      <th>customerID</th>\n",
       "      <th>gender</th>\n",
       "      <th>SeniorCitizen</th>\n",
       "      <th>Partner</th>\n",
       "      <th>Dependents</th>\n",
       "      <th>tenure</th>\n",
       "      <th>MobileOnRecord</th>\n",
       "      <th>AddressOnRecord</th>\n",
       "      <th>LinkedAccount</th>\n",
       "      <th>TwoFactorAuth</th>\n",
       "      <th>...</th>\n",
       "      <th>DeviceProtection</th>\n",
       "      <th>TechSupport</th>\n",
       "      <th>NewsletterSubscribe</th>\n",
       "      <th>PaperlessBilling</th>\n",
       "      <th>Contract</th>\n",
       "      <th>LastLogInOneMonth</th>\n",
       "      <th>Generation</th>\n",
       "      <th>MonthlyCharges</th>\n",
       "      <th>TotalCharges</th>\n",
       "      <th>Churn</th>\n",
       "    </tr>\n",
       "  </thead>\n",
       "  <tbody>\n",
       "    <tr>\n",
       "      <th>general data types</th>\n",
       "      <td>categorical</td>\n",
       "      <td>categorical</td>\n",
       "      <td>categorical</td>\n",
       "      <td>categorical</td>\n",
       "      <td>categorical</td>\n",
       "      <td>numerical</td>\n",
       "      <td>categorical</td>\n",
       "      <td>categorical</td>\n",
       "      <td>categorical</td>\n",
       "      <td>categorical</td>\n",
       "      <td>...</td>\n",
       "      <td>categorical</td>\n",
       "      <td>categorical</td>\n",
       "      <td>categorical</td>\n",
       "      <td>categorical</td>\n",
       "      <td>categorical</td>\n",
       "      <td>categorical</td>\n",
       "      <td>categorical</td>\n",
       "      <td>numerical</td>\n",
       "      <td>numerical</td>\n",
       "      <td>categorical</td>\n",
       "    </tr>\n",
       "  </tbody>\n",
       "</table>\n",
       "<p>1 rows × 21 columns</p>\n",
       "</div>"
      ],
      "text/plain": [
       "                     customerID       gender SeniorCitizen      Partner  \\\n",
       "general data types  categorical  categorical   categorical  categorical   \n",
       "\n",
       "                     Dependents     tenure MobileOnRecord AddressOnRecord  \\\n",
       "general data types  categorical  numerical    categorical     categorical   \n",
       "\n",
       "                   LinkedAccount TwoFactorAuth  ... DeviceProtection  \\\n",
       "general data types   categorical   categorical  ...      categorical   \n",
       "\n",
       "                    TechSupport NewsletterSubscribe PaperlessBilling  \\\n",
       "general data types  categorical         categorical      categorical   \n",
       "\n",
       "                       Contract LastLogInOneMonth   Generation MonthlyCharges  \\\n",
       "general data types  categorical       categorical  categorical      numerical   \n",
       "\n",
       "                   TotalCharges        Churn  \n",
       "general data types    numerical  categorical  \n",
       "\n",
       "[1 rows x 21 columns]"
      ]
     },
     "execution_count": 14,
     "metadata": {},
     "output_type": "execute_result"
    }
   ],
   "source": [
    "# numerical\n",
    "column_numerical = ['tenure', 'MonthlyCharges', 'TotalCharges']\n",
    "\n",
    "# categorical\n",
    "column_categorical = list(df.columns)\n",
    "column_categorical.remove('tenure')\n",
    "column_categorical.remove('MonthlyCharges')\n",
    "column_categorical.remove('TotalCharges')\n",
    "\n",
    "data_type_general = dict()\n",
    "\n",
    "for col in df.columns:\n",
    "  if col in column_numerical:\n",
    "    data_type_general[col] = 'numerical'\n",
    "  else:\n",
    "    data_type_general[col] = 'categorical'\n",
    "\n",
    "tmp = pd.Series(data_type_general)\n",
    "data_type_general = pd.DataFrame(tmp).T.rename({0:'general data types'})\n",
    "data_type_general"
   ]
  },
  {
   "cell_type": "code",
   "execution_count": 15,
   "id": "dfaf6622-94eb-4d38-99cf-7e88d848b9ed",
   "metadata": {},
   "outputs": [
    {
     "data": {
      "text/html": [
       "<div>\n",
       "<style scoped>\n",
       "    .dataframe tbody tr th:only-of-type {\n",
       "        vertical-align: middle;\n",
       "    }\n",
       "\n",
       "    .dataframe tbody tr th {\n",
       "        vertical-align: top;\n",
       "    }\n",
       "\n",
       "    .dataframe thead th {\n",
       "        text-align: right;\n",
       "    }\n",
       "</style>\n",
       "<table border=\"1\" class=\"dataframe\">\n",
       "  <thead>\n",
       "    <tr style=\"text-align: right;\">\n",
       "      <th></th>\n",
       "      <th>customerID</th>\n",
       "      <th>gender</th>\n",
       "      <th>SeniorCitizen</th>\n",
       "      <th>Partner</th>\n",
       "      <th>Dependents</th>\n",
       "      <th>tenure</th>\n",
       "      <th>MobileOnRecord</th>\n",
       "      <th>AddressOnRecord</th>\n",
       "      <th>LinkedAccount</th>\n",
       "      <th>TwoFactorAuth</th>\n",
       "      <th>...</th>\n",
       "      <th>DeviceProtection</th>\n",
       "      <th>TechSupport</th>\n",
       "      <th>NewsletterSubscribe</th>\n",
       "      <th>PaperlessBilling</th>\n",
       "      <th>Contract</th>\n",
       "      <th>LastLogInOneMonth</th>\n",
       "      <th>Generation</th>\n",
       "      <th>MonthlyCharges</th>\n",
       "      <th>TotalCharges</th>\n",
       "      <th>Churn</th>\n",
       "    </tr>\n",
       "  </thead>\n",
       "  <tbody>\n",
       "    <tr>\n",
       "      <th>python data types</th>\n",
       "      <td>object</td>\n",
       "      <td>object</td>\n",
       "      <td>int64</td>\n",
       "      <td>object</td>\n",
       "      <td>object</td>\n",
       "      <td>int64</td>\n",
       "      <td>object</td>\n",
       "      <td>object</td>\n",
       "      <td>object</td>\n",
       "      <td>object</td>\n",
       "      <td>...</td>\n",
       "      <td>object</td>\n",
       "      <td>object</td>\n",
       "      <td>object</td>\n",
       "      <td>object</td>\n",
       "      <td>object</td>\n",
       "      <td>object</td>\n",
       "      <td>object</td>\n",
       "      <td>float64</td>\n",
       "      <td>object</td>\n",
       "      <td>object</td>\n",
       "    </tr>\n",
       "  </tbody>\n",
       "</table>\n",
       "<p>1 rows × 21 columns</p>\n",
       "</div>"
      ],
      "text/plain": [
       "                  customerID  gender SeniorCitizen Partner Dependents tenure  \\\n",
       "python data types     object  object         int64  object     object  int64   \n",
       "\n",
       "                  MobileOnRecord AddressOnRecord LinkedAccount TwoFactorAuth  \\\n",
       "python data types         object          object        object        object   \n",
       "\n",
       "                   ... DeviceProtection TechSupport NewsletterSubscribe  \\\n",
       "python data types  ...           object      object              object   \n",
       "\n",
       "                  PaperlessBilling Contract LastLogInOneMonth Generation  \\\n",
       "python data types           object   object            object     object   \n",
       "\n",
       "                  MonthlyCharges TotalCharges   Churn  \n",
       "python data types        float64       object  object  \n",
       "\n",
       "[1 rows x 21 columns]"
      ]
     },
     "execution_count": 15,
     "metadata": {},
     "output_type": "execute_result"
    }
   ],
   "source": [
    "data_type = pd.DataFrame(df.dtypes).T.rename({0:'python data types'})\n",
    "data_type"
   ]
  },
  {
   "cell_type": "markdown",
   "id": "cf1f7d8c-986d-4c4b-ac4d-52cf348b3469",
   "metadata": {},
   "source": [
    "#### Check numerical data"
   ]
  },
  {
   "cell_type": "code",
   "execution_count": 16,
   "id": "21d2d545-7f23-4752-afd4-697701d6b481",
   "metadata": {},
   "outputs": [
    {
     "data": {
      "text/html": [
       "<div>\n",
       "<style scoped>\n",
       "    .dataframe tbody tr th:only-of-type {\n",
       "        vertical-align: middle;\n",
       "    }\n",
       "\n",
       "    .dataframe tbody tr th {\n",
       "        vertical-align: top;\n",
       "    }\n",
       "\n",
       "    .dataframe thead th {\n",
       "        text-align: right;\n",
       "    }\n",
       "</style>\n",
       "<table border=\"1\" class=\"dataframe\">\n",
       "  <thead>\n",
       "    <tr style=\"text-align: right;\">\n",
       "      <th></th>\n",
       "      <th>tenure</th>\n",
       "      <th>MonthlyCharges</th>\n",
       "      <th>TotalCharges</th>\n",
       "    </tr>\n",
       "  </thead>\n",
       "  <tbody>\n",
       "    <tr>\n",
       "      <th>data variation</th>\n",
       "      <td>0 - 72</td>\n",
       "      <td>18.25 - 118.75</td>\n",
       "      <td>- 999.9</td>\n",
       "    </tr>\n",
       "  </tbody>\n",
       "</table>\n",
       "</div>"
      ],
      "text/plain": [
       "                tenure  MonthlyCharges TotalCharges\n",
       "data variation  0 - 72  18.25 - 118.75      - 999.9"
      ]
     },
     "execution_count": 16,
     "metadata": {},
     "output_type": "execute_result"
    }
   ],
   "source": [
    "variation_numerical = dict()\n",
    "\n",
    "for col in column_numerical:\n",
    "  tmp = f'{df[col].min()} - {df[col].max()}'\n",
    "  variation_numerical[col] = tmp\n",
    "\n",
    "tmp = pd.Series(variation_numerical)\n",
    "data_variation_numerical = pd.DataFrame(tmp).T.rename({0:'data variation'})\n",
    "data_variation_numerical"
   ]
  },
  {
   "cell_type": "markdown",
   "id": "1342653f-f902-468f-9270-5729b413b3b9",
   "metadata": {},
   "source": [
    "#### Check categorical data"
   ]
  },
  {
   "cell_type": "code",
   "execution_count": 17,
   "id": "aab8cb37-e024-4a57-accb-7101c62db039",
   "metadata": {},
   "outputs": [
    {
     "data": {
      "text/html": [
       "<div>\n",
       "<style scoped>\n",
       "    .dataframe tbody tr th:only-of-type {\n",
       "        vertical-align: middle;\n",
       "    }\n",
       "\n",
       "    .dataframe tbody tr th {\n",
       "        vertical-align: top;\n",
       "    }\n",
       "\n",
       "    .dataframe thead th {\n",
       "        text-align: right;\n",
       "    }\n",
       "</style>\n",
       "<table border=\"1\" class=\"dataframe\">\n",
       "  <thead>\n",
       "    <tr style=\"text-align: right;\">\n",
       "      <th></th>\n",
       "      <th>customerID</th>\n",
       "      <th>gender</th>\n",
       "      <th>SeniorCitizen</th>\n",
       "      <th>Partner</th>\n",
       "      <th>Dependents</th>\n",
       "      <th>MobileOnRecord</th>\n",
       "      <th>AddressOnRecord</th>\n",
       "      <th>LinkedAccount</th>\n",
       "      <th>TwoFactorAuth</th>\n",
       "      <th>OnlineBackup</th>\n",
       "      <th>DeviceProtection</th>\n",
       "      <th>TechSupport</th>\n",
       "      <th>NewsletterSubscribe</th>\n",
       "      <th>PaperlessBilling</th>\n",
       "      <th>Contract</th>\n",
       "      <th>LastLogInOneMonth</th>\n",
       "      <th>Generation</th>\n",
       "      <th>Churn</th>\n",
       "    </tr>\n",
       "  </thead>\n",
       "  <tbody>\n",
       "    <tr>\n",
       "      <th>data variation</th>\n",
       "      <td>0002-ORFBO, 0003-MKNFE, 0004-TLHLJ, 0011-IGKFF...</td>\n",
       "      <td>Female, Male</td>\n",
       "      <td>0, 1</td>\n",
       "      <td>No, Yes</td>\n",
       "      <td>No, Yes</td>\n",
       "      <td>No, Yes</td>\n",
       "      <td>No, Yes</td>\n",
       "      <td>Amazon, Starbucks, Target</td>\n",
       "      <td>No, Yes</td>\n",
       "      <td>No, Yes</td>\n",
       "      <td>No, Yes</td>\n",
       "      <td>No, Yes</td>\n",
       "      <td>No, Yes</td>\n",
       "      <td>No, Yes</td>\n",
       "      <td>Month-to-month, One year, Two year</td>\n",
       "      <td>No, Yes</td>\n",
       "      <td>Boomers, Gen X, Gen Z, Millennials</td>\n",
       "      <td>No, Yes</td>\n",
       "    </tr>\n",
       "  </tbody>\n",
       "</table>\n",
       "</div>"
      ],
      "text/plain": [
       "                                                       customerID  \\\n",
       "data variation  0002-ORFBO, 0003-MKNFE, 0004-TLHLJ, 0011-IGKFF...   \n",
       "\n",
       "                      gender SeniorCitizen  Partner Dependents MobileOnRecord  \\\n",
       "data variation  Female, Male          0, 1  No, Yes    No, Yes        No, Yes   \n",
       "\n",
       "               AddressOnRecord              LinkedAccount TwoFactorAuth  \\\n",
       "data variation         No, Yes  Amazon, Starbucks, Target       No, Yes   \n",
       "\n",
       "               OnlineBackup DeviceProtection TechSupport NewsletterSubscribe  \\\n",
       "data variation      No, Yes          No, Yes     No, Yes             No, Yes   \n",
       "\n",
       "               PaperlessBilling                            Contract  \\\n",
       "data variation          No, Yes  Month-to-month, One year, Two year   \n",
       "\n",
       "               LastLogInOneMonth                          Generation    Churn  \n",
       "data variation           No, Yes  Boomers, Gen X, Gen Z, Millennials  No, Yes  "
      ]
     },
     "execution_count": 17,
     "metadata": {},
     "output_type": "execute_result"
    }
   ],
   "source": [
    "variation_categorical = dict()\n",
    "\n",
    "for col in column_categorical:\n",
    "  tmp = df[col].unique().tolist()\n",
    "  tmp.sort()\n",
    "  variation_categorical[col] = ', '.join(str(item) for item in tmp)\n",
    "\n",
    "tmp = pd.Series(variation_categorical)\n",
    "data_variation_categorical = pd.DataFrame(tmp).T.rename({0:'data variation'})\n",
    "data_variation_categorical"
   ]
  },
  {
   "cell_type": "markdown",
   "id": "d40bd973-b6fc-4fbc-a84c-ae5153999a3e",
   "metadata": {},
   "source": [
    "### 3. Exploratory data analysis (EDA)"
   ]
  },
  {
   "cell_type": "code",
   "execution_count": 18,
   "id": "c6f4ec14-efc3-4540-a4c3-e04b3f8019c5",
   "metadata": {},
   "outputs": [],
   "source": [
    "# numerical\n",
    "column_numerical = ['tenure', 'MonthlyCharges', 'TotalCharges']\n",
    "\n",
    "# categorical\n",
    "column_categorical = list(df.columns)\n",
    "column_categorical.remove('tenure')\n",
    "column_categorical.remove('MonthlyCharges')\n",
    "column_categorical.remove('TotalCharges')\n",
    "\n",
    "# only contains input features\n",
    "column_categorical.remove('Churn')"
   ]
  },
  {
   "cell_type": "code",
   "execution_count": 19,
   "id": "3600d143-1653-4303-9891-b55991b4daff",
   "metadata": {},
   "outputs": [],
   "source": [
    "data_viz = df.copy()\n",
    "data_viz.loc[:,'Churn'] = data_viz.loc[:, 'Churn'].apply(lambda x: 'churn' if x == 'Yes' else 'retain')"
   ]
  },
  {
   "cell_type": "markdown",
   "id": "870576c1-0f40-480f-af77-6d6c0827d0e0",
   "metadata": {},
   "source": [
    "#### Visualization function"
   ]
  },
  {
   "cell_type": "code",
   "execution_count": 20,
   "id": "b50a907b-9994-4d62-851b-b300c05cbc18",
   "metadata": {},
   "outputs": [],
   "source": [
    "def stacked_bar_plot(data, x, y, orient='horizontal', ax=None, show=True):\n",
    "  # create axis if not present\n",
    "  if ax == None:\n",
    "    _, ax = plt.subplots(figsize=(8,6))\n",
    "  \n",
    "  # create crosstab based on the input data\n",
    "  crosstab = pd.crosstab(index=data[x], columns=data[y], normalize='index')\n",
    "  crosstab = crosstab.reindex(['retain', 'churn'], axis=1)\n",
    "\n",
    "  # visualize stacked barplot\n",
    "  if orient == 'vertical':\n",
    "    # order in descending (the highest value on the left)\n",
    "    crosstab = crosstab.sort_values('churn', ascending=False)\n",
    "    crosstab.plot(kind='bar', stacked=True, ax=ax)\n",
    "\n",
    "    # add percentage label\n",
    "    for i, index in enumerate(crosstab.index):\n",
    "        for (proportion, y_loc) in zip(crosstab.loc[index], crosstab.loc[index].cumsum()):\n",
    "          ax.text(x=i,\n",
    "                  y=(y_loc - proportion) + (proportion / 2),\n",
    "                  s=f'{proportion*100:.1f}%',\n",
    "                  color='white',\n",
    "                  fontsize=14,\n",
    "                  fontweight='bold',\n",
    "                  horizontalalignment='center',\n",
    "                  verticalalignment='center')\n",
    "    # remove tick labels\n",
    "    ax.set_yticklabels([])\n",
    "  else: # default is horizontal bar plot, even if the orient input is an arbitrary value\n",
    "    # orient in ascending (the highest value on the top)\n",
    "    crosstab = crosstab.sort_values('churn', ascending=True)\n",
    "    crosstab.plot(kind='barh', stacked=True, ax=ax)\n",
    "\n",
    "    # add percentage label\n",
    "    for i, index in enumerate(crosstab.index):\n",
    "        for (proportion, x_loc) in zip(crosstab.loc[index], crosstab.loc[index].cumsum()):\n",
    "          ax.text(y=i,\n",
    "                  x=(x_loc - proportion) + (proportion / 2),\n",
    "                  s=f'{proportion*100:.1f}%',\n",
    "                  color='white',\n",
    "                  fontsize=14,\n",
    "                  fontweight='bold',\n",
    "                  horizontalalignment='center',\n",
    "                  verticalalignment='center')\n",
    "    # remove tick labels\n",
    "    ax.set_xticklabels([])\n",
    "\n",
    "  x_titleize = inflection.titleize(x)\n",
    "  ax.set_title(f'Customer Churn Probability by {x_titleize}')      \n",
    "  ax.set_xlabel('')\n",
    "  ax.set_ylabel('')\n",
    "  ax.legend(loc='center left', bbox_to_anchor=(1, 0.5), title='', frameon=False)\n",
    "  # ax.legend(loc='lower center', bbox_to_anchor=(0.5, 1), title='', ncol=2, frameon=False)\n",
    "  sns.despine(left=True, bottom=True)\n",
    "\n",
    "  if show:\n",
    "    plt.show()"
   ]
  },
  {
   "cell_type": "markdown",
   "id": "56606fd2-34a3-4b72-ad54-9f87b09854f5",
   "metadata": {},
   "source": [
    "#### Check target distribution (churn %)"
   ]
  },
  {
   "cell_type": "code",
   "execution_count": 21,
   "id": "5d528ecc-9fc0-449e-96f1-101316990620",
   "metadata": {},
   "outputs": [
    {
     "data": {
      "image/png": "[encoded data removed]",
      "text/plain": [
       "<Figure size 576x432 with 1 Axes>"
      ]
     },
     "metadata": {},
     "output_type": "display_data"
    }
   ],
   "source": [
    "pie_data = data_viz['Churn'].value_counts(normalize=True).values * 100\n",
    "pie_label = data_viz['Churn'].value_counts(normalize=True).index.to_list()\n",
    "\n",
    "fig, ax = plt.subplots(figsize=(8,6))\n",
    "\n",
    "wedges, texts, autotexts = ax.pie(pie_data, labels=pie_label,\n",
    "                                  startangle=90, explode=[0, 0.1],\n",
    "                                  autopct='%.0f%%',\n",
    "                                  textprops={'color':'w', 'fontsize':16, 'weight':'bold'})\n",
    "\n",
    "for i, wedge in enumerate(wedges):\n",
    "  texts[i].set_color(wedge.get_facecolor())\n",
    "\n",
    "plt.tight_layout()\n",
    "plt.show()"
   ]
  },
  {
   "cell_type": "markdown",
   "id": "c1c6da3b-4796-4f35-8107-1921e71dca3c",
   "metadata": {},
   "source": [
    "#### Understand how churn might happen"
   ]
  },
  {
   "cell_type": "code",
   "execution_count": 22,
   "id": "32937803-ef62-41a7-b7a2-5ec343605225",
   "metadata": {},
   "outputs": [
    {
     "data": {
      "image/png": "[encoded data removed]",
      "text/plain": [
       "<Figure size 576x432 with 1 Axes>"
      ]
     },
     "metadata": {
      "needs_background": "light"
     },
     "output_type": "display_data"
    }
   ],
   "source": [
    "fig, ax = plt.subplots(figsize=(8,6))\n",
    "stacked_bar_plot(data=data_viz, x='gender', y='Churn', ax=ax)"
   ]
  },
  {
   "cell_type": "code",
   "execution_count": 23,
   "id": "7a6a9b9f-4af1-4193-976d-49f920b22a13",
   "metadata": {},
   "outputs": [
    {
     "data": {
      "image/png": "[encoded data removed]",
      "text/plain": [
       "<Figure size 576x432 with 1 Axes>"
      ]
     },
     "metadata": {
      "needs_background": "light"
     },
     "output_type": "display_data"
    }
   ],
   "source": [
    "fig, ax = plt.subplots(figsize=(8,6))\n",
    "stacked_bar_plot(data=data_viz, x='SeniorCitizen', y='Churn', ax=ax)"
   ]
  },
  {
   "cell_type": "markdown",
   "id": "44d02366-f4df-4584-8b62-42e9ba65c4a4",
   "metadata": {},
   "source": [
    "#### Churn probability by tenure"
   ]
  },
  {
   "cell_type": "code",
   "execution_count": 24,
   "id": "f8a47f2d-183c-4a0b-90af-56ab1bb0c95b",
   "metadata": {},
   "outputs": [
    {
     "data": {
      "image/png": "[encoded data removed]",
      "text/plain": [
       "<Figure size 576x432 with 1 Axes>"
      ]
     },
     "metadata": {
      "needs_background": "light"
     },
     "output_type": "display_data"
    }
   ],
   "source": [
    "fig, ax = plt.subplots(figsize=(8, 6))\n",
    "ax.grid(False, axis='x')\n",
    "sns.kdeplot(data=data_viz, x='tenure', hue='Churn', multiple='fill', linewidth=3, ax=ax, alpha=0.9)\n",
    "sns.move_legend(ax, \"lower center\", bbox_to_anchor=(.5, 1), title='', ncol=2, frameon=False)\n",
    "\n",
    "ax.set_xticks(np.arange(0,data_viz['tenure'].max(),10))\n",
    "ax.set_xlim(data_viz['tenure'].min(),data_viz['tenure'].max())\n",
    "\n",
    "ax.set_yticks(np.linspace(0,1,5))\n",
    "ax.set_ylabel('probability')\n",
    "\n",
    "sns.despine(left=True, bottom=True)\n",
    "\n",
    "# ax.axis('tight')\n",
    "plt.show()"
   ]
  },
  {
   "cell_type": "markdown",
   "id": "4c9807bf-77a0-413a-a1d9-aa21b339b39d",
   "metadata": {},
   "source": [
    "#### Tenure by contract type"
   ]
  },
  {
   "cell_type": "code",
   "execution_count": 25,
   "id": "e802e122-5fed-40f2-a6e3-9391aab0d58a",
   "metadata": {},
   "outputs": [
    {
     "data": {
      "image/png": "[encoded data removed]",
      "text/plain": [
       "<Figure size 576x432 with 1 Axes>"
      ]
     },
     "metadata": {
      "needs_background": "light"
     },
     "output_type": "display_data"
    }
   ],
   "source": [
    "fig, ax = plt.subplots(figsize=(8, 6))\n",
    "\n",
    "sns.histplot(data=data_viz, x='tenure', hue='Contract', stat='percent', multiple='dodge', ax=ax, binwidth=5, alpha=0.8)\n",
    "sns.move_legend(ax, \"lower center\", bbox_to_anchor=(0.5, 1), ncol=3, title='', frameon=False)\n",
    "\n",
    "sns.despine()  \n",
    "plt.show()"
   ]
  },
  {
   "cell_type": "code",
   "execution_count": null,
   "id": "70449c2f-6837-458e-8ee2-f68d24321800",
   "metadata": {},
   "outputs": [],
   "source": []
  }
 ],
 "metadata": {
  "kernelspec": {
   "display_name": "Python 3 (ipykernel)",
   "language": "python",
   "name": "python3"
  },
  "language_info": {
   "codemirror_mode": {
    "name": "ipython",
    "version": 3
   },
   "file_extension": ".py",
   "mimetype": "text/x-python",
   "name": "python",
   "nbconvert_exporter": "python",
   "pygments_lexer": "ipython3",
   "version": "3.9.12"
  }
 },
 "nbformat": 4,
 "nbformat_minor": 5
}
