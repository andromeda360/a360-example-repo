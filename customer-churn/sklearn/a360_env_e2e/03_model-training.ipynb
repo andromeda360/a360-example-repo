{
 "cells": [
  {
   "cell_type": "markdown",
   "id": "f4e0a1d7-65ea-4920-b015-26003ef031c0",
   "metadata": {},
   "source": [
    "## 3. Model Training"
   ]
  },
  {
   "cell_type": "markdown",
   "id": "f2d8cfc6-74c6-4123-bfc7-50f5be014275",
   "metadata": {},
   "source": [
    "#### A360 MDK interface"
   ]
  },
  {
   "cell_type": "code",
   "execution_count": 1,
   "id": "d231ef6b-88de-4acf-addf-23126434205a",
   "metadata": {},
   "outputs": [
    {
     "data": {
      "text/plain": [
       "<A360 AI Interface for project: Customer Churn>"
      ]
     },
     "execution_count": 1,
     "metadata": {},
     "output_type": "execute_result"
    }
   ],
   "source": [
    "a360ai"
   ]
  },
  {
   "cell_type": "code",
   "execution_count": 2,
   "id": "905fc214-d507-445d-af8a-d05afdbef347",
   "metadata": {},
   "outputs": [
    {
     "data": {
      "text/plain": [
       "'Customer Churn'"
      ]
     },
     "execution_count": 2,
     "metadata": {},
     "output_type": "execute_result"
    }
   ],
   "source": [
    "# Get default data repo\n",
    "DATAREPO_LIST = a360ai.list_datarepos()\n",
    "DATAREPO = DATAREPO_LIST['name'][0]\n",
    "DATAREPO"
   ]
  },
  {
   "cell_type": "code",
   "execution_count": 3,
   "id": "b3853539-5e16-4fb6-ae7a-ff25ab52c647",
   "metadata": {},
   "outputs": [],
   "source": [
    "import numpy as np\n",
    "import pandas as pd\n",
    "\n",
    "from sklearn.model_selection import train_test_split\n",
    "from sklearn.metrics import r2_score\n",
    "from sklearn.metrics import mean_squared_error\n",
    "from sklearn.preprocessing import StandardScaler\n",
    "from sklearn.ensemble import RandomForestClassifier"
   ]
  },
  {
   "cell_type": "code",
   "execution_count": 4,
   "id": "3e4a42f2-f41e-40e9-acd3-a943eabbb68d",
   "metadata": {},
   "outputs": [],
   "source": [
    "import warnings\n",
    "warnings.filterwarnings('ignore')"
   ]
  },
  {
   "cell_type": "markdown",
   "id": "7de8f3c6-6ce5-4e6d-b66d-025cf2be0ccf",
   "metadata": {},
   "source": [
    "### 1. Set Default Data Repo and load data"
   ]
  },
  {
   "cell_type": "code",
   "execution_count": 5,
   "id": "c48e4f41-a024-4791-82bd-c0381cc55c79",
   "metadata": {},
   "outputs": [],
   "source": [
    "a360ai.set_default_datarepo(DATAREPO)"
   ]
  },
  {
   "cell_type": "code",
   "execution_count": 6,
   "id": "e80b56d3-1f6c-4f23-85c4-ca81a34d1211",
   "metadata": {},
   "outputs": [
    {
     "data": {
      "text/html": [
       "<div>\n",
       "<style scoped>\n",
       "    .dataframe tbody tr th:only-of-type {\n",
       "        vertical-align: middle;\n",
       "    }\n",
       "\n",
       "    .dataframe tbody tr th {\n",
       "        vertical-align: top;\n",
       "    }\n",
       "\n",
       "    .dataframe thead th {\n",
       "        text-align: right;\n",
       "    }\n",
       "</style>\n",
       "<table border=\"1\" class=\"dataframe\">\n",
       "  <thead>\n",
       "    <tr style=\"text-align: right;\">\n",
       "      <th></th>\n",
       "      <th>base_name</th>\n",
       "      <th>extension</th>\n",
       "      <th>size</th>\n",
       "    </tr>\n",
       "  </thead>\n",
       "  <tbody>\n",
       "    <tr>\n",
       "      <th>1</th>\n",
       "      <td>Reward-Customer-Churn.csv</td>\n",
       "      <td>csv</td>\n",
       "      <td>736215.0</td>\n",
       "    </tr>\n",
       "    <tr>\n",
       "      <th>2</th>\n",
       "      <td>X.parquet</td>\n",
       "      <td>parquet</td>\n",
       "      <td>174436.0</td>\n",
       "    </tr>\n",
       "    <tr>\n",
       "      <th>3</th>\n",
       "      <td>X_drift.parquet</td>\n",
       "      <td>parquet</td>\n",
       "      <td>25692.0</td>\n",
       "    </tr>\n",
       "    <tr>\n",
       "      <th>4</th>\n",
       "      <td>y.parquet</td>\n",
       "      <td>parquet</td>\n",
       "      <td>42876.0</td>\n",
       "    </tr>\n",
       "  </tbody>\n",
       "</table>\n",
       "</div>"
      ],
      "text/plain": [
       "                   base_name extension      size\n",
       "1  Reward-Customer-Churn.csv       csv  736215.0\n",
       "2                  X.parquet   parquet  174436.0\n",
       "3            X_drift.parquet   parquet   25692.0\n",
       "4                  y.parquet   parquet   42876.0"
      ]
     },
     "execution_count": 6,
     "metadata": {},
     "output_type": "execute_result"
    }
   ],
   "source": [
    "a360ai.list_datasets()"
   ]
  },
  {
   "cell_type": "code",
   "execution_count": 7,
   "id": "5947c40c-2195-4c46-9026-b77e67691dfa",
   "metadata": {},
   "outputs": [],
   "source": [
    "X = a360ai.load_dataset(\"X.parquet\")\n",
    "y = a360ai.load_dataset(\"y.parquet\")"
   ]
  },
  {
   "cell_type": "markdown",
   "id": "9b9c2751-ac4c-4b1b-b465-dd840c577b8c",
   "metadata": {},
   "source": [
    "### 2. Model training"
   ]
  },
  {
   "cell_type": "code",
   "execution_count": 8,
   "id": "0afe7938-8663-4ba3-b70c-6c8295113fc4",
   "metadata": {},
   "outputs": [],
   "source": [
    "X_train, X_test, y_train, y_test = train_test_split(X,y,test_size=0.2,random_state=5)"
   ]
  },
  {
   "cell_type": "code",
   "execution_count": 9,
   "id": "cc0c3eda-9956-429a-ae52-dbc95cd95dfc",
   "metadata": {},
   "outputs": [],
   "source": [
    "# feature scaling\n",
    "from sklearn.preprocessing import StandardScaler\n",
    "sc = StandardScaler()\n",
    "X_train = sc.fit_transform(X_train)\n",
    "X_test = sc.transform(X_test)"
   ]
  },
  {
   "cell_type": "markdown",
   "id": "c865f820-c3ca-49c4-8179-d9cdb97f18a1",
   "metadata": {},
   "source": [
    "#### Use a360ai MDK to track model experiments"
   ]
  },
  {
   "cell_type": "code",
   "execution_count": 10,
   "id": "3bdc6e84-14bf-442e-8bee-54ec979af7c9",
   "metadata": {},
   "outputs": [],
   "source": [
    "model = a360ai.get_or_create_model(model_name=f\"churn_pred_2\")"
   ]
  },
  {
   "cell_type": "code",
   "execution_count": 11,
   "id": "2419bd90-76cf-4ac1-8492-79966c252ad5",
   "metadata": {},
   "outputs": [
    {
     "name": "stdout",
     "output_type": "stream",
     "text": [
      "\n",
      "//-- Experiment Loaded --//\n",
      "Model Name: churn_pred_2\n",
      "Experiment Name: churn_pred_RF\n",
      "Final Run Id: None\n",
      "Model Flavor: sklearn\n",
      "Input Signature: ndarray: float64 (26,)\n",
      "Output Signature: Churn big_integer\n",
      "Data Exploration File: /home/jovyan/01_exploratory-data-analysis.ipynb\n",
      "Data Preparation File: /home/jovyan/02_data-preprocessing.ipynb\n",
      "Model Training File: /home/jovyan/03_model-training.ipynb\n",
      "Drift Monitoring Enabled: True\n",
      "\n"
     ]
    }
   ],
   "source": [
    "experiment = model.get_or_create_experiment(\n",
    "    experiment_name = f\"churn_pred_RF\",\n",
    "    model_flavor = \"sklearn\",\n",
    "    enable_drift_monitoring=True,\n",
    "    train_features=X_train,\n",
    "    train_target=y_train,\n",
    "    feature_names=list(X.columns),\n",
    "    data_exploration_file=\"/home/jovyan/01_exploratory-data-analysis.ipynb\",\n",
    "    data_preparation_file=\"/home/jovyan/02_data-preprocessing.ipynb\",\n",
    "    model_training_file=\"/home/jovyan/03_model-training.ipynb\",\n",
    ")"
   ]
  },
  {
   "cell_type": "code",
   "execution_count": 12,
   "id": "a55dac58-d680-4ca3-9e53-6ab3f713fe13",
   "metadata": {},
   "outputs": [
    {
     "data": {
      "text/html": [
       "<div>\n",
       "<style scoped>\n",
       "    .dataframe tbody tr th:only-of-type {\n",
       "        vertical-align: middle;\n",
       "    }\n",
       "\n",
       "    .dataframe tbody tr th {\n",
       "        vertical-align: top;\n",
       "    }\n",
       "\n",
       "    .dataframe thead th {\n",
       "        text-align: right;\n",
       "    }\n",
       "</style>\n",
       "<table border=\"1\" class=\"dataframe\">\n",
       "  <thead>\n",
       "    <tr style=\"text-align: right;\">\n",
       "      <th></th>\n",
       "      <th>id</th>\n",
       "      <th>bestRun</th>\n",
       "      <th>model_id</th>\n",
       "      <th>experiment_name</th>\n",
       "      <th>best_run_id</th>\n",
       "      <th>model_flavor</th>\n",
       "      <th>input_signature</th>\n",
       "      <th>output_signature</th>\n",
       "      <th>data_exploration_file</th>\n",
       "      <th>data_preparation_file</th>\n",
       "      <th>model_training_file</th>\n",
       "      <th>baseline</th>\n",
       "      <th>train_shape</th>\n",
       "      <th>model_name</th>\n",
       "      <th>updated_at</th>\n",
       "    </tr>\n",
       "  </thead>\n",
       "  <tbody>\n",
       "    <tr>\n",
       "      <th>0</th>\n",
       "      <td>c36557f2-e0d8-464a-9b44-a9fa63bd74ef</td>\n",
       "      <td>{'id': 'ff9f7ee1-766b-411d-ae07-f5d281124ca2',...</td>\n",
       "      <td>6605fc6f-81c9-4f0c-a32f-58bea3b6ae3b</td>\n",
       "      <td>churn_pred_RF_2</td>\n",
       "      <td>ff9f7ee1-766b-411d-ae07-f5d281124ca2</td>\n",
       "      <td>sklearn</td>\n",
       "      <td>ndarray: float64 (26,)</td>\n",
       "      <td>Churn big_integer</td>\n",
       "      <td>/home/jovyan/01_exploratory-data-analysis.ipynb</td>\n",
       "      <td>/home/jovyan/02_data-preprocessing.ipynb</td>\n",
       "      <td>/home/jovyan/03_model-training.ipynb</td>\n",
       "      <td>{'gender': {'mean': -7.200166389035681e-17, 's...</td>\n",
       "      <td>[26]</td>\n",
       "      <td>churn_pred_2</td>\n",
       "      <td>2022-06-24 03:36</td>\n",
       "    </tr>\n",
       "    <tr>\n",
       "      <th>1</th>\n",
       "      <td>c4efb3df-eb82-4f5d-b4d8-6e698a90019c</td>\n",
       "      <td>None</td>\n",
       "      <td>6605fc6f-81c9-4f0c-a32f-58bea3b6ae3b</td>\n",
       "      <td>churn_pred_RF</td>\n",
       "      <td>None</td>\n",
       "      <td>sklearn</td>\n",
       "      <td>ndarray: float64 (26,)</td>\n",
       "      <td>Churn big_integer</td>\n",
       "      <td>/home/jovyan/01_exploratory-data-analysis.ipynb</td>\n",
       "      <td>/home/jovyan/02_data-preprocessing.ipynb</td>\n",
       "      <td>/home/jovyan/03_model-training.ipynb</td>\n",
       "      <td>{'gender': {'mean': -7.200166389035681e-17, 's...</td>\n",
       "      <td>[26]</td>\n",
       "      <td>churn_pred_2</td>\n",
       "      <td>2022-06-24 03:36</td>\n",
       "    </tr>\n",
       "  </tbody>\n",
       "</table>\n",
       "</div>"
      ],
      "text/plain": [
       "                                     id  \\\n",
       "0  c36557f2-e0d8-464a-9b44-a9fa63bd74ef   \n",
       "1  c4efb3df-eb82-4f5d-b4d8-6e698a90019c   \n",
       "\n",
       "                                             bestRun  \\\n",
       "0  {'id': 'ff9f7ee1-766b-411d-ae07-f5d281124ca2',...   \n",
       "1                                               None   \n",
       "\n",
       "                               model_id  experiment_name  \\\n",
       "0  6605fc6f-81c9-4f0c-a32f-58bea3b6ae3b  churn_pred_RF_2   \n",
       "1  6605fc6f-81c9-4f0c-a32f-58bea3b6ae3b    churn_pred_RF   \n",
       "\n",
       "                            best_run_id model_flavor         input_signature  \\\n",
       "0  ff9f7ee1-766b-411d-ae07-f5d281124ca2      sklearn  ndarray: float64 (26,)   \n",
       "1                                  None      sklearn  ndarray: float64 (26,)   \n",
       "\n",
       "    output_signature                            data_exploration_file  \\\n",
       "0  Churn big_integer  /home/jovyan/01_exploratory-data-analysis.ipynb   \n",
       "1  Churn big_integer  /home/jovyan/01_exploratory-data-analysis.ipynb   \n",
       "\n",
       "                      data_preparation_file  \\\n",
       "0  /home/jovyan/02_data-preprocessing.ipynb   \n",
       "1  /home/jovyan/02_data-preprocessing.ipynb   \n",
       "\n",
       "                    model_training_file  \\\n",
       "0  /home/jovyan/03_model-training.ipynb   \n",
       "1  /home/jovyan/03_model-training.ipynb   \n",
       "\n",
       "                                            baseline train_shape  \\\n",
       "0  {'gender': {'mean': -7.200166389035681e-17, 's...        [26]   \n",
       "1  {'gender': {'mean': -7.200166389035681e-17, 's...        [26]   \n",
       "\n",
       "     model_name        updated_at  \n",
       "0  churn_pred_2  2022-06-24 03:36  \n",
       "1  churn_pred_2  2022-06-24 03:36  "
      ]
     },
     "execution_count": 12,
     "metadata": {},
     "output_type": "execute_result"
    }
   ],
   "source": [
    "experiments = model.list_experiments()\n",
    "experiments"
   ]
  },
  {
   "cell_type": "code",
   "execution_count": 13,
   "id": "b4bdddff-d2a3-4b73-881f-6711a4be0431",
   "metadata": {},
   "outputs": [
    {
     "name": "stdout",
     "output_type": "stream",
     "text": [
      "Run 1 Complete!\n",
      "Run 2 Complete!\n",
      "Run 3 Complete!\n",
      "Run 4 Complete!\n",
      "Run 5 Complete!\n",
      "Run 6 Complete!\n"
     ]
    }
   ],
   "source": [
    "count = 1\n",
    "for n in [25,50,75,100,125,150]:\n",
    "    with experiment.run_experiment() as run:\n",
    "    \n",
    "        hyperparams = {\n",
    "            \"n_estimators\": n,\n",
    "            \"max_depth\": 6            \n",
    "        }\n",
    "    \n",
    "        rf = RandomForestClassifier(**hyperparams)\n",
    "        rf.fit(X_train, y_train)\n",
    "        train_score = rf.score(X_train, y_train)\n",
    "        test_score = rf.score(X_test, y_test)\n",
    "\n",
    "        metrics = {\n",
    "            \"train_score\": train_score,\n",
    "            \"test_score\": test_score,\n",
    "        }\n",
    "\n",
    "        run.log_metrics(metrics)\n",
    "        run.log_hyperparameters(hyperparams)\n",
    "        run.log_model(rf)\n",
    "        \n",
    "        print(\"Run \" + str(count) + \" Complete!\")\n",
    "        count = count + 1 "
   ]
  },
  {
   "cell_type": "code",
   "execution_count": 14,
   "id": "d587113f-67f7-45fd-b658-da536be0df8e",
   "metadata": {},
   "outputs": [
    {
     "data": {
      "text/html": [
       "<div>\n",
       "<style scoped>\n",
       "    .dataframe tbody tr th:only-of-type {\n",
       "        vertical-align: middle;\n",
       "    }\n",
       "\n",
       "    .dataframe tbody tr th {\n",
       "        vertical-align: top;\n",
       "    }\n",
       "\n",
       "    .dataframe thead th {\n",
       "        text-align: right;\n",
       "    }\n",
       "</style>\n",
       "<table border=\"1\" class=\"dataframe\">\n",
       "  <thead>\n",
       "    <tr style=\"text-align: right;\">\n",
       "      <th></th>\n",
       "      <th>id</th>\n",
       "      <th>dataset</th>\n",
       "      <th>artifact_paths</th>\n",
       "      <th>metric_test_score</th>\n",
       "      <th>metric_train_score</th>\n",
       "      <th>hyperparameter_max_depth</th>\n",
       "      <th>hyperparameter_n_estimators</th>\n",
       "      <th>metadata_run_time</th>\n",
       "    </tr>\n",
       "  </thead>\n",
       "  <tbody>\n",
       "    <tr>\n",
       "      <th>0</th>\n",
       "      <td>1679fe6a-fe15-4571-8687-3d31ceace74c</td>\n",
       "      <td>23ae24cc-f385-4c17-846c-b03fad2fb2b4</td>\n",
       "      <td>[{'id': 'd195ef2b-4d69-4b08-b1fd-db30ebae8a72'...</td>\n",
       "      <td>0.774698</td>\n",
       "      <td>0.813156</td>\n",
       "      <td>6</td>\n",
       "      <td>25</td>\n",
       "      <td>0.114030</td>\n",
       "    </tr>\n",
       "    <tr>\n",
       "      <th>1</th>\n",
       "      <td>cd14d743-7c57-4f06-84da-fe86550883f3</td>\n",
       "      <td>23ae24cc-f385-4c17-846c-b03fad2fb2b4</td>\n",
       "      <td>[{'id': '087df362-5bdd-470e-977e-3d029b5f4d3b'...</td>\n",
       "      <td>0.777541</td>\n",
       "      <td>0.813867</td>\n",
       "      <td>6</td>\n",
       "      <td>50</td>\n",
       "      <td>0.216749</td>\n",
       "    </tr>\n",
       "    <tr>\n",
       "      <th>2</th>\n",
       "      <td>a5219580-009a-4cb1-aa3c-c179e35c08fe</td>\n",
       "      <td>23ae24cc-f385-4c17-846c-b03fad2fb2b4</td>\n",
       "      <td>[{'id': '1c749b02-f107-412d-bbaa-9a1162144774'...</td>\n",
       "      <td>0.777541</td>\n",
       "      <td>0.815111</td>\n",
       "      <td>6</td>\n",
       "      <td>75</td>\n",
       "      <td>0.307241</td>\n",
       "    </tr>\n",
       "    <tr>\n",
       "      <th>3</th>\n",
       "      <td>6db74193-aa2c-48ee-8ab4-7b675ecb1423</td>\n",
       "      <td>23ae24cc-f385-4c17-846c-b03fad2fb2b4</td>\n",
       "      <td>[{'id': '266e95d9-a670-45d6-8e78-f0f6fc6768eb'...</td>\n",
       "      <td>0.778962</td>\n",
       "      <td>0.816000</td>\n",
       "      <td>6</td>\n",
       "      <td>100</td>\n",
       "      <td>0.425554</td>\n",
       "    </tr>\n",
       "    <tr>\n",
       "      <th>4</th>\n",
       "      <td>280cb129-be4d-4883-8b8f-4f044a70e70f</td>\n",
       "      <td>23ae24cc-f385-4c17-846c-b03fad2fb2b4</td>\n",
       "      <td>[{'id': '046594f3-bfdf-4fc1-95dc-ba09e3ef1a7d'...</td>\n",
       "      <td>0.776830</td>\n",
       "      <td>0.813689</td>\n",
       "      <td>6</td>\n",
       "      <td>125</td>\n",
       "      <td>0.521274</td>\n",
       "    </tr>\n",
       "    <tr>\n",
       "      <th>5</th>\n",
       "      <td>3046039e-0032-4e73-ba50-b43ab344481f</td>\n",
       "      <td>23ae24cc-f385-4c17-846c-b03fad2fb2b4</td>\n",
       "      <td>[{'id': 'fdf96c7c-80fb-4fb9-bed0-c5b0c20025fb'...</td>\n",
       "      <td>0.776830</td>\n",
       "      <td>0.815111</td>\n",
       "      <td>6</td>\n",
       "      <td>150</td>\n",
       "      <td>0.632443</td>\n",
       "    </tr>\n",
       "  </tbody>\n",
       "</table>\n",
       "</div>"
      ],
      "text/plain": [
       "                                     id                               dataset  \\\n",
       "0  1679fe6a-fe15-4571-8687-3d31ceace74c  23ae24cc-f385-4c17-846c-b03fad2fb2b4   \n",
       "1  cd14d743-7c57-4f06-84da-fe86550883f3  23ae24cc-f385-4c17-846c-b03fad2fb2b4   \n",
       "2  a5219580-009a-4cb1-aa3c-c179e35c08fe  23ae24cc-f385-4c17-846c-b03fad2fb2b4   \n",
       "3  6db74193-aa2c-48ee-8ab4-7b675ecb1423  23ae24cc-f385-4c17-846c-b03fad2fb2b4   \n",
       "4  280cb129-be4d-4883-8b8f-4f044a70e70f  23ae24cc-f385-4c17-846c-b03fad2fb2b4   \n",
       "5  3046039e-0032-4e73-ba50-b43ab344481f  23ae24cc-f385-4c17-846c-b03fad2fb2b4   \n",
       "\n",
       "                                      artifact_paths  metric_test_score  \\\n",
       "0  [{'id': 'd195ef2b-4d69-4b08-b1fd-db30ebae8a72'...           0.774698   \n",
       "1  [{'id': '087df362-5bdd-470e-977e-3d029b5f4d3b'...           0.777541   \n",
       "2  [{'id': '1c749b02-f107-412d-bbaa-9a1162144774'...           0.777541   \n",
       "3  [{'id': '266e95d9-a670-45d6-8e78-f0f6fc6768eb'...           0.778962   \n",
       "4  [{'id': '046594f3-bfdf-4fc1-95dc-ba09e3ef1a7d'...           0.776830   \n",
       "5  [{'id': 'fdf96c7c-80fb-4fb9-bed0-c5b0c20025fb'...           0.776830   \n",
       "\n",
       "   metric_train_score  hyperparameter_max_depth  hyperparameter_n_estimators  \\\n",
       "0            0.813156                         6                           25   \n",
       "1            0.813867                         6                           50   \n",
       "2            0.815111                         6                           75   \n",
       "3            0.816000                         6                          100   \n",
       "4            0.813689                         6                          125   \n",
       "5            0.815111                         6                          150   \n",
       "\n",
       "   metadata_run_time  \n",
       "0           0.114030  \n",
       "1           0.216749  \n",
       "2           0.307241  \n",
       "3           0.425554  \n",
       "4           0.521274  \n",
       "5           0.632443  "
      ]
     },
     "execution_count": 14,
     "metadata": {},
     "output_type": "execute_result"
    }
   ],
   "source": [
    "runs = experiment.list_runs()\n",
    "runs"
   ]
  },
  {
   "cell_type": "code",
   "execution_count": 15,
   "id": "dd407297-5647-444e-a496-a45cc3a2efdd",
   "metadata": {},
   "outputs": [
    {
     "data": {
      "text/html": [
       "<div>\n",
       "<style scoped>\n",
       "    .dataframe tbody tr th:only-of-type {\n",
       "        vertical-align: middle;\n",
       "    }\n",
       "\n",
       "    .dataframe tbody tr th {\n",
       "        vertical-align: top;\n",
       "    }\n",
       "\n",
       "    .dataframe thead th {\n",
       "        text-align: right;\n",
       "    }\n",
       "</style>\n",
       "<table border=\"1\" class=\"dataframe\">\n",
       "  <thead>\n",
       "    <tr style=\"text-align: right;\">\n",
       "      <th></th>\n",
       "      <th>id</th>\n",
       "      <th>dataset</th>\n",
       "      <th>artifact_paths</th>\n",
       "      <th>metric_test_score</th>\n",
       "      <th>metric_train_score</th>\n",
       "      <th>hyperparameter_max_depth</th>\n",
       "      <th>hyperparameter_n_estimators</th>\n",
       "      <th>metadata_run_time</th>\n",
       "    </tr>\n",
       "  </thead>\n",
       "  <tbody>\n",
       "    <tr>\n",
       "      <th>3</th>\n",
       "      <td>6db74193-aa2c-48ee-8ab4-7b675ecb1423</td>\n",
       "      <td>23ae24cc-f385-4c17-846c-b03fad2fb2b4</td>\n",
       "      <td>[{'id': '266e95d9-a670-45d6-8e78-f0f6fc6768eb'...</td>\n",
       "      <td>0.778962</td>\n",
       "      <td>0.816000</td>\n",
       "      <td>6</td>\n",
       "      <td>100</td>\n",
       "      <td>0.425554</td>\n",
       "    </tr>\n",
       "    <tr>\n",
       "      <th>1</th>\n",
       "      <td>cd14d743-7c57-4f06-84da-fe86550883f3</td>\n",
       "      <td>23ae24cc-f385-4c17-846c-b03fad2fb2b4</td>\n",
       "      <td>[{'id': '087df362-5bdd-470e-977e-3d029b5f4d3b'...</td>\n",
       "      <td>0.777541</td>\n",
       "      <td>0.813867</td>\n",
       "      <td>6</td>\n",
       "      <td>50</td>\n",
       "      <td>0.216749</td>\n",
       "    </tr>\n",
       "    <tr>\n",
       "      <th>2</th>\n",
       "      <td>a5219580-009a-4cb1-aa3c-c179e35c08fe</td>\n",
       "      <td>23ae24cc-f385-4c17-846c-b03fad2fb2b4</td>\n",
       "      <td>[{'id': '1c749b02-f107-412d-bbaa-9a1162144774'...</td>\n",
       "      <td>0.777541</td>\n",
       "      <td>0.815111</td>\n",
       "      <td>6</td>\n",
       "      <td>75</td>\n",
       "      <td>0.307241</td>\n",
       "    </tr>\n",
       "    <tr>\n",
       "      <th>4</th>\n",
       "      <td>280cb129-be4d-4883-8b8f-4f044a70e70f</td>\n",
       "      <td>23ae24cc-f385-4c17-846c-b03fad2fb2b4</td>\n",
       "      <td>[{'id': '046594f3-bfdf-4fc1-95dc-ba09e3ef1a7d'...</td>\n",
       "      <td>0.776830</td>\n",
       "      <td>0.813689</td>\n",
       "      <td>6</td>\n",
       "      <td>125</td>\n",
       "      <td>0.521274</td>\n",
       "    </tr>\n",
       "    <tr>\n",
       "      <th>5</th>\n",
       "      <td>3046039e-0032-4e73-ba50-b43ab344481f</td>\n",
       "      <td>23ae24cc-f385-4c17-846c-b03fad2fb2b4</td>\n",
       "      <td>[{'id': 'fdf96c7c-80fb-4fb9-bed0-c5b0c20025fb'...</td>\n",
       "      <td>0.776830</td>\n",
       "      <td>0.815111</td>\n",
       "      <td>6</td>\n",
       "      <td>150</td>\n",
       "      <td>0.632443</td>\n",
       "    </tr>\n",
       "    <tr>\n",
       "      <th>0</th>\n",
       "      <td>1679fe6a-fe15-4571-8687-3d31ceace74c</td>\n",
       "      <td>23ae24cc-f385-4c17-846c-b03fad2fb2b4</td>\n",
       "      <td>[{'id': 'd195ef2b-4d69-4b08-b1fd-db30ebae8a72'...</td>\n",
       "      <td>0.774698</td>\n",
       "      <td>0.813156</td>\n",
       "      <td>6</td>\n",
       "      <td>25</td>\n",
       "      <td>0.114030</td>\n",
       "    </tr>\n",
       "  </tbody>\n",
       "</table>\n",
       "</div>"
      ],
      "text/plain": [
       "                                     id                               dataset  \\\n",
       "3  6db74193-aa2c-48ee-8ab4-7b675ecb1423  23ae24cc-f385-4c17-846c-b03fad2fb2b4   \n",
       "1  cd14d743-7c57-4f06-84da-fe86550883f3  23ae24cc-f385-4c17-846c-b03fad2fb2b4   \n",
       "2  a5219580-009a-4cb1-aa3c-c179e35c08fe  23ae24cc-f385-4c17-846c-b03fad2fb2b4   \n",
       "4  280cb129-be4d-4883-8b8f-4f044a70e70f  23ae24cc-f385-4c17-846c-b03fad2fb2b4   \n",
       "5  3046039e-0032-4e73-ba50-b43ab344481f  23ae24cc-f385-4c17-846c-b03fad2fb2b4   \n",
       "0  1679fe6a-fe15-4571-8687-3d31ceace74c  23ae24cc-f385-4c17-846c-b03fad2fb2b4   \n",
       "\n",
       "                                      artifact_paths  metric_test_score  \\\n",
       "3  [{'id': '266e95d9-a670-45d6-8e78-f0f6fc6768eb'...           0.778962   \n",
       "1  [{'id': '087df362-5bdd-470e-977e-3d029b5f4d3b'...           0.777541   \n",
       "2  [{'id': '1c749b02-f107-412d-bbaa-9a1162144774'...           0.777541   \n",
       "4  [{'id': '046594f3-bfdf-4fc1-95dc-ba09e3ef1a7d'...           0.776830   \n",
       "5  [{'id': 'fdf96c7c-80fb-4fb9-bed0-c5b0c20025fb'...           0.776830   \n",
       "0  [{'id': 'd195ef2b-4d69-4b08-b1fd-db30ebae8a72'...           0.774698   \n",
       "\n",
       "   metric_train_score  hyperparameter_max_depth  hyperparameter_n_estimators  \\\n",
       "3            0.816000                         6                          100   \n",
       "1            0.813867                         6                           50   \n",
       "2            0.815111                         6                           75   \n",
       "4            0.813689                         6                          125   \n",
       "5            0.815111                         6                          150   \n",
       "0            0.813156                         6                           25   \n",
       "\n",
       "   metadata_run_time  \n",
       "3           0.425554  \n",
       "1           0.216749  \n",
       "2           0.307241  \n",
       "4           0.521274  \n",
       "5           0.632443  \n",
       "0           0.114030  "
      ]
     },
     "execution_count": 15,
     "metadata": {},
     "output_type": "execute_result"
    }
   ],
   "source": [
    "runs.sort_values('metric_test_score',ascending=False)"
   ]
  },
  {
   "cell_type": "markdown",
   "id": "43a90729-6a82-40c5-852d-83783074e88b",
   "metadata": {},
   "source": [
    "#### Get the best run from model experiments"
   ]
  },
  {
   "cell_type": "code",
   "execution_count": 16,
   "id": "129f7dd3-f89a-49dc-b44b-2d1a6640adbe",
   "metadata": {},
   "outputs": [
    {
     "data": {
      "text/plain": [
       "'6db74193-aa2c-48ee-8ab4-7b675ecb1423'"
      ]
     },
     "execution_count": 16,
     "metadata": {},
     "output_type": "execute_result"
    }
   ],
   "source": [
    "best_run_id = runs.sort_values(\"metric_test_score\", ascending=False).id.values[0]\n",
    "best_run_id"
   ]
  },
  {
   "cell_type": "code",
   "execution_count": 17,
   "id": "c73defab-6116-471e-8e55-4b64db3548ab",
   "metadata": {},
   "outputs": [],
   "source": [
    "model.set_final_run(experiment, best_run_id)"
   ]
  },
  {
   "cell_type": "markdown",
   "id": "63c19a88-4a00-4d5d-a513-69946cab0ab3",
   "metadata": {},
   "source": [
    "### 3. Model explainability"
   ]
  },
  {
   "cell_type": "code",
   "execution_count": 18,
   "id": "82965cf6-5355-4a78-ad10-b94e840f2bbc",
   "metadata": {},
   "outputs": [
    {
     "name": "stdout",
     "output_type": "stream",
     "text": [
      "Collecting shap\n",
      "  Downloading shap-0.41.0-cp39-cp39-manylinux_2_12_x86_64.manylinux2010_x86_64.whl (572 kB)\n",
      "\u001b[2K     \u001b[90m━━━━━━━━━━━━━━━━━━━━━━━━━━━━━━━━━━━━━━━\u001b[0m \u001b[32m572.4/572.4 kB\u001b[0m \u001b[31m4.3 MB/s\u001b[0m eta \u001b[36m0:00:00\u001b[0m00:01\u001b[0m00:01\u001b[0m\n",
      "\u001b[?25hRequirement already satisfied: pandas in /opt/conda/lib/python3.9/site-packages (from shap) (1.4.2)\n",
      "Requirement already satisfied: numpy in /opt/conda/lib/python3.9/site-packages (from shap) (1.21.6)\n",
      "Collecting slicer==0.0.7\n",
      "  Downloading slicer-0.0.7-py3-none-any.whl (14 kB)\n",
      "Requirement already satisfied: packaging>20.9 in /opt/conda/lib/python3.9/site-packages (from shap) (21.3)\n",
      "Requirement already satisfied: scikit-learn in /opt/conda/lib/python3.9/site-packages (from shap) (1.1.1)\n",
      "Requirement already satisfied: scipy in /opt/conda/lib/python3.9/site-packages (from shap) (1.8.1)\n",
      "Requirement already satisfied: tqdm>4.25.0 in /opt/conda/lib/python3.9/site-packages (from shap) (4.64.0)\n",
      "Requirement already satisfied: numba in /opt/conda/lib/python3.9/site-packages (from shap) (0.55.1)\n",
      "Requirement already satisfied: cloudpickle in /opt/conda/lib/python3.9/site-packages (from shap) (2.1.0)\n",
      "Requirement already satisfied: pyparsing!=3.0.5,>=2.0.2 in /opt/conda/lib/python3.9/site-packages (from packaging>20.9->shap) (3.0.9)\n",
      "Requirement already satisfied: llvmlite<0.39,>=0.38.0rc1 in /opt/conda/lib/python3.9/site-packages (from numba->shap) (0.38.1)\n",
      "Requirement already satisfied: setuptools in /opt/conda/lib/python3.9/site-packages (from numba->shap) (62.3.2)\n",
      "Requirement already satisfied: python-dateutil>=2.8.1 in /opt/conda/lib/python3.9/site-packages (from pandas->shap) (2.8.2)\n",
      "Requirement already satisfied: pytz>=2020.1 in /opt/conda/lib/python3.9/site-packages (from pandas->shap) (2022.1)\n",
      "Requirement already satisfied: joblib>=1.0.0 in /opt/conda/lib/python3.9/site-packages (from scikit-learn->shap) (1.1.0)\n",
      "Requirement already satisfied: threadpoolctl>=2.0.0 in /opt/conda/lib/python3.9/site-packages (from scikit-learn->shap) (3.1.0)\n",
      "Requirement already satisfied: six>=1.5 in /opt/conda/lib/python3.9/site-packages (from python-dateutil>=2.8.1->pandas->shap) (1.16.0)\n",
      "Installing collected packages: slicer, shap\n",
      "Successfully installed shap-0.41.0 slicer-0.0.7\n"
     ]
    }
   ],
   "source": [
    "!pip install shap"
   ]
  },
  {
   "cell_type": "code",
   "execution_count": 19,
   "id": "5122a309-3970-4441-a4a6-92d7ee3c9e79",
   "metadata": {},
   "outputs": [],
   "source": [
    "import shap"
   ]
  },
  {
   "cell_type": "markdown",
   "id": "9bbef554-8460-4086-a7c4-3192192ad155",
   "metadata": {},
   "source": [
    "#### Best model"
   ]
  },
  {
   "cell_type": "code",
   "execution_count": 20,
   "id": "658eb3c2-6dac-4153-97ee-eede26d5e4c0",
   "metadata": {},
   "outputs": [
    {
     "data": {
      "text/html": [
       "<style>#sk-container-id-1 {color: black;background-color: white;}#sk-container-id-1 pre{padding: 0;}#sk-container-id-1 div.sk-toggleable {background-color: white;}#sk-container-id-1 label.sk-toggleable__label {cursor: pointer;display: block;width: 100%;margin-bottom: 0;padding: 0.3em;box-sizing: border-box;text-align: center;}#sk-container-id-1 label.sk-toggleable__label-arrow:before {content: \"▸\";float: left;margin-right: 0.25em;color: #696969;}#sk-container-id-1 label.sk-toggleable__label-arrow:hover:before {color: black;}#sk-container-id-1 div.sk-estimator:hover label.sk-toggleable__label-arrow:before {color: black;}#sk-container-id-1 div.sk-toggleable__content {max-height: 0;max-width: 0;overflow: hidden;text-align: left;background-color: #f0f8ff;}#sk-container-id-1 div.sk-toggleable__content pre {margin: 0.2em;color: black;border-radius: 0.25em;background-color: #f0f8ff;}#sk-container-id-1 input.sk-toggleable__control:checked~div.sk-toggleable__content {max-height: 200px;max-width: 100%;overflow: auto;}#sk-container-id-1 input.sk-toggleable__control:checked~label.sk-toggleable__label-arrow:before {content: \"▾\";}#sk-container-id-1 div.sk-estimator input.sk-toggleable__control:checked~label.sk-toggleable__label {background-color: #d4ebff;}#sk-container-id-1 div.sk-label input.sk-toggleable__control:checked~label.sk-toggleable__label {background-color: #d4ebff;}#sk-container-id-1 input.sk-hidden--visually {border: 0;clip: rect(1px 1px 1px 1px);clip: rect(1px, 1px, 1px, 1px);height: 1px;margin: -1px;overflow: hidden;padding: 0;position: absolute;width: 1px;}#sk-container-id-1 div.sk-estimator {font-family: monospace;background-color: #f0f8ff;border: 1px dotted black;border-radius: 0.25em;box-sizing: border-box;margin-bottom: 0.5em;}#sk-container-id-1 div.sk-estimator:hover {background-color: #d4ebff;}#sk-container-id-1 div.sk-parallel-item::after {content: \"\";width: 100%;border-bottom: 1px solid gray;flex-grow: 1;}#sk-container-id-1 div.sk-label:hover label.sk-toggleable__label {background-color: #d4ebff;}#sk-container-id-1 div.sk-serial::before {content: \"\";position: absolute;border-left: 1px solid gray;box-sizing: border-box;top: 0;bottom: 0;left: 50%;z-index: 0;}#sk-container-id-1 div.sk-serial {display: flex;flex-direction: column;align-items: center;background-color: white;padding-right: 0.2em;padding-left: 0.2em;position: relative;}#sk-container-id-1 div.sk-item {position: relative;z-index: 1;}#sk-container-id-1 div.sk-parallel {display: flex;align-items: stretch;justify-content: center;background-color: white;position: relative;}#sk-container-id-1 div.sk-item::before, #sk-container-id-1 div.sk-parallel-item::before {content: \"\";position: absolute;border-left: 1px solid gray;box-sizing: border-box;top: 0;bottom: 0;left: 50%;z-index: -1;}#sk-container-id-1 div.sk-parallel-item {display: flex;flex-direction: column;z-index: 1;position: relative;background-color: white;}#sk-container-id-1 div.sk-parallel-item:first-child::after {align-self: flex-end;width: 50%;}#sk-container-id-1 div.sk-parallel-item:last-child::after {align-self: flex-start;width: 50%;}#sk-container-id-1 div.sk-parallel-item:only-child::after {width: 0;}#sk-container-id-1 div.sk-dashed-wrapped {border: 1px dashed gray;margin: 0 0.4em 0.5em 0.4em;box-sizing: border-box;padding-bottom: 0.4em;background-color: white;}#sk-container-id-1 div.sk-label label {font-family: monospace;font-weight: bold;display: inline-block;line-height: 1.2em;}#sk-container-id-1 div.sk-label-container {text-align: center;}#sk-container-id-1 div.sk-container {/* jupyter's `normalize.less` sets `[hidden] { display: none; }` but bootstrap.min.css set `[hidden] { display: none !important; }` so we also need the `!important` here to be able to override the default hidden behavior on the sphinx rendered scikit-learn.org. See: https://github.com/scikit-learn/scikit-learn/issues/21755 */display: inline-block !important;position: relative;}#sk-container-id-1 div.sk-text-repr-fallback {display: none;}</style><div id=\"sk-container-id-1\" class=\"sk-top-container\"><div class=\"sk-text-repr-fallback\"><pre>RandomForestClassifier(max_depth=6, n_estimators=25)</pre><b>In a Jupyter environment, please rerun this cell to show the HTML representation or trust the notebook. <br />On GitHub, the HTML representation is unable to render, please try loading this page with nbviewer.org.</b></div><div class=\"sk-container\" hidden><div class=\"sk-item\"><div class=\"sk-estimator sk-toggleable\"><input class=\"sk-toggleable__control sk-hidden--visually\" id=\"sk-estimator-id-1\" type=\"checkbox\" checked><label for=\"sk-estimator-id-1\" class=\"sk-toggleable__label sk-toggleable__label-arrow\">RandomForestClassifier</label><div class=\"sk-toggleable__content\"><pre>RandomForestClassifier(max_depth=6, n_estimators=25)</pre></div></div></div></div></div>"
      ],
      "text/plain": [
       "RandomForestClassifier(max_depth=6, n_estimators=25)"
      ]
     },
     "execution_count": 20,
     "metadata": {},
     "output_type": "execute_result"
    }
   ],
   "source": [
    "hyperparams = {\n",
    "            \"n_estimators\": 25,\n",
    "            \"max_depth\": 6            \n",
    "        }\n",
    "rf = RandomForestClassifier(**hyperparams)\n",
    "rf.fit(X_train, y_train)"
   ]
  },
  {
   "cell_type": "markdown",
   "id": "76d39988-4a7a-40cb-8ef6-a7d96fc3e88b",
   "metadata": {},
   "source": [
    "#### Explainable AI\n",
    "SHAP value: \n",
    "\n",
    "- Positive SHAP value means positive impact on prediction, leading the model to predict 1 (e.g. Customer churn)\n",
    "- Negative SHAP value means negative impact, leading the model to predict 0 (e.g. Customer retain).\n",
    "- Red color indicates features that are pushing the prediction higher, and blue color indicates just the opposite."
   ]
  },
  {
   "cell_type": "code",
   "execution_count": 21,
   "id": "9accc3d2-b02e-418e-b5fa-73fe65fcd28a",
   "metadata": {},
   "outputs": [],
   "source": [
    "explainer = shap.Explainer(rf)\n",
    "shap_values_multiple = explainer(X)"
   ]
  },
  {
   "cell_type": "code",
   "execution_count": 22,
   "id": "07e84cce-9865-4503-bb47-eec0dfebfef5",
   "metadata": {},
   "outputs": [
    {
     "data": {
      "image/png": "[encoded data removed]",
      "text/plain": [
       "<Figure size 576x684 with 2 Axes>"
      ]
     },
     "metadata": {
      "needs_background": "light"
     },
     "output_type": "display_data"
    }
   ],
   "source": [
    "shap.plots.beeswarm(shap_values_multiple[:,:,-1], max_display=20)"
   ]
  },
  {
   "cell_type": "markdown",
   "id": "dec83548-2e75-43c9-9829-a2c88354cb64",
   "metadata": {},
   "source": [
    "**Model insights**: \n",
    "- customers under month-to-month contract --> high chance to churn\n",
    "- customers have linked account with Starbucks --> high chance to churn\n",
    "- customers who are Gen Z --> high chance to churn\n",
    "- not provided enough Starbuck rewards\n",
    "\n",
    "**Business actions**: \n",
    "- form strategy to convert month-to-month contract to yearly subscription\n",
    "- form strategy to work with Starbuck to provide more rewards"
   ]
  },
  {
   "cell_type": "code",
   "execution_count": null,
   "id": "03a4c679-d500-42f4-9d6b-d31ce92baf01",
   "metadata": {},
   "outputs": [],
   "source": []
  }
 ],
 "metadata": {
  "kernelspec": {
   "display_name": "Python 3 (ipykernel)",
   "language": "python",
   "name": "python3"
  },
  "language_info": {
   "codemirror_mode": {
    "name": "ipython",
    "version": 3
   },
   "file_extension": ".py",
   "mimetype": "text/x-python",
   "name": "python",
   "nbconvert_exporter": "python",
   "pygments_lexer": "ipython3",
   "version": "3.9.12"
  }
 },
 "nbformat": 4,
 "nbformat_minor": 5
}
