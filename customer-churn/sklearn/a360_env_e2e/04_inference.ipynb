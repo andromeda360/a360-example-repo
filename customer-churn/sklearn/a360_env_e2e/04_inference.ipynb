{
 "cells": [
  {
   "cell_type": "markdown",
   "id": "0631d994-1af4-4b94-b5ac-1d2c5ce56f92",
   "metadata": {},
   "source": [
    "## 4. Inference"
   ]
  },
  {
   "cell_type": "markdown",
   "id": "38da78be-abd9-47fe-bdbd-526778376b3e",
   "metadata": {},
   "source": [
    "#### A360 MDK interface"
   ]
  },
  {
   "cell_type": "code",
   "execution_count": 1,
   "id": "087ae3de-f3e6-441e-824e-277a22174676",
   "metadata": {},
   "outputs": [
    {
     "data": {
      "text/plain": [
       "<A360 AI Interface for project: Customer Churn>"
      ]
     },
     "execution_count": 1,
     "metadata": {},
     "output_type": "execute_result"
    }
   ],
   "source": [
    "a360ai"
   ]
  },
  {
   "cell_type": "code",
   "execution_count": 2,
   "id": "d3caa019-3e4b-4fac-94b2-53ae096b9fe9",
   "metadata": {},
   "outputs": [
    {
     "data": {
      "text/plain": [
       "'Customer Churn'"
      ]
     },
     "execution_count": 2,
     "metadata": {},
     "output_type": "execute_result"
    }
   ],
   "source": [
    "# Get default data repo\n",
    "DATAREPO_LIST = a360ai.list_datarepos()\n",
    "DATAREPO = DATAREPO_LIST['name'][0]\n",
    "DATAREPO"
   ]
  },
  {
   "cell_type": "code",
   "execution_count": 3,
   "id": "583337ab-1ce2-4812-a92b-17b29c57ed11",
   "metadata": {},
   "outputs": [],
   "source": [
    "import requests\n",
    "import json\n",
    "import pandas as pd"
   ]
  },
  {
   "cell_type": "markdown",
   "id": "e14491b9-333c-49fc-b901-b0f1308b9ebc",
   "metadata": {},
   "source": [
    "### 1. Set Default Data Repo and load data"
   ]
  },
  {
   "cell_type": "code",
   "execution_count": 4,
   "id": "a6195d87-5779-4c89-a68a-d1c72bf29a52",
   "metadata": {},
   "outputs": [],
   "source": [
    "a360ai.set_default_datarepo(DATAREPO)"
   ]
  },
  {
   "cell_type": "code",
   "execution_count": 5,
   "id": "862c4a5b-c207-4e58-9505-513c5b789ba0",
   "metadata": {},
   "outputs": [
    {
     "data": {
      "text/html": [
       "<div>\n",
       "<style scoped>\n",
       "    .dataframe tbody tr th:only-of-type {\n",
       "        vertical-align: middle;\n",
       "    }\n",
       "\n",
       "    .dataframe tbody tr th {\n",
       "        vertical-align: top;\n",
       "    }\n",
       "\n",
       "    .dataframe thead th {\n",
       "        text-align: right;\n",
       "    }\n",
       "</style>\n",
       "<table border=\"1\" class=\"dataframe\">\n",
       "  <thead>\n",
       "    <tr style=\"text-align: right;\">\n",
       "      <th></th>\n",
       "      <th>base_name</th>\n",
       "      <th>extension</th>\n",
       "      <th>size</th>\n",
       "    </tr>\n",
       "  </thead>\n",
       "  <tbody>\n",
       "    <tr>\n",
       "      <th>1</th>\n",
       "      <td>Reward-Customer-Churn.csv</td>\n",
       "      <td>csv</td>\n",
       "      <td>736215.0</td>\n",
       "    </tr>\n",
       "    <tr>\n",
       "      <th>2</th>\n",
       "      <td>X.parquet</td>\n",
       "      <td>parquet</td>\n",
       "      <td>174436.0</td>\n",
       "    </tr>\n",
       "    <tr>\n",
       "      <th>3</th>\n",
       "      <td>X_drift.parquet</td>\n",
       "      <td>parquet</td>\n",
       "      <td>25692.0</td>\n",
       "    </tr>\n",
       "    <tr>\n",
       "      <th>4</th>\n",
       "      <td>y.parquet</td>\n",
       "      <td>parquet</td>\n",
       "      <td>42876.0</td>\n",
       "    </tr>\n",
       "  </tbody>\n",
       "</table>\n",
       "</div>"
      ],
      "text/plain": [
       "                   base_name extension      size\n",
       "1  Reward-Customer-Churn.csv       csv  736215.0\n",
       "2                  X.parquet   parquet  174436.0\n",
       "3            X_drift.parquet   parquet   25692.0\n",
       "4                  y.parquet   parquet   42876.0"
      ]
     },
     "execution_count": 5,
     "metadata": {},
     "output_type": "execute_result"
    }
   ],
   "source": [
    "a360ai.list_datasets()"
   ]
  },
  {
   "cell_type": "code",
   "execution_count": 6,
   "id": "18fbc6ef-64fa-4eb9-9221-c57bef4e10de",
   "metadata": {},
   "outputs": [],
   "source": [
    "df = a360ai.load_dataset(\"X_drift.parquet\")"
   ]
  },
  {
   "cell_type": "markdown",
   "id": "eb493703-207f-44f1-a106-c687a7b3e448",
   "metadata": {},
   "source": [
    "### 2. Test endpoint with one data point"
   ]
  },
  {
   "cell_type": "code",
   "execution_count": null,
   "id": "a3a5504e-3137-40c4-90a4-a0a2c43dba8b",
   "metadata": {},
   "outputs": [],
   "source": [
    "url = \"https://ms-demo.a360.ai/churn-rf-drift/\"\n",
    "with open('header.json') as json_file:\n",
    "    headers = json.load(json_file)"
   ]
  },
  {
   "cell_type": "code",
   "execution_count": null,
   "id": "c3738d4c-8e4d-42f1-bcd0-29d039504ee6",
   "metadata": {},
   "outputs": [],
   "source": [
    "data = {'gender': 1.000000,\n",
    "'SeniorCitizen': 0.000000,\n",
    "'Partner': 1.000000,\n",
    "'Dependents': 0.000000,\n",
    "'tenure': 0.000000,\n",
    "'MobileOnRecord': 0.000000,\n",
    "'AddressOnRecord': 0.000000,\n",
    "'TwoFactorAuth': 0.000000,\n",
    "'OnlineBackup': 1.000000,\n",
    "'DeviceProtection': 0.000000,\n",
    "'TechSupport': 0.000000,\n",
    "'NewsletterSubscribe': 0.000000,\n",
    "'PaperlessBilling': 0.000000,\n",
    "'LastLogInOneMonth': 1.000000,\n",
    "'MonthlyCharges': 0.115423, \n",
    "'TotalCharges': 0.001275,\n",
    "'LinkedAccount_Amazon': 1.000000, \n",
    "'LinkedAccount_Starbucks': 0.000000,\n",
    "'LinkedAccount_Target': 0.000000, \n",
    "'Contract_Month-to-month': 1.000000, \n",
    "'Contract_One year': 0.000000,\n",
    "'Contract_Two year': 0.000000, \n",
    "'Generation_Boomers': 0.000000,\n",
    "'Generation_Gen X': 0.000000, \n",
    "'Generation_Gen Z': 1.000000, \n",
    "'Generation_Millennials': 0.000000}"
   ]
  },
  {
   "cell_type": "code",
   "execution_count": null,
   "id": "a7742347-4f2a-4a74-83a8-7d73589c5bf8",
   "metadata": {},
   "outputs": [],
   "source": [
    "data = json.dumps(data,indent=2)"
   ]
  },
  {
   "cell_type": "code",
   "execution_count": null,
   "id": "d57db4c4-bdde-487b-a92c-1d4230d8ab57",
   "metadata": {},
   "outputs": [],
   "source": [
    "prediction = requests.post(url,data=data,headers=headers).text.split(':')[-1].split(\"}\")[0]"
   ]
  },
  {
   "cell_type": "code",
   "execution_count": null,
   "id": "679399f1-c8ee-4e94-a28f-d345bda329d2",
   "metadata": {},
   "outputs": [],
   "source": [
    "if prediction == \"0.0\":\n",
    "    print(\" \")\n",
    "    print(\"This customer will likely be retained in the next 3 months.\")\n",
    "    print(\" \")\n",
    "else:\n",
    "    print(\" \")\n",
    "    print(\"This customer will likely churn in the next 3 months.\")\n",
    "    print(\" \")"
   ]
  },
  {
   "cell_type": "markdown",
   "id": "db107cd6-da0e-43b0-a66e-e27971d52d6d",
   "metadata": {},
   "source": [
    "### 3. Test data outlier/ anomaly"
   ]
  },
  {
   "cell_type": "code",
   "execution_count": null,
   "id": "f817600a-dd6b-4a6a-9c66-f24a7aa98862",
   "metadata": {},
   "outputs": [],
   "source": [
    "data = {'gender': 1.000000,\n",
    "'SeniorCitizen': 0.000000,\n",
    "'Partner': 1.000000,\n",
    "'Dependents': 0.000000,\n",
    "'tenure': 0.000000,\n",
    "'MobileOnRecord': 0.000000,\n",
    "'AddressOnRecord': 0.000000,\n",
    "'TwoFactorAuth': 0.000000,\n",
    "'OnlineBackup': 1.000000,\n",
    "'DeviceProtection': 0.000000,\n",
    "'TechSupport': 0.000000,\n",
    "'NewsletterSubscribe': 0.000000,\n",
    "'PaperlessBilling': 0.000000,\n",
    "'LastLogInOneMonth': 1.000000,\n",
    "'MonthlyCharges': 11.5423, \n",
    "'TotalCharges': 0.1275,\n",
    "'LinkedAccount_Amazon': 1.000000, \n",
    "'LinkedAccount_Starbucks': 0.000000,\n",
    "'LinkedAccount_Target': 0.000000, \n",
    "'Contract_Month-to-month': 1.000000, \n",
    "'Contract_One year': 0.000000,\n",
    "'Contract_Two year': 0.000000, \n",
    "'Generation_Boomers': 0.000000,\n",
    "'Generation_Gen X': 0.000000, \n",
    "'Generation_Gen Z': 1.000000, \n",
    "'Generation_Millennials': 0.000000}"
   ]
  },
  {
   "cell_type": "code",
   "execution_count": null,
   "id": "3932a8ae-adac-4e5e-89bf-0f8373003d4c",
   "metadata": {},
   "outputs": [],
   "source": [
    "data = json.dumps(data,indent=2)"
   ]
  },
  {
   "cell_type": "code",
   "execution_count": null,
   "id": "395de2fc-63d7-47dc-8fe8-e450df5ae2a4",
   "metadata": {},
   "outputs": [],
   "source": [
    "prediction = requests.post(url,data=data,headers=headers).text.split(':')[-1].split(\"}\")[0]\n",
    "prediction"
   ]
  },
  {
   "cell_type": "markdown",
   "id": "fa0c407f-b317-414c-82d7-9c5a6927ddd5",
   "metadata": {},
   "source": [
    "### 4. Test data and concept drift"
   ]
  },
  {
   "cell_type": "code",
   "execution_count": null,
   "id": "59b70590-9f1a-40e8-a013-15c95c6515d8",
   "metadata": {},
   "outputs": [],
   "source": [
    "for i in range(0, df.shape[0]):\n",
    "    data = df.iloc[i]\n",
    "    out = data.to_json() \n",
    "    prediction = requests.post(url,data=out,headers=headers).text.split(':')[-1].split(\"}\")[0]\n",
    "    #print(prediction)"
   ]
  },
  {
   "cell_type": "code",
   "execution_count": null,
   "id": "1f44196b-a3e7-4be6-bbd6-5718deb5e1f5",
   "metadata": {},
   "outputs": [],
   "source": []
  }
 ],
 "metadata": {
  "kernelspec": {
   "display_name": "Python 3 (ipykernel)",
   "language": "python",
   "name": "python3"
  },
  "language_info": {
   "codemirror_mode": {
    "name": "ipython",
    "version": 3
   },
   "file_extension": ".py",
   "mimetype": "text/x-python",
   "name": "python",
   "nbconvert_exporter": "python",
   "pygments_lexer": "ipython3",
   "version": "3.9.12"
  }
 },
 "nbformat": 4,
 "nbformat_minor": 5
}
