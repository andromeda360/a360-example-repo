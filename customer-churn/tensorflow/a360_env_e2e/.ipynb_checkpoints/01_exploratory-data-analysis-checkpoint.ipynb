{
 "cells": [
  {
   "cell_type": "code",
   "execution_count": 1,
   "id": "dd8748a5-156d-432b-a970-aa504994adf2",
   "metadata": {},
   "outputs": [
    {
     "data": {
      "text/plain": [
       "<A360 AI Interface for project: Danish-test>"
      ]
     },
     "execution_count": 1,
     "metadata": {},
     "output_type": "execute_result"
    }
   ],
   "source": [
    "a360ai"
   ]
  },
  {
   "cell_type": "code",
   "execution_count": 2,
   "id": "bb0df988-728b-4b31-9787-dd8b1da8a968",
   "metadata": {},
   "outputs": [
    {
     "name": "stdout",
     "output_type": "stream",
     "text": [
      "Requirement already satisfied: inflection in /opt/conda/lib/python3.9/site-packages (0.5.1)\n"
     ]
    }
   ],
   "source": [
    "!pip install inflection"
   ]
  },
  {
   "cell_type": "code",
   "execution_count": 3,
   "id": "412eb813-fdff-423f-aaf5-82e26e5dba1a",
   "metadata": {},
   "outputs": [],
   "source": [
    "import pandas as pd\n",
    "import numpy as np\n",
    "import matplotlib.pyplot as plt\n",
    "import inflection\n",
    "import seaborn as sns"
   ]
  },
  {
   "cell_type": "code",
   "execution_count": 4,
   "id": "de05fa4f-3e69-4b74-94a4-16361b3af3a6",
   "metadata": {},
   "outputs": [],
   "source": [
    "import warnings\n",
    "warnings.filterwarnings('ignore')"
   ]
  },
  {
   "cell_type": "markdown",
   "id": "e638e53f-dbbe-4045-9754-10d5a1f7421a",
   "metadata": {},
   "source": [
    "### 1. Set Default Data Repo and load data"
   ]
  },
  {
   "cell_type": "code",
   "execution_count": 5,
   "id": "ed1c4980-6278-4e62-91c3-06d272795ed9",
   "metadata": {},
   "outputs": [
    {
     "data": {
      "text/html": [
       "<div>\n",
       "<style scoped>\n",
       "    .dataframe tbody tr th:only-of-type {\n",
       "        vertical-align: middle;\n",
       "    }\n",
       "\n",
       "    .dataframe tbody tr th {\n",
       "        vertical-align: top;\n",
       "    }\n",
       "\n",
       "    .dataframe thead th {\n",
       "        text-align: right;\n",
       "    }\n",
       "</style>\n",
       "<table border=\"1\" class=\"dataframe\">\n",
       "  <thead>\n",
       "    <tr style=\"text-align: right;\">\n",
       "      <th></th>\n",
       "      <th>name</th>\n",
       "      <th>description</th>\n",
       "      <th>storage_provider</th>\n",
       "    </tr>\n",
       "  </thead>\n",
       "  <tbody>\n",
       "    <tr>\n",
       "      <th>0</th>\n",
       "      <td>test</td>\n",
       "      <td>test</td>\n",
       "      <td>aws</td>\n",
       "    </tr>\n",
       "  </tbody>\n",
       "</table>\n",
       "</div>"
      ],
      "text/plain": [
       "   name description storage_provider\n",
       "0  test        test              aws"
      ]
     },
     "execution_count": 5,
     "metadata": {},
     "output_type": "execute_result"
    }
   ],
   "source": [
    "a360ai.list_datarepos()"
   ]
  },
  {
   "cell_type": "code",
   "execution_count": 8,
   "id": "65b6c0f7-74b0-44fa-a4f3-96079a85f107",
   "metadata": {},
   "outputs": [],
   "source": [
    "a360ai.set_default_datarepo(\"test\")"
   ]
  },
  {
   "cell_type": "code",
   "execution_count": 9,
   "id": "daf91aed-6bf2-4a10-858c-df91e678824e",
   "metadata": {},
   "outputs": [
    {
     "data": {
      "text/html": [
       "<div>\n",
       "<style scoped>\n",
       "    .dataframe tbody tr th:only-of-type {\n",
       "        vertical-align: middle;\n",
       "    }\n",
       "\n",
       "    .dataframe tbody tr th {\n",
       "        vertical-align: top;\n",
       "    }\n",
       "\n",
       "    .dataframe thead th {\n",
       "        text-align: right;\n",
       "    }\n",
       "</style>\n",
       "<table border=\"1\" class=\"dataframe\">\n",
       "  <thead>\n",
       "    <tr style=\"text-align: right;\">\n",
       "      <th></th>\n",
       "      <th>base_name</th>\n",
       "      <th>extension</th>\n",
       "      <th>size</th>\n",
       "    </tr>\n",
       "  </thead>\n",
       "  <tbody>\n",
       "    <tr>\n",
       "      <th>0</th>\n",
       "      <td>Telco-Customer-Churn.csv</td>\n",
       "      <td>csv</td>\n",
       "      <td>977501</td>\n",
       "    </tr>\n",
       "  </tbody>\n",
       "</table>\n",
       "</div>"
      ],
      "text/plain": [
       "                  base_name extension    size\n",
       "0  Telco-Customer-Churn.csv       csv  977501"
      ]
     },
     "execution_count": 9,
     "metadata": {},
     "output_type": "execute_result"
    }
   ],
   "source": [
    "a360ai.list_datasets()"
   ]
  },
  {
   "cell_type": "code",
   "execution_count": null,
   "id": "a79e2120-89de-4cfd-a53b-b0d250ae0e1e",
   "metadata": {},
   "outputs": [],
   "source": [
    "df = a360ai.load_dataset(\"Telco-Customer-Churn.csv\")"
   ]
  },
  {
   "cell_type": "markdown",
   "id": "06c08cc1-ba08-44fc-ae64-eaad6caa7c39",
   "metadata": {},
   "source": [
    "### 2. Data overview"
   ]
  },
  {
   "cell_type": "code",
   "execution_count": null,
   "id": "1e0659a8-bf9c-40ed-b15b-a4e6c129e1c4",
   "metadata": {},
   "outputs": [],
   "source": [
    "df.head()"
   ]
  },
  {
   "cell_type": "markdown",
   "id": "55df0955-9860-4531-b915-955fea7f4a2c",
   "metadata": {},
   "source": [
    "#### Check Null value"
   ]
  },
  {
   "cell_type": "code",
   "execution_count": null,
   "id": "8b6879e2-6c24-49d6-93e8-e5a5da2de8a7",
   "metadata": {},
   "outputs": [],
   "source": [
    "df.info()"
   ]
  },
  {
   "cell_type": "markdown",
   "id": "f81b5ed1-d9e5-485a-9128-74560dccdc70",
   "metadata": {},
   "source": [
    "#### Check data shape"
   ]
  },
  {
   "cell_type": "code",
   "execution_count": null,
   "id": "edf41ffa-1f85-4ebc-b5a0-ce916d6381af",
   "metadata": {},
   "outputs": [],
   "source": [
    "df.shape"
   ]
  },
  {
   "cell_type": "code",
   "execution_count": null,
   "id": "114cfece-63f2-427c-a719-d611ff603ee3",
   "metadata": {},
   "outputs": [],
   "source": [
    "df.describe()"
   ]
  },
  {
   "cell_type": "markdown",
   "id": "16b5f4d0-c561-47d9-990f-17078e255aa3",
   "metadata": {},
   "source": [
    "#### Check duplicated values"
   ]
  },
  {
   "cell_type": "code",
   "execution_count": null,
   "id": "440e97ea-a54f-4fe6-bce6-318f6f4d3ef8",
   "metadata": {},
   "outputs": [],
   "source": [
    "df.duplicated().sum()"
   ]
  },
  {
   "cell_type": "markdown",
   "id": "04e97292-d573-4867-b4a0-c36704a47c2d",
   "metadata": {},
   "source": [
    "#### Check data type"
   ]
  },
  {
   "cell_type": "code",
   "execution_count": null,
   "id": "cd860cdf-a98d-4e33-a439-f305748ca618",
   "metadata": {},
   "outputs": [],
   "source": [
    "# numerical\n",
    "column_numerical = ['tenure', 'MonthlyCharges', 'TotalCharges']\n",
    "\n",
    "# categorical\n",
    "column_categorical = list(df.columns)\n",
    "column_categorical.remove('tenure')\n",
    "column_categorical.remove('MonthlyCharges')\n",
    "column_categorical.remove('TotalCharges')\n",
    "\n",
    "data_type_general = dict()\n",
    "\n",
    "for col in df.columns:\n",
    "  if col in column_numerical:\n",
    "    data_type_general[col] = 'numerical'\n",
    "  else:\n",
    "    data_type_general[col] = 'categorical'\n",
    "\n",
    "tmp = pd.Series(data_type_general)\n",
    "data_type_general = pd.DataFrame(tmp).T.rename({0:'general data types'})\n",
    "data_type_general"
   ]
  },
  {
   "cell_type": "code",
   "execution_count": null,
   "id": "dfaf6622-94eb-4d38-99cf-7e88d848b9ed",
   "metadata": {},
   "outputs": [],
   "source": [
    "data_type = pd.DataFrame(df.dtypes).T.rename({0:'python data types'})\n",
    "data_type"
   ]
  },
  {
   "cell_type": "markdown",
   "id": "cf1f7d8c-986d-4c4b-ac4d-52cf348b3469",
   "metadata": {},
   "source": [
    "#### Check numerical data"
   ]
  },
  {
   "cell_type": "code",
   "execution_count": null,
   "id": "21d2d545-7f23-4752-afd4-697701d6b481",
   "metadata": {},
   "outputs": [],
   "source": [
    "variation_numerical = dict()\n",
    "\n",
    "for col in column_numerical:\n",
    "  tmp = f'{df[col].min()} - {df[col].max()}'\n",
    "  variation_numerical[col] = tmp\n",
    "\n",
    "tmp = pd.Series(variation_numerical)\n",
    "data_variation_numerical = pd.DataFrame(tmp).T.rename({0:'data variation'})\n",
    "data_variation_numerical"
   ]
  },
  {
   "cell_type": "markdown",
   "id": "1342653f-f902-468f-9270-5729b413b3b9",
   "metadata": {},
   "source": [
    "#### Check categorical data"
   ]
  },
  {
   "cell_type": "code",
   "execution_count": null,
   "id": "aab8cb37-e024-4a57-accb-7101c62db039",
   "metadata": {},
   "outputs": [],
   "source": [
    "variation_categorical = dict()\n",
    "\n",
    "for col in column_categorical:\n",
    "  tmp = df[col].unique().tolist()\n",
    "  tmp.sort()\n",
    "  variation_categorical[col] = ', '.join(str(item) for item in tmp)\n",
    "\n",
    "tmp = pd.Series(variation_categorical)\n",
    "data_variation_categorical = pd.DataFrame(tmp).T.rename({0:'data variation'})\n",
    "data_variation_categorical"
   ]
  },
  {
   "cell_type": "markdown",
   "id": "d40bd973-b6fc-4fbc-a84c-ae5153999a3e",
   "metadata": {},
   "source": [
    "### 3. Exploratory data analysis (EDA)"
   ]
  },
  {
   "cell_type": "code",
   "execution_count": null,
   "id": "c6f4ec14-efc3-4540-a4c3-e04b3f8019c5",
   "metadata": {},
   "outputs": [],
   "source": [
    "# numerical\n",
    "column_numerical = ['tenure', 'MonthlyCharges', 'TotalCharges']\n",
    "\n",
    "# categorical\n",
    "column_categorical = list(df.columns)\n",
    "column_categorical.remove('tenure')\n",
    "column_categorical.remove('MonthlyCharges')\n",
    "column_categorical.remove('TotalCharges')\n",
    "\n",
    "# only contains input features\n",
    "column_categorical.remove('Churn')"
   ]
  },
  {
   "cell_type": "code",
   "execution_count": null,
   "id": "3600d143-1653-4303-9891-b55991b4daff",
   "metadata": {},
   "outputs": [],
   "source": [
    "data_viz = df.copy()\n",
    "data_viz.loc[:,'Churn'] = data_viz.loc[:, 'Churn'].apply(lambda x: 'churn' if x == 'Yes' else 'retain')"
   ]
  },
  {
   "cell_type": "markdown",
   "id": "870576c1-0f40-480f-af77-6d6c0827d0e0",
   "metadata": {},
   "source": [
    "#### Visualization function"
   ]
  },
  {
   "cell_type": "code",
   "execution_count": null,
   "id": "b50a907b-9994-4d62-851b-b300c05cbc18",
   "metadata": {},
   "outputs": [],
   "source": [
    "def stacked_bar_plot(data, x, y, orient='horizontal', ax=None, show=True):\n",
    "  # create axis if not present\n",
    "  if ax == None:\n",
    "    _, ax = plt.subplots(figsize=(8,6))\n",
    "  \n",
    "  # create crosstab based on the input data\n",
    "  crosstab = pd.crosstab(index=data[x], columns=data[y], normalize='index')\n",
    "  crosstab = crosstab.reindex(['retain', 'churn'], axis=1)\n",
    "\n",
    "  # visualize stacked barplot\n",
    "  if orient == 'vertical':\n",
    "    # order in descending (the highest value on the left)\n",
    "    crosstab = crosstab.sort_values('churn', ascending=False)\n",
    "    crosstab.plot(kind='bar', stacked=True, ax=ax)\n",
    "\n",
    "    # add percentage label\n",
    "    for i, index in enumerate(crosstab.index):\n",
    "        for (proportion, y_loc) in zip(crosstab.loc[index], crosstab.loc[index].cumsum()):\n",
    "          ax.text(x=i,\n",
    "                  y=(y_loc - proportion) + (proportion / 2),\n",
    "                  s=f'{proportion*100:.1f}%',\n",
    "                  color='white',\n",
    "                  fontsize=14,\n",
    "                  fontweight='bold',\n",
    "                  horizontalalignment='center',\n",
    "                  verticalalignment='center')\n",
    "    # remove tick labels\n",
    "    ax.set_yticklabels([])\n",
    "  else: # default is horizontal bar plot, even if the orient input is an arbitrary value\n",
    "    # orient in ascending (the highest value on the top)\n",
    "    crosstab = crosstab.sort_values('churn', ascending=True)\n",
    "    crosstab.plot(kind='barh', stacked=True, ax=ax)\n",
    "\n",
    "    # add percentage label\n",
    "    for i, index in enumerate(crosstab.index):\n",
    "        for (proportion, x_loc) in zip(crosstab.loc[index], crosstab.loc[index].cumsum()):\n",
    "          ax.text(y=i,\n",
    "                  x=(x_loc - proportion) + (proportion / 2),\n",
    "                  s=f'{proportion*100:.1f}%',\n",
    "                  color='white',\n",
    "                  fontsize=14,\n",
    "                  fontweight='bold',\n",
    "                  horizontalalignment='center',\n",
    "                  verticalalignment='center')\n",
    "    # remove tick labels\n",
    "    ax.set_xticklabels([])\n",
    "\n",
    "  x_titleize = inflection.titleize(x)\n",
    "  ax.set_title(f'Customer Churn Probability by {x_titleize}')      \n",
    "  ax.set_xlabel('')\n",
    "  ax.set_ylabel('')\n",
    "  ax.legend(loc='center left', bbox_to_anchor=(1, 0.5), title='', frameon=False)\n",
    "  # ax.legend(loc='lower center', bbox_to_anchor=(0.5, 1), title='', ncol=2, frameon=False)\n",
    "  sns.despine(left=True, bottom=True)\n",
    "\n",
    "  if show:\n",
    "    plt.show()"
   ]
  },
  {
   "cell_type": "markdown",
   "id": "56606fd2-34a3-4b72-ad54-9f87b09854f5",
   "metadata": {},
   "source": [
    "#### Check target distribution (churn %)"
   ]
  },
  {
   "cell_type": "code",
   "execution_count": null,
   "id": "5d528ecc-9fc0-449e-96f1-101316990620",
   "metadata": {},
   "outputs": [],
   "source": [
    "pie_data = data_viz['Churn'].value_counts(normalize=True).values * 100\n",
    "pie_label = data_viz['Churn'].value_counts(normalize=True).index.to_list()\n",
    "\n",
    "fig, ax = plt.subplots(figsize=(8,6))\n",
    "\n",
    "wedges, texts, autotexts = ax.pie(pie_data, labels=pie_label,\n",
    "                                  startangle=90, explode=[0, 0.1],\n",
    "                                  autopct='%.0f%%',\n",
    "                                  textprops={'color':'w', 'fontsize':16, 'weight':'bold'})\n",
    "\n",
    "for i, wedge in enumerate(wedges):\n",
    "  texts[i].set_color(wedge.get_facecolor())\n",
    "\n",
    "plt.tight_layout()\n",
    "plt.show()"
   ]
  },
  {
   "cell_type": "markdown",
   "id": "c1c6da3b-4796-4f35-8107-1921e71dca3c",
   "metadata": {},
   "source": [
    "#### Understand how churn might happen"
   ]
  },
  {
   "cell_type": "code",
   "execution_count": null,
   "id": "32937803-ef62-41a7-b7a2-5ec343605225",
   "metadata": {},
   "outputs": [],
   "source": [
    "fig, ax = plt.subplots(figsize=(8,6))\n",
    "stacked_bar_plot(data=data_viz, x='gender', y='Churn', ax=ax)"
   ]
  },
  {
   "cell_type": "code",
   "execution_count": null,
   "id": "7a6a9b9f-4af1-4193-976d-49f920b22a13",
   "metadata": {},
   "outputs": [],
   "source": [
    "fig, ax = plt.subplots(figsize=(8,6))\n",
    "stacked_bar_plot(data=data_viz, x='SeniorCitizen', y='Churn', ax=ax)"
   ]
  },
  {
   "cell_type": "markdown",
   "id": "44d02366-f4df-4584-8b62-42e9ba65c4a4",
   "metadata": {},
   "source": [
    "#### Churn probability by tenure"
   ]
  },
  {
   "cell_type": "code",
   "execution_count": null,
   "id": "f8a47f2d-183c-4a0b-90af-56ab1bb0c95b",
   "metadata": {},
   "outputs": [],
   "source": [
    "fig, ax = plt.subplots(figsize=(8, 6))\n",
    "ax.grid(False, axis='x')\n",
    "sns.kdeplot(data=data_viz, x='tenure', hue='Churn', multiple='fill', linewidth=3, ax=ax, alpha=0.9)\n",
    "sns.move_legend(ax, \"lower center\", bbox_to_anchor=(.5, 1), title='', ncol=2, frameon=False)\n",
    "\n",
    "ax.set_xticks(np.arange(0,data_viz['tenure'].max(),10))\n",
    "ax.set_xlim(data_viz['tenure'].min(),data_viz['tenure'].max())\n",
    "\n",
    "ax.set_yticks(np.linspace(0,1,5))\n",
    "ax.set_ylabel('probability')\n",
    "\n",
    "sns.despine(left=True, bottom=True)\n",
    "\n",
    "# ax.axis('tight')\n",
    "plt.show()"
   ]
  },
  {
   "cell_type": "markdown",
   "id": "4c9807bf-77a0-413a-a1d9-aa21b339b39d",
   "metadata": {},
   "source": [
    "#### Tenure by contract type"
   ]
  },
  {
   "cell_type": "code",
   "execution_count": null,
   "id": "e802e122-5fed-40f2-a6e3-9391aab0d58a",
   "metadata": {},
   "outputs": [],
   "source": [
    "fig, ax = plt.subplots(figsize=(8, 6))\n",
    "\n",
    "sns.histplot(data=data_viz, x='tenure', hue='Contract', stat='percent', multiple='dodge', ax=ax, binwidth=5, alpha=0.8)\n",
    "sns.move_legend(ax, \"lower center\", bbox_to_anchor=(0.5, 1), ncol=3, title='', frameon=False)\n",
    "\n",
    "sns.despine()  \n",
    "plt.show()"
   ]
  },
  {
   "cell_type": "code",
   "execution_count": null,
   "id": "70449c2f-6837-458e-8ee2-f68d24321800",
   "metadata": {},
   "outputs": [],
   "source": []
  },
  {
   "cell_type": "code",
   "execution_count": null,
   "id": "aafabe04-3bc8-47bf-943f-7accbad6fc15",
   "metadata": {},
   "outputs": [],
   "source": []
  }
 ],
 "metadata": {
  "kernelspec": {
   "display_name": "Python 3",
   "language": "python",
   "name": "python3"
  },
  "language_info": {
   "codemirror_mode": {
    "name": "ipython",
    "version": 3
   },
   "file_extension": ".py",
   "mimetype": "text/x-python",
   "name": "python",
   "nbconvert_exporter": "python",
   "pygments_lexer": "ipython3",
   "version": "3.8.10"
  }
 },
 "nbformat": 4,
 "nbformat_minor": 5
}
