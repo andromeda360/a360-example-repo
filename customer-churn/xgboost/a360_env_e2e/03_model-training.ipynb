{
 "cells": [
  {
   "cell_type": "code",
   "execution_count": 23,
   "id": "b3853539-5e16-4fb6-ae7a-ff25ab52c647",
   "metadata": {},
   "outputs": [],
   "source": [
    "import numpy as np\n",
    "import pandas as pd\n",
    "\n",
    "from sklearn.model_selection import train_test_split\n",
    "from sklearn.metrics import r2_score, accuracy_score\n",
    "from sklearn.metrics import mean_squared_error\n",
    "from sklearn.preprocessing import StandardScaler\n",
    "\n",
    "from xgboost import XGBClassifier"
   ]
  },
  {
   "cell_type": "code",
   "execution_count": 11,
   "id": "3e4a42f2-f41e-40e9-acd3-a943eabbb68d",
   "metadata": {},
   "outputs": [],
   "source": [
    "import warnings\n",
    "warnings.filterwarnings('ignore')"
   ]
  },
  {
   "cell_type": "markdown",
   "id": "7de8f3c6-6ce5-4e6d-b66d-025cf2be0ccf",
   "metadata": {},
   "source": [
    "### 1. Set Default Data Repo and load data"
   ]
  },
  {
   "cell_type": "code",
   "execution_count": 12,
   "id": "9e43f386-65c1-4594-b9c1-c4fc573b2991",
   "metadata": {},
   "outputs": [],
   "source": [
    "a360ai.set_default_datarepo(\"test\")"
   ]
  },
  {
   "cell_type": "code",
   "execution_count": 13,
   "id": "8e94fd70-1a45-4f86-a2ea-b49e31ebefb9",
   "metadata": {},
   "outputs": [],
   "source": [
    "X = a360ai.load_dataset(\"X.parquet\")\n",
    "y = a360ai.load_dataset(\"y.parquet\")"
   ]
  },
  {
   "cell_type": "code",
   "execution_count": 14,
   "id": "bc9fc53e-b22d-4316-9a67-92eef37af32a",
   "metadata": {},
   "outputs": [],
   "source": [
    "X_train, X_test, y_train, y_test = train_test_split(X,y,test_size=0.2,random_state=5)"
   ]
  },
  {
   "cell_type": "code",
   "execution_count": 15,
   "id": "8879efd9-35d7-4d39-9bbe-2f525256ea61",
   "metadata": {},
   "outputs": [],
   "source": [
    "# feature scaling\n",
    "from sklearn.preprocessing import StandardScaler\n",
    "sc = StandardScaler()\n",
    "X_train = sc.fit_transform(X_train)\n",
    "X_test = sc.transform(X_test)"
   ]
  },
  {
   "cell_type": "code",
   "execution_count": 17,
   "id": "f9aa33b2-5542-4c3a-b886-172c48d5dfac",
   "metadata": {},
   "outputs": [],
   "source": [
    "my_model = a360ai.get_or_create_model(model_name=f\"churn_pred_demo_xgboost_e2e\")"
   ]
  },
  {
   "cell_type": "code",
   "execution_count": 18,
   "id": "8f4ecdb3-84d0-4614-bf1e-56859344b970",
   "metadata": {},
   "outputs": [
    {
     "name": "stdout",
     "output_type": "stream",
     "text": [
      "\n",
      "//-- Experiment Loaded --//\n",
      "Model Name: churn_pred_demo_xgboost_e2e\n",
      "Experiment Name: churn_pred_demo_exp_xgboost_e2e\n",
      "Final Run Id: None\n",
      "Model Flavor: xgboost\n",
      "Input Signature: ndarray: float64 (26,)\n",
      "Output Signature: Churn big_integer\n",
      "Data Exploration File: /home/jovyan/01_exploratory-data-analysis.ipynb\n",
      "Data Preparation File: /home/jovyan/02_data-preprocessing.ipynb\n",
      "Model Training File: /home/jovyan/03_model-training.ipynb\n",
      "Drift Monitoring Enabled: True\n",
      "\n"
     ]
    }
   ],
   "source": [
    "experiment = my_model.get_or_create_experiment(\n",
    "    experiment_name = f\"churn_pred_demo_exp_xgboost_e2e\",\n",
    "    model_flavor = \"xgboost\",\n",
    "    enable_drift_monitoring=True,\n",
    "    train_features=X_train,\n",
    "    train_target=y_train,\n",
    "    feature_names=list(X.columns),\n",
    "    data_exploration_file=\"/home/jovyan/01_exploratory-data-analysis.ipynb\",\n",
    "    data_preparation_file=\"/home/jovyan/02_data-preprocessing.ipynb\",\n",
    "    model_training_file=\"/home/jovyan/03_model-training.ipynb\",\n",
    ")"
   ]
  },
  {
   "cell_type": "code",
   "execution_count": 19,
   "id": "17d92e18-a14c-422b-98aa-d041d264f2fb",
   "metadata": {},
   "outputs": [
    {
     "data": {
      "text/html": [
       "<div>\n",
       "<style scoped>\n",
       "    .dataframe tbody tr th:only-of-type {\n",
       "        vertical-align: middle;\n",
       "    }\n",
       "\n",
       "    .dataframe tbody tr th {\n",
       "        vertical-align: top;\n",
       "    }\n",
       "\n",
       "    .dataframe thead th {\n",
       "        text-align: right;\n",
       "    }\n",
       "</style>\n",
       "<table border=\"1\" class=\"dataframe\">\n",
       "  <thead>\n",
       "    <tr style=\"text-align: right;\">\n",
       "      <th></th>\n",
       "      <th>id</th>\n",
       "      <th>bestRun</th>\n",
       "      <th>model_id</th>\n",
       "      <th>experiment_name</th>\n",
       "      <th>best_run_id</th>\n",
       "      <th>model_flavor</th>\n",
       "      <th>input_signature</th>\n",
       "      <th>output_signature</th>\n",
       "      <th>data_exploration_file</th>\n",
       "      <th>data_preparation_file</th>\n",
       "      <th>model_training_file</th>\n",
       "      <th>baseline</th>\n",
       "      <th>train_shape</th>\n",
       "      <th>model_name</th>\n",
       "      <th>updated_at</th>\n",
       "    </tr>\n",
       "  </thead>\n",
       "  <tbody>\n",
       "    <tr>\n",
       "      <th>0</th>\n",
       "      <td>da050819-6515-457e-9c3f-6c2a7dfde964</td>\n",
       "      <td>None</td>\n",
       "      <td>94b142f9-1aca-4ff9-878b-562d2159fe61</td>\n",
       "      <td>churn_pred_demo_exp_xgboost_e2e</td>\n",
       "      <td>None</td>\n",
       "      <td>xgboost</td>\n",
       "      <td>ndarray: float64 (26,)</td>\n",
       "      <td>Churn big_integer</td>\n",
       "      <td>/home/jovyan/01_exploratory-data-analysis.ipynb</td>\n",
       "      <td>/home/jovyan/02_data-preprocessing.ipynb</td>\n",
       "      <td>/home/jovyan/03_model-training.ipynb</td>\n",
       "      <td>{'gender': {'mean': -7.200166389035681e-17, 's...</td>\n",
       "      <td>[26]</td>\n",
       "      <td>churn_pred_demo_xgboost_e2e</td>\n",
       "      <td>2022-06-09 07:03</td>\n",
       "    </tr>\n",
       "  </tbody>\n",
       "</table>\n",
       "</div>"
      ],
      "text/plain": [
       "                                     id bestRun  \\\n",
       "0  da050819-6515-457e-9c3f-6c2a7dfde964    None   \n",
       "\n",
       "                               model_id                  experiment_name  \\\n",
       "0  94b142f9-1aca-4ff9-878b-562d2159fe61  churn_pred_demo_exp_xgboost_e2e   \n",
       "\n",
       "  best_run_id model_flavor         input_signature   output_signature  \\\n",
       "0        None      xgboost  ndarray: float64 (26,)  Churn big_integer   \n",
       "\n",
       "                             data_exploration_file  \\\n",
       "0  /home/jovyan/01_exploratory-data-analysis.ipynb   \n",
       "\n",
       "                      data_preparation_file  \\\n",
       "0  /home/jovyan/02_data-preprocessing.ipynb   \n",
       "\n",
       "                    model_training_file  \\\n",
       "0  /home/jovyan/03_model-training.ipynb   \n",
       "\n",
       "                                            baseline train_shape  \\\n",
       "0  {'gender': {'mean': -7.200166389035681e-17, 's...        [26]   \n",
       "\n",
       "                    model_name        updated_at  \n",
       "0  churn_pred_demo_xgboost_e2e  2022-06-09 07:03  "
      ]
     },
     "execution_count": 19,
     "metadata": {},
     "output_type": "execute_result"
    }
   ],
   "source": [
    "experiments = my_model.list_experiments()\n",
    "experiments"
   ]
  },
  {
   "cell_type": "markdown",
   "id": "41b9c05f",
   "metadata": {},
   "source": [
    "### 2. Model creation"
   ]
  },
  {
   "cell_type": "code",
   "execution_count": 20,
   "id": "989d9a16",
   "metadata": {},
   "outputs": [
    {
     "data": {
      "text/plain": [
       "pandas.core.frame.DataFrame"
      ]
     },
     "execution_count": 20,
     "metadata": {},
     "output_type": "execute_result"
    }
   ],
   "source": [
    "type(y_train)"
   ]
  },
  {
   "cell_type": "code",
   "execution_count": 25,
   "id": "deea9372",
   "metadata": {},
   "outputs": [
    {
     "name": "stdout",
     "output_type": "stream",
     "text": [
      "Fitting 3 folds for each of 4 candidates, totalling 12 fits\n",
      "[07:07:33] WARNING: ../src/learner.cc:1095: Starting in XGBoost 1.3.0, the default evaluation metric used with the objective 'binary:logistic' was changed from 'error' to 'logloss'. Explicitly set eval_metric if you'd like to restore the old behavior.\n",
      "[CV 1/3] END ...max_depth=1, min_child_weight=1;, score=0.809 total time=   0.9s\n",
      "[07:07:34] WARNING: ../src/learner.cc:1095: Starting in XGBoost 1.3.0, the default evaluation metric used with the objective 'binary:logistic' was changed from 'error' to 'logloss'. Explicitly set eval_metric if you'd like to restore the old behavior.\n",
      "[CV 2/3] END ...max_depth=1, min_child_weight=1;, score=0.810 total time=   0.3s\n",
      "[07:07:34] WARNING: ../src/learner.cc:1095: Starting in XGBoost 1.3.0, the default evaluation metric used with the objective 'binary:logistic' was changed from 'error' to 'logloss'. Explicitly set eval_metric if you'd like to restore the old behavior.\n",
      "[CV 3/3] END ...max_depth=1, min_child_weight=1;, score=0.805 total time=   0.4s\n",
      "[07:07:34] WARNING: ../src/learner.cc:1095: Starting in XGBoost 1.3.0, the default evaluation metric used with the objective 'binary:logistic' was changed from 'error' to 'logloss'. Explicitly set eval_metric if you'd like to restore the old behavior.\n",
      "[CV 1/3] END ...max_depth=1, min_child_weight=5;, score=0.808 total time=   0.3s\n",
      "[07:07:35] WARNING: ../src/learner.cc:1095: Starting in XGBoost 1.3.0, the default evaluation metric used with the objective 'binary:logistic' was changed from 'error' to 'logloss'. Explicitly set eval_metric if you'd like to restore the old behavior.\n",
      "[CV 2/3] END ...max_depth=1, min_child_weight=5;, score=0.809 total time=   0.4s\n",
      "[07:07:35] WARNING: ../src/learner.cc:1095: Starting in XGBoost 1.3.0, the default evaluation metric used with the objective 'binary:logistic' was changed from 'error' to 'logloss'. Explicitly set eval_metric if you'd like to restore the old behavior.\n",
      "[CV 3/3] END ...max_depth=1, min_child_weight=5;, score=0.805 total time=   0.3s\n",
      "[07:07:35] WARNING: ../src/learner.cc:1095: Starting in XGBoost 1.3.0, the default evaluation metric used with the objective 'binary:logistic' was changed from 'error' to 'logloss'. Explicitly set eval_metric if you'd like to restore the old behavior.\n",
      "[CV 1/3] END ...max_depth=3, min_child_weight=1;, score=0.795 total time=   0.7s\n",
      "[07:07:36] WARNING: ../src/learner.cc:1095: Starting in XGBoost 1.3.0, the default evaluation metric used with the objective 'binary:logistic' was changed from 'error' to 'logloss'. Explicitly set eval_metric if you'd like to restore the old behavior.\n",
      "[CV 2/3] END ...max_depth=3, min_child_weight=1;, score=0.799 total time=   0.7s\n",
      "[07:07:37] WARNING: ../src/learner.cc:1095: Starting in XGBoost 1.3.0, the default evaluation metric used with the objective 'binary:logistic' was changed from 'error' to 'logloss'. Explicitly set eval_metric if you'd like to restore the old behavior.\n",
      "[CV 3/3] END ...max_depth=3, min_child_weight=1;, score=0.798 total time=   0.6s\n",
      "[07:07:37] WARNING: ../src/learner.cc:1095: Starting in XGBoost 1.3.0, the default evaluation metric used with the objective 'binary:logistic' was changed from 'error' to 'logloss'. Explicitly set eval_metric if you'd like to restore the old behavior.\n",
      "[CV 1/3] END ...max_depth=3, min_child_weight=5;, score=0.796 total time=   0.8s\n",
      "[07:07:38] WARNING: ../src/learner.cc:1095: Starting in XGBoost 1.3.0, the default evaluation metric used with the objective 'binary:logistic' was changed from 'error' to 'logloss'. Explicitly set eval_metric if you'd like to restore the old behavior.\n",
      "[CV 2/3] END ...max_depth=3, min_child_weight=5;, score=0.798 total time=   0.7s\n",
      "[07:07:39] WARNING: ../src/learner.cc:1095: Starting in XGBoost 1.3.0, the default evaluation metric used with the objective 'binary:logistic' was changed from 'error' to 'logloss'. Explicitly set eval_metric if you'd like to restore the old behavior.\n",
      "[CV 3/3] END ...max_depth=3, min_child_weight=5;, score=0.805 total time=   0.7s\n",
      "[07:07:40] WARNING: ../src/learner.cc:1095: Starting in XGBoost 1.3.0, the default evaluation metric used with the objective 'binary:logistic' was changed from 'error' to 'logloss'. Explicitly set eval_metric if you'd like to restore the old behavior.\n",
      "Fitting 3 folds for each of 4 candidates, totalling 12 fits\n",
      "[07:07:43] WARNING: ../src/learner.cc:1095: Starting in XGBoost 1.3.0, the default evaluation metric used with the objective 'binary:logistic' was changed from 'error' to 'logloss'. Explicitly set eval_metric if you'd like to restore the old behavior.\n",
      "[CV 1/3] END ...max_depth=1, min_child_weight=1;, score=0.809 total time=   0.3s\n",
      "[07:07:43] WARNING: ../src/learner.cc:1095: Starting in XGBoost 1.3.0, the default evaluation metric used with the objective 'binary:logistic' was changed from 'error' to 'logloss'. Explicitly set eval_metric if you'd like to restore the old behavior.\n",
      "[CV 2/3] END ...max_depth=1, min_child_weight=1;, score=0.810 total time=   0.3s\n",
      "[07:07:43] WARNING: ../src/learner.cc:1095: Starting in XGBoost 1.3.0, the default evaluation metric used with the objective 'binary:logistic' was changed from 'error' to 'logloss'. Explicitly set eval_metric if you'd like to restore the old behavior.\n",
      "[CV 3/3] END ...max_depth=1, min_child_weight=1;, score=0.805 total time=   0.4s\n",
      "[07:07:44] WARNING: ../src/learner.cc:1095: Starting in XGBoost 1.3.0, the default evaluation metric used with the objective 'binary:logistic' was changed from 'error' to 'logloss'. Explicitly set eval_metric if you'd like to restore the old behavior.\n",
      "[CV 1/3] END ...max_depth=1, min_child_weight=5;, score=0.808 total time=   0.3s\n",
      "[07:07:44] WARNING: ../src/learner.cc:1095: Starting in XGBoost 1.3.0, the default evaluation metric used with the objective 'binary:logistic' was changed from 'error' to 'logloss'. Explicitly set eval_metric if you'd like to restore the old behavior.\n",
      "[CV 2/3] END ...max_depth=1, min_child_weight=5;, score=0.809 total time=   0.4s\n",
      "[07:07:44] WARNING: ../src/learner.cc:1095: Starting in XGBoost 1.3.0, the default evaluation metric used with the objective 'binary:logistic' was changed from 'error' to 'logloss'. Explicitly set eval_metric if you'd like to restore the old behavior.\n",
      "[CV 3/3] END ...max_depth=1, min_child_weight=5;, score=0.805 total time=   0.3s\n",
      "[07:07:45] WARNING: ../src/learner.cc:1095: Starting in XGBoost 1.3.0, the default evaluation metric used with the objective 'binary:logistic' was changed from 'error' to 'logloss'. Explicitly set eval_metric if you'd like to restore the old behavior.\n",
      "[CV 1/3] END ...max_depth=3, min_child_weight=1;, score=0.795 total time=   0.7s\n",
      "[07:07:46] WARNING: ../src/learner.cc:1095: Starting in XGBoost 1.3.0, the default evaluation metric used with the objective 'binary:logistic' was changed from 'error' to 'logloss'. Explicitly set eval_metric if you'd like to restore the old behavior.\n",
      "[CV 2/3] END ...max_depth=3, min_child_weight=1;, score=0.799 total time=   0.7s\n",
      "[07:07:46] WARNING: ../src/learner.cc:1095: Starting in XGBoost 1.3.0, the default evaluation metric used with the objective 'binary:logistic' was changed from 'error' to 'logloss'. Explicitly set eval_metric if you'd like to restore the old behavior.\n",
      "[CV 3/3] END ...max_depth=3, min_child_weight=1;, score=0.798 total time=   0.7s\n",
      "[07:07:47] WARNING: ../src/learner.cc:1095: Starting in XGBoost 1.3.0, the default evaluation metric used with the objective 'binary:logistic' was changed from 'error' to 'logloss'. Explicitly set eval_metric if you'd like to restore the old behavior.\n",
      "[CV 1/3] END ...max_depth=3, min_child_weight=5;, score=0.796 total time=   0.7s\n",
      "[07:07:48] WARNING: ../src/learner.cc:1095: Starting in XGBoost 1.3.0, the default evaluation metric used with the objective 'binary:logistic' was changed from 'error' to 'logloss'. Explicitly set eval_metric if you'd like to restore the old behavior.\n",
      "[CV 2/3] END ...max_depth=3, min_child_weight=5;, score=0.798 total time=   0.8s\n",
      "[07:07:48] WARNING: ../src/learner.cc:1095: Starting in XGBoost 1.3.0, the default evaluation metric used with the objective 'binary:logistic' was changed from 'error' to 'logloss'. Explicitly set eval_metric if you'd like to restore the old behavior.\n",
      "[CV 3/3] END ...max_depth=3, min_child_weight=5;, score=0.805 total time=   1.0s\n",
      "[07:07:49] WARNING: ../src/learner.cc:1095: Starting in XGBoost 1.3.0, the default evaluation metric used with the objective 'binary:logistic' was changed from 'error' to 'logloss'. Explicitly set eval_metric if you'd like to restore the old behavior.\n",
      "Fitting 3 folds for each of 4 candidates, totalling 12 fits\n",
      "[07:07:52] WARNING: ../src/learner.cc:1095: Starting in XGBoost 1.3.0, the default evaluation metric used with the objective 'binary:logistic' was changed from 'error' to 'logloss'. Explicitly set eval_metric if you'd like to restore the old behavior.\n",
      "[CV 1/3] END ...max_depth=1, min_child_weight=1;, score=0.809 total time=   0.3s\n",
      "[07:07:52] WARNING: ../src/learner.cc:1095: Starting in XGBoost 1.3.0, the default evaluation metric used with the objective 'binary:logistic' was changed from 'error' to 'logloss'. Explicitly set eval_metric if you'd like to restore the old behavior.\n",
      "[CV 2/3] END ...max_depth=1, min_child_weight=1;, score=0.810 total time=   0.3s\n",
      "[07:07:52] WARNING: ../src/learner.cc:1095: Starting in XGBoost 1.3.0, the default evaluation metric used with the objective 'binary:logistic' was changed from 'error' to 'logloss'. Explicitly set eval_metric if you'd like to restore the old behavior.\n",
      "[CV 3/3] END ...max_depth=1, min_child_weight=1;, score=0.805 total time=   0.3s\n",
      "[07:07:53] WARNING: ../src/learner.cc:1095: Starting in XGBoost 1.3.0, the default evaluation metric used with the objective 'binary:logistic' was changed from 'error' to 'logloss'. Explicitly set eval_metric if you'd like to restore the old behavior.\n",
      "[CV 1/3] END ...max_depth=1, min_child_weight=5;, score=0.808 total time=   0.4s\n",
      "[07:07:53] WARNING: ../src/learner.cc:1095: Starting in XGBoost 1.3.0, the default evaluation metric used with the objective 'binary:logistic' was changed from 'error' to 'logloss'. Explicitly set eval_metric if you'd like to restore the old behavior.\n",
      "[CV 2/3] END ...max_depth=1, min_child_weight=5;, score=0.809 total time=   0.4s\n",
      "[07:07:53] WARNING: ../src/learner.cc:1095: Starting in XGBoost 1.3.0, the default evaluation metric used with the objective 'binary:logistic' was changed from 'error' to 'logloss'. Explicitly set eval_metric if you'd like to restore the old behavior.\n",
      "[CV 3/3] END ...max_depth=1, min_child_weight=5;, score=0.805 total time=   0.4s\n",
      "[07:07:54] WARNING: ../src/learner.cc:1095: Starting in XGBoost 1.3.0, the default evaluation metric used with the objective 'binary:logistic' was changed from 'error' to 'logloss'. Explicitly set eval_metric if you'd like to restore the old behavior.\n",
      "[CV 1/3] END ...max_depth=3, min_child_weight=1;, score=0.795 total time=   0.7s\n",
      "[07:07:55] WARNING: ../src/learner.cc:1095: Starting in XGBoost 1.3.0, the default evaluation metric used with the objective 'binary:logistic' was changed from 'error' to 'logloss'. Explicitly set eval_metric if you'd like to restore the old behavior.\n",
      "[CV 2/3] END ...max_depth=3, min_child_weight=1;, score=0.799 total time=   0.7s\n",
      "[07:07:55] WARNING: ../src/learner.cc:1095: Starting in XGBoost 1.3.0, the default evaluation metric used with the objective 'binary:logistic' was changed from 'error' to 'logloss'. Explicitly set eval_metric if you'd like to restore the old behavior.\n",
      "[CV 3/3] END ...max_depth=3, min_child_weight=1;, score=0.798 total time=   0.7s\n",
      "[07:07:56] WARNING: ../src/learner.cc:1095: Starting in XGBoost 1.3.0, the default evaluation metric used with the objective 'binary:logistic' was changed from 'error' to 'logloss'. Explicitly set eval_metric if you'd like to restore the old behavior.\n",
      "[CV 1/3] END ...max_depth=3, min_child_weight=5;, score=0.796 total time=   0.7s\n",
      "[07:07:57] WARNING: ../src/learner.cc:1095: Starting in XGBoost 1.3.0, the default evaluation metric used with the objective 'binary:logistic' was changed from 'error' to 'logloss'. Explicitly set eval_metric if you'd like to restore the old behavior.\n",
      "[CV 2/3] END ...max_depth=3, min_child_weight=5;, score=0.798 total time=   0.6s\n",
      "[07:07:57] WARNING: ../src/learner.cc:1095: Starting in XGBoost 1.3.0, the default evaluation metric used with the objective 'binary:logistic' was changed from 'error' to 'logloss'. Explicitly set eval_metric if you'd like to restore the old behavior.\n",
      "[CV 3/3] END ...max_depth=3, min_child_weight=5;, score=0.805 total time=   0.7s\n",
      "[07:07:58] WARNING: ../src/learner.cc:1095: Starting in XGBoost 1.3.0, the default evaluation metric used with the objective 'binary:logistic' was changed from 'error' to 'logloss'. Explicitly set eval_metric if you'd like to restore the old behavior.\n"
     ]
    }
   ],
   "source": [
    "from sklearn.model_selection import RandomizedSearchCV\n",
    "\n",
    "params = {\n",
    "        'min_child_weight': [1, 5],\n",
    "        'max_depth': [1, 3]\n",
    "        }\n",
    "\n",
    "for i in range(3):\n",
    "\n",
    "    model = XGBClassifier()\n",
    "\n",
    "    random_search = RandomizedSearchCV(model, param_distributions=params, \n",
    "                                       scoring='accuracy', \n",
    "                                       verbose=3, cv=3)\n",
    "    random_search.fit(X_train, y_train.values)\n",
    "    \n",
    "    metrics = {'test_score': accuracy_score(y_test,[0 if i <=0.5 else 1for i in random_search.best_estimator_.predict(X_test).reshape(-1,1)]),\n",
    "            'train_score': accuracy_score(y_train,[0 if i <=0.5 else 1for i in random_search.best_estimator_.predict(X_train).reshape(-1,1)])}\n",
    "   \n",
    "    with experiment.run_experiment() as run: \n",
    "        run.log_metrics(metrics)\n",
    "        run.log_model(random_search.best_estimator_)"
   ]
  },
  {
   "cell_type": "markdown",
   "id": "33b157b6",
   "metadata": {},
   "source": [
    "### 3. Model training and validation"
   ]
  },
  {
   "cell_type": "markdown",
   "id": "c865f820-c3ca-49c4-8179-d9cdb97f18a1",
   "metadata": {},
   "source": [
    "### Save model binary"
   ]
  },
  {
   "cell_type": "code",
   "execution_count": 11,
   "id": "75c0d3f9",
   "metadata": {},
   "outputs": [],
   "source": [
    "# import torch\n",
    "# X_train = torch.Tensor((X_train))"
   ]
  },
  {
   "cell_type": "code",
   "execution_count": 21,
   "id": "2bf5ebb5",
   "metadata": {
    "scrolled": true
   },
   "outputs": [],
   "source": [
    "# import pickle\n",
    "# pickle.dump(model, open('model_xg.pkl', \"wb\"))\n",
    "random_search.best_estimator_.save_model('model_xg_hyper_test.json')\n",
    "\n",
    "# import joblib\n",
    "# #save model\n",
    "# joblib.dump(model, 'model_xg_2.pkl') "
   ]
  },
  {
   "cell_type": "code",
   "execution_count": 68,
   "id": "7b3c7b38",
   "metadata": {},
   "outputs": [
    {
     "data": {
      "text/plain": [
       "[\"2022-06-01 13:29:43.646123: W tensorflow/stream_executor/platform/default/dso_loader.cc:64] Could not load dynamic library 'libcudart.so.11.0'; dlerror: libcudart.so.11.0: cannot open shared object file: No such file or directory\",\n",
       " '2022-06-01 13:29:43.646149: I tensorflow/stream_executor/cuda/cudart_stub.cc:29] Ignore above cudart dlerror if you do not have a GPU set up on your machine.',\n",
       " '2022-06-01 13:29:45.267067: E tensorflow/stream_executor/cuda/cuda_driver.cc:271] failed call to cuInit: CUDA_ERROR_NO_DEVICE: no CUDA-capable device is detected',\n",
       " '2022-06-01 13:29:45.267091: I tensorflow/stream_executor/cuda/cuda_diagnostics.cc:156] kernel driver does not appear to be running on this host (GS-5460): /proc/driver/nvidia/version does not exist',\n",
       " '2022-06-01 13:29:45.267322: I tensorflow/core/platform/cpu_feature_guard.cc:193] This TensorFlow binary is optimized with oneAPI Deep Neural Network Library (oneDNN) to use the following CPU instructions in performance-critical operations:  AVX2 FMA',\n",
       " 'To enable them in other operations, rebuild TensorFlow with the appropriate compiler flags.',\n",
       " \"/usr/lib/python3.8/runpy.py:127: RuntimeWarning: 'tf2onnx.convert' found in sys.modules after import of package 'tf2onnx', but prior to execution of 'tf2onnx.convert'; this may result in unpredictable behaviour\",\n",
       " '  warn(RuntimeWarning(msg))',\n",
       " \"2022-06-01 13:29:45,268 - WARNING - '--tag' not specified for saved_model. Using --tag serve\",\n",
       " '2022-06-01 13:29:45,563 - INFO - Signatures found in model: [serving_default].',\n",
       " \"2022-06-01 13:29:45,563 - WARNING - '--signature_def' not specified, using first signature: serving_default\",\n",
       " \"2022-06-01 13:29:45,564 - INFO - Output names: ['dense_2']\",\n",
       " '2022-06-01 13:29:45.565578: I tensorflow/core/grappler/devices.cc:66] Number of eligible GPUs (core count >= 8, compute capability >= 0.0): 0',\n",
       " '2022-06-01 13:29:45.565713: I tensorflow/core/grappler/clusters/single_machine.cc:358] Starting new session',\n",
       " 'WARNING:tensorflow:From /home/subratho/.local/lib/python3.8/site-packages/tf2onnx/tf_loader.py:711: extract_sub_graph (from tensorflow.python.framework.graph_util_impl) is deprecated and will be removed in a future version.',\n",
       " 'Instructions for updating:',\n",
       " 'Use `tf.compat.v1.graph_util.extract_sub_graph`',\n",
       " '2022-06-01 13:29:45,652 - WARNING - From /home/subratho/.local/lib/python3.8/site-packages/tf2onnx/tf_loader.py:711: extract_sub_graph (from tensorflow.python.framework.graph_util_impl) is deprecated and will be removed in a future version.',\n",
       " 'Instructions for updating:',\n",
       " 'Use `tf.compat.v1.graph_util.extract_sub_graph`',\n",
       " '2022-06-01 13:29:45.655016: I tensorflow/core/grappler/devices.cc:66] Number of eligible GPUs (core count >= 8, compute capability >= 0.0): 0',\n",
       " '2022-06-01 13:29:45.655135: I tensorflow/core/grappler/clusters/single_machine.cc:358] Starting new session',\n",
       " '2022-06-01 13:29:45,666 - INFO - Using tensorflow=2.9.1, onnx=1.11.0, tf2onnx=1.10.1/a37f29',\n",
       " '2022-06-01 13:29:45,666 - INFO - Using opset <onnx, 7>',\n",
       " '2022-06-01 13:29:45,680 - INFO - Computed 0 values for constant folding',\n",
       " '2022-06-01 13:29:45,697 - INFO - Optimizing ONNX model',\n",
       " '2022-06-01 13:29:45,741 - INFO - After optimization: Identity -5 (5->0)',\n",
       " '2022-06-01 13:29:45,743 - INFO - ',\n",
       " '2022-06-01 13:29:45,743 - INFO - Successfully converted TensorFlow model ./output/saved_model to ONNX',\n",
       " \"2022-06-01 13:29:45,743 - INFO - Model inputs: ['dense_input', 'StatefulPartitionedCall/sequential/dense_2/MatMul/ReadVariableOp:0', 'StatefulPartitionedCall/sequential/dense_2/BiasAdd/ReadVariableOp:0', 'StatefulPartitionedCall/sequential/dense_1/MatMul/ReadVariableOp:0', 'StatefulPartitionedCall/sequential/dense_1/BiasAdd/ReadVariableOp:0', 'StatefulPartitionedCall/sequential/dense/MatMul/ReadVariableOp:0', 'StatefulPartitionedCall/sequential/dense/BiasAdd/ReadVariableOp:0', 'StatefulPartitionedCall/sequential/batch_normalization_1/batchnorm/sub:0', 'StatefulPartitionedCall/sequential/batch_normalization_1/batchnorm/mul:0', 'StatefulPartitionedCall/sequential/batch_normalization/batchnorm/sub:0', 'StatefulPartitionedCall/sequential/batch_normalization/batchnorm/mul:0']\",\n",
       " \"2022-06-01 13:29:45,743 - INFO - Model outputs: ['dense_2']\",\n",
       " '2022-06-01 13:29:45,743 - INFO - ONNX model is saved at ./output/model.onnx']"
      ]
     },
     "execution_count": 68,
     "metadata": {},
     "output_type": "execute_result"
    }
   ],
   "source": [
    "!python3 -m tf2onnx.convert \\\n",
    "        --saved-model ./output/saved_model \\\n",
    "        --output ./output/model.onnx \\\n",
    "        --opset 7"
   ]
  },
  {
   "cell_type": "code",
   "execution_count": 26,
   "id": "b0182722-d5c4-4321-9b9a-1b26f097007e",
   "metadata": {},
   "outputs": [
    {
     "data": {
      "text/html": [
       "<div>\n",
       "<style scoped>\n",
       "    .dataframe tbody tr th:only-of-type {\n",
       "        vertical-align: middle;\n",
       "    }\n",
       "\n",
       "    .dataframe tbody tr th {\n",
       "        vertical-align: top;\n",
       "    }\n",
       "\n",
       "    .dataframe thead th {\n",
       "        text-align: right;\n",
       "    }\n",
       "</style>\n",
       "<table border=\"1\" class=\"dataframe\">\n",
       "  <thead>\n",
       "    <tr style=\"text-align: right;\">\n",
       "      <th></th>\n",
       "      <th>id</th>\n",
       "      <th>dataset</th>\n",
       "      <th>artifact_paths</th>\n",
       "      <th>metric_test_score</th>\n",
       "      <th>metric_train_score</th>\n",
       "      <th>metadata_run_time</th>\n",
       "    </tr>\n",
       "  </thead>\n",
       "  <tbody>\n",
       "    <tr>\n",
       "      <th>0</th>\n",
       "      <td>c6366f0b-7d73-464a-bb2c-eee83ec3c97c</td>\n",
       "      <td>d5775d14-11be-40aa-bd56-856ebbb0068f</td>\n",
       "      <td>[{'id': '1d30e5ff-e9f9-4660-bfab-cc4acbf5526e'...</td>\n",
       "      <td>0.79602</td>\n",
       "      <td>0.811378</td>\n",
       "      <td>0.000014</td>\n",
       "    </tr>\n",
       "    <tr>\n",
       "      <th>1</th>\n",
       "      <td>12bc80f9-39fe-4892-bae0-769b5e84ed45</td>\n",
       "      <td>d5775d14-11be-40aa-bd56-856ebbb0068f</td>\n",
       "      <td>[{'id': '4ccb4f14-d0f2-4b14-ad22-c3ed11fb7c22'...</td>\n",
       "      <td>0.79602</td>\n",
       "      <td>0.811378</td>\n",
       "      <td>0.000013</td>\n",
       "    </tr>\n",
       "    <tr>\n",
       "      <th>2</th>\n",
       "      <td>515da186-9db6-4b84-b534-77b2d6e78318</td>\n",
       "      <td>d5775d14-11be-40aa-bd56-856ebbb0068f</td>\n",
       "      <td>[{'id': '366e52d1-3197-4990-85c1-e5af9bdd3214'...</td>\n",
       "      <td>0.79602</td>\n",
       "      <td>0.811378</td>\n",
       "      <td>0.000013</td>\n",
       "    </tr>\n",
       "  </tbody>\n",
       "</table>\n",
       "</div>"
      ],
      "text/plain": [
       "                                     id                               dataset  \\\n",
       "0  c6366f0b-7d73-464a-bb2c-eee83ec3c97c  d5775d14-11be-40aa-bd56-856ebbb0068f   \n",
       "1  12bc80f9-39fe-4892-bae0-769b5e84ed45  d5775d14-11be-40aa-bd56-856ebbb0068f   \n",
       "2  515da186-9db6-4b84-b534-77b2d6e78318  d5775d14-11be-40aa-bd56-856ebbb0068f   \n",
       "\n",
       "                                      artifact_paths  metric_test_score  \\\n",
       "0  [{'id': '1d30e5ff-e9f9-4660-bfab-cc4acbf5526e'...            0.79602   \n",
       "1  [{'id': '4ccb4f14-d0f2-4b14-ad22-c3ed11fb7c22'...            0.79602   \n",
       "2  [{'id': '366e52d1-3197-4990-85c1-e5af9bdd3214'...            0.79602   \n",
       "\n",
       "   metric_train_score  metadata_run_time  \n",
       "0            0.811378           0.000014  \n",
       "1            0.811378           0.000013  \n",
       "2            0.811378           0.000013  "
      ]
     },
     "execution_count": 26,
     "metadata": {},
     "output_type": "execute_result"
    }
   ],
   "source": [
    "runs = experiment.list_runs()\n",
    "runs"
   ]
  },
  {
   "cell_type": "code",
   "execution_count": 27,
   "id": "0e848d0d-0d5e-4d03-89e7-6baaa3ba1112",
   "metadata": {},
   "outputs": [
    {
     "data": {
      "text/html": [
       "<div>\n",
       "<style scoped>\n",
       "    .dataframe tbody tr th:only-of-type {\n",
       "        vertical-align: middle;\n",
       "    }\n",
       "\n",
       "    .dataframe tbody tr th {\n",
       "        vertical-align: top;\n",
       "    }\n",
       "\n",
       "    .dataframe thead th {\n",
       "        text-align: right;\n",
       "    }\n",
       "</style>\n",
       "<table border=\"1\" class=\"dataframe\">\n",
       "  <thead>\n",
       "    <tr style=\"text-align: right;\">\n",
       "      <th></th>\n",
       "      <th>id</th>\n",
       "      <th>dataset</th>\n",
       "      <th>artifact_paths</th>\n",
       "      <th>metric_test_score</th>\n",
       "      <th>metric_train_score</th>\n",
       "      <th>metadata_run_time</th>\n",
       "    </tr>\n",
       "  </thead>\n",
       "  <tbody>\n",
       "    <tr>\n",
       "      <th>0</th>\n",
       "      <td>c6366f0b-7d73-464a-bb2c-eee83ec3c97c</td>\n",
       "      <td>d5775d14-11be-40aa-bd56-856ebbb0068f</td>\n",
       "      <td>[{'id': '1d30e5ff-e9f9-4660-bfab-cc4acbf5526e'...</td>\n",
       "      <td>0.79602</td>\n",
       "      <td>0.811378</td>\n",
       "      <td>0.000014</td>\n",
       "    </tr>\n",
       "    <tr>\n",
       "      <th>1</th>\n",
       "      <td>12bc80f9-39fe-4892-bae0-769b5e84ed45</td>\n",
       "      <td>d5775d14-11be-40aa-bd56-856ebbb0068f</td>\n",
       "      <td>[{'id': '4ccb4f14-d0f2-4b14-ad22-c3ed11fb7c22'...</td>\n",
       "      <td>0.79602</td>\n",
       "      <td>0.811378</td>\n",
       "      <td>0.000013</td>\n",
       "    </tr>\n",
       "    <tr>\n",
       "      <th>2</th>\n",
       "      <td>515da186-9db6-4b84-b534-77b2d6e78318</td>\n",
       "      <td>d5775d14-11be-40aa-bd56-856ebbb0068f</td>\n",
       "      <td>[{'id': '366e52d1-3197-4990-85c1-e5af9bdd3214'...</td>\n",
       "      <td>0.79602</td>\n",
       "      <td>0.811378</td>\n",
       "      <td>0.000013</td>\n",
       "    </tr>\n",
       "  </tbody>\n",
       "</table>\n",
       "</div>"
      ],
      "text/plain": [
       "                                     id                               dataset  \\\n",
       "0  c6366f0b-7d73-464a-bb2c-eee83ec3c97c  d5775d14-11be-40aa-bd56-856ebbb0068f   \n",
       "1  12bc80f9-39fe-4892-bae0-769b5e84ed45  d5775d14-11be-40aa-bd56-856ebbb0068f   \n",
       "2  515da186-9db6-4b84-b534-77b2d6e78318  d5775d14-11be-40aa-bd56-856ebbb0068f   \n",
       "\n",
       "                                      artifact_paths  metric_test_score  \\\n",
       "0  [{'id': '1d30e5ff-e9f9-4660-bfab-cc4acbf5526e'...            0.79602   \n",
       "1  [{'id': '4ccb4f14-d0f2-4b14-ad22-c3ed11fb7c22'...            0.79602   \n",
       "2  [{'id': '366e52d1-3197-4990-85c1-e5af9bdd3214'...            0.79602   \n",
       "\n",
       "   metric_train_score  metadata_run_time  \n",
       "0            0.811378           0.000014  \n",
       "1            0.811378           0.000013  \n",
       "2            0.811378           0.000013  "
      ]
     },
     "execution_count": 27,
     "metadata": {},
     "output_type": "execute_result"
    }
   ],
   "source": [
    "runs.sort_values('metric_test_score',ascending=False)"
   ]
  },
  {
   "cell_type": "code",
   "execution_count": 28,
   "id": "d0da1128-210b-408f-9bd2-069014db1290",
   "metadata": {},
   "outputs": [
    {
     "data": {
      "text/plain": [
       "'c6366f0b-7d73-464a-bb2c-eee83ec3c97c'"
      ]
     },
     "execution_count": 28,
     "metadata": {},
     "output_type": "execute_result"
    }
   ],
   "source": [
    "best_run_id = runs.sort_values(\"metric_test_score\", ascending=False).id.values[0]\n",
    "best_run_id"
   ]
  },
  {
   "cell_type": "code",
   "execution_count": 29,
   "id": "29aa4148-7a8e-476f-8eb9-9ad1e8e58b7c",
   "metadata": {},
   "outputs": [],
   "source": [
    "my_model.set_final_run(experiment, best_run_id)"
   ]
  }
 ],
 "metadata": {
  "kernelspec": {
   "display_name": "Python 3 (ipykernel)",
   "language": "python",
   "name": "python3"
  },
  "language_info": {
   "codemirror_mode": {
    "name": "ipython",
    "version": 3
   },
   "file_extension": ".py",
   "mimetype": "text/x-python",
   "name": "python",
   "nbconvert_exporter": "python",
   "pygments_lexer": "ipython3",
   "version": "3.9.12"
  }
 },
 "nbformat": 4,
 "nbformat_minor": 5
}
