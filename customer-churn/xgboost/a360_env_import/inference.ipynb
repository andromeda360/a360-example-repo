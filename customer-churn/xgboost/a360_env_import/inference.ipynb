{
 "cells": [
  {
   "cell_type": "code",
   "execution_count": 1,
   "id": "1d0b264d-9b86-4955-b5b8-2243113d51fc",
   "metadata": {},
   "outputs": [
    {
     "name": "stdout",
     "output_type": "stream",
     "text": [
      "notebook-server-danish-xgboost-hyper-b6590c6-0\n"
     ]
    }
   ],
   "source": [
    "!hostname"
   ]
  },
  {
   "cell_type": "code",
   "execution_count": 2,
   "id": "583337ab-1ce2-4812-a92b-17b29c57ed11",
   "metadata": {},
   "outputs": [],
   "source": [
    "import requests\n",
    "import json"
   ]
  },
  {
   "cell_type": "code",
   "execution_count": 3,
   "id": "5ff40339-5ba0-43a0-bc25-3a67d7ec2db3",
   "metadata": {},
   "outputs": [],
   "source": [
    "# curl --header 'Content-Type: application/json' --header 'apikey: REPLACE-WITH-YOUR-API-KEY' --data '{}' --request POST 'https://qa-models.a360.ai/danish-test-demand-import-xgb-hyper-1/'"
   ]
  },
  {
   "cell_type": "code",
   "execution_count": 4,
   "id": "a3a5504e-3137-40c4-90a4-a0a2c43dba8b",
   "metadata": {},
   "outputs": [],
   "source": [
    "url = \"https://qa-models.a360.ai/danish-test-demand-import-xgb-hyper-1/\"\n",
    "headers = {'Content-Type': \"application/json\",\n",
    "          'apikey': \"de354e32-fe46-4a89-92c9-43db12aaf433\"}"
   ]
  },
  {
   "cell_type": "code",
   "execution_count": 5,
   "id": "c3738d4c-8e4d-42f1-bcd0-29d039504ee6",
   "metadata": {},
   "outputs": [],
   "source": [
    "data = {'gender': 1.000000,\n",
    "'SeniorCitizen': 0.000000,\n",
    "'Partner': 1.000000,\n",
    "'Dependents': 0.000000,\n",
    "'tenure': 0.000000,\n",
    "'PhoneService': 0.000000,\n",
    "'MultipleLines': 0.000000,\n",
    "'OnlineSecurity': 0.000000,\n",
    "'OnlineBackup': 1.000000,\n",
    "'DeviceProtection': 0.000000,\n",
    "'TechSupport': 0.000000,\n",
    "'StreamingTV': 0.000000,\n",
    "'StreamingMovies': 0.000000,\n",
    "'PaperlessBilling': 1.000000,\n",
    "'MonthlyCharges': 0.115423, \n",
    "'TotalCharges': 0.001275,\n",
    "'InternetService_DSL': 1.000000, \n",
    "'InternetService_Fiber optic': 0.000000,\n",
    "'InternetService_No': 0.000000, \n",
    "'Contract_Month-to-month': 1.000000, \n",
    "'Contract_One year': 0.000000,\n",
    "'Contract_Two year': 0.000000, \n",
    "'PaymentMethod_Bank transfer (automatic)': 0.000000,\n",
    "'PaymentMethod_Credit card (automatic)': 0.000000, \n",
    "'PaymentMethod_Electronic check': 1.000000, \n",
    "'PaymentMethod_Mailed check': 0.000000}"
   ]
  },
  {
   "cell_type": "code",
   "execution_count": 6,
   "id": "a7742347-4f2a-4a74-83a8-7d73589c5bf8",
   "metadata": {},
   "outputs": [],
   "source": [
    "data = json.dumps(data,indent=2)"
   ]
  },
  {
   "cell_type": "code",
   "execution_count": 7,
   "id": "d57db4c4-bdde-487b-a92c-1d4230d8ab57",
   "metadata": {},
   "outputs": [
    {
     "data": {
      "text/plain": [
       "'0.0'"
      ]
     },
     "execution_count": 7,
     "metadata": {},
     "output_type": "execute_result"
    }
   ],
   "source": [
    "prediction = requests.post(url,data=data,headers=headers).text.split(':')[-1].split(\"}\")[0]\n",
    "prediction"
   ]
  }
 ],
 "metadata": {
  "kernelspec": {
   "display_name": "Python 3 (ipykernel)",
   "language": "python",
   "name": "python3"
  },
  "language_info": {
   "codemirror_mode": {
    "name": "ipython",
    "version": 3
   },
   "file_extension": ".py",
   "mimetype": "text/x-python",
   "name": "python",
   "nbconvert_exporter": "python",
   "pygments_lexer": "ipython3",
   "version": "3.9.12"
  }
 },
 "nbformat": 4,
 "nbformat_minor": 5
}
