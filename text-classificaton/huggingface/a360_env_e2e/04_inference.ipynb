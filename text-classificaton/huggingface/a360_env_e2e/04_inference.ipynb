{
 "cells": [
  {
   "cell_type": "code",
   "execution_count": null,
   "id": "1d0b264d-9b86-4955-b5b8-2243113d51fc",
   "metadata": {},
   "outputs": [],
   "source": [
    "!hostname"
   ]
  },
  {
   "cell_type": "code",
   "execution_count": null,
   "id": "583337ab-1ce2-4812-a92b-17b29c57ed11",
   "metadata": {},
   "outputs": [],
   "source": [
    "import requests\n",
    "import json"
   ]
  },
  {
   "cell_type": "code",
   "execution_count": null,
   "id": "62b8f215-671f-4b61-9594-726017c59d29",
   "metadata": {},
   "outputs": [],
   "source": [
    "# curl --header 'Content-Type: application/json' --header 'apikey: REPLACE-WITH-YOUR-API-KEY' --data '{}' --request POST 'https://ms-dev.a360.ai/test-huggingface-pred-demo-5-1/'"
   ]
  },
  {
   "cell_type": "code",
   "execution_count": null,
   "id": "a3a5504e-3137-40c4-90a4-a0a2c43dba8b",
   "metadata": {},
   "outputs": [],
   "source": [
    "url = \"https://ms-dev.a360.ai/test-huggingface-pred-demo-5-1/\"\n",
    "headers = {'Content-Type': \"application/json\",\n",
    "          'apikey': \"02fd5bde-f87f-4a74-b1a3-799ddc32a2b9\"}"
   ]
  },
  {
   "cell_type": "code",
   "execution_count": null,
   "id": "c3738d4c-8e4d-42f1-bcd0-29d039504ee6",
   "metadata": {},
   "outputs": [],
   "source": [
    "data = {\"message\": \"this is some good string\"}"
   ]
  },
  {
   "cell_type": "code",
   "execution_count": null,
   "id": "a7742347-4f2a-4a74-83a8-7d73589c5bf8",
   "metadata": {},
   "outputs": [],
   "source": [
    "data = json.dumps(data,indent=2)"
   ]
  },
  {
   "cell_type": "code",
   "execution_count": null,
   "id": "d57db4c4-bdde-487b-a92c-1d4230d8ab57",
   "metadata": {},
   "outputs": [],
   "source": [
    "prediction = requests.post(url,data=data,headers=headers).text.split(':')[-1].split(\"}\")[0]\n",
    "prediction"
   ]
  },
  {
   "cell_type": "code",
   "execution_count": null,
   "id": "f05c8e20-a144-4612-a6a8-16454bc586d8",
   "metadata": {},
   "outputs": [],
   "source": []
  }
 ],
 "metadata": {
  "kernelspec": {
   "display_name": "Python 3 (ipykernel)",
   "language": "python",
   "name": "python3"
  },
  "language_info": {
   "codemirror_mode": {
    "name": "ipython",
    "version": 3
   },
   "file_extension": ".py",
   "mimetype": "text/x-python",
   "name": "python",
   "nbconvert_exporter": "python",
   "pygments_lexer": "ipython3",
   "version": "3.10.6"
  }
 },
 "nbformat": 4,
 "nbformat_minor": 5
}
