{
 "cells": [
  {
   "cell_type": "markdown",
   "id": "6cd9e130-331a-4aac-b9b2-f575dce0900d",
   "metadata": {
    "tags": []
   },
   "source": [
    "### Import existing model with a360ai MDK"
   ]
  },
  {
   "cell_type": "code",
   "execution_count": 1,
   "id": "dd545fd7-26a0-450d-b024-5d7eb4263535",
   "metadata": {},
   "outputs": [
    {
     "data": {
      "text/plain": [
       "<A360 AI Interface for project: Cancer Treatment>"
      ]
     },
     "execution_count": 1,
     "metadata": {},
     "output_type": "execute_result"
    }
   ],
   "source": [
    "a360ai"
   ]
  },
  {
   "cell_type": "code",
   "execution_count": 2,
   "id": "2b300b92-2a8e-41fa-ba50-cfbf9dfe5f5f",
   "metadata": {},
   "outputs": [
    {
     "data": {
      "text/plain": [
       "'Cancer Treatment'"
      ]
     },
     "execution_count": 2,
     "metadata": {},
     "output_type": "execute_result"
    }
   ],
   "source": [
    "# Get default data repo\n",
    "DATAREPO_LIST = a360ai.list_datarepos()\n",
    "DATAREPO = DATAREPO_LIST['name'][0]\n",
    "DATAREPO"
   ]
  },
  {
   "cell_type": "code",
   "execution_count": 3,
   "id": "b7258e86-f4ee-4379-b70e-873a9316813e",
   "metadata": {},
   "outputs": [],
   "source": [
    "import numpy as np\n",
    "import pandas as pd\n",
    "from sklearn.model_selection import train_test_split\n",
    "from sklearn.metrics import accuracy_score\n",
    "\n",
    "import joblib\n",
    "from matplotlib import pyplot as plt"
   ]
  },
  {
   "cell_type": "code",
   "execution_count": 4,
   "id": "0d8d8c65-6057-41cd-bcee-f755c63add55",
   "metadata": {},
   "outputs": [],
   "source": [
    "import warnings\n",
    "warnings.filterwarnings('ignore')"
   ]
  },
  {
   "cell_type": "markdown",
   "id": "070971df-d341-4078-950c-3d363db1dd9b",
   "metadata": {},
   "source": [
    "#### 1. Set Default Data Repo and load data"
   ]
  },
  {
   "cell_type": "code",
   "execution_count": 5,
   "id": "ed1bf27c-d723-42e5-9a7e-e765dd73c68b",
   "metadata": {},
   "outputs": [],
   "source": [
    "a360ai.set_default_datarepo(DATAREPO)"
   ]
  },
  {
   "cell_type": "code",
   "execution_count": 5,
   "id": "30f7f8be-5b3b-4405-8080-48501dd73d77",
   "metadata": {},
   "outputs": [
    {
     "data": {
      "text/html": [
       "<div>\n",
       "<style scoped>\n",
       "    .dataframe tbody tr th:only-of-type {\n",
       "        vertical-align: middle;\n",
       "    }\n",
       "\n",
       "    .dataframe tbody tr th {\n",
       "        vertical-align: top;\n",
       "    }\n",
       "\n",
       "    .dataframe thead th {\n",
       "        text-align: right;\n",
       "    }\n",
       "</style>\n",
       "<table border=\"1\" class=\"dataframe\">\n",
       "  <thead>\n",
       "    <tr style=\"text-align: right;\">\n",
       "      <th></th>\n",
       "      <th>base_name</th>\n",
       "      <th>extension</th>\n",
       "      <th>size</th>\n",
       "    </tr>\n",
       "  </thead>\n",
       "  <tbody>\n",
       "    <tr>\n",
       "      <th>1</th>\n",
       "      <td>X.csv</td>\n",
       "      <td>csv</td>\n",
       "      <td>33663549.0</td>\n",
       "    </tr>\n",
       "    <tr>\n",
       "      <th>2</th>\n",
       "      <td>X_drift.csv</td>\n",
       "      <td>csv</td>\n",
       "      <td>511237.0</td>\n",
       "    </tr>\n",
       "    <tr>\n",
       "      <th>3</th>\n",
       "      <td>X_feature.csv</td>\n",
       "      <td>csv</td>\n",
       "      <td>1736963.0</td>\n",
       "    </tr>\n",
       "    <tr>\n",
       "      <th>4</th>\n",
       "      <td>X_test.csv</td>\n",
       "      <td>csv</td>\n",
       "      <td>10048776.0</td>\n",
       "    </tr>\n",
       "    <tr>\n",
       "      <th>5</th>\n",
       "      <td>X_test_f.csv</td>\n",
       "      <td>csv</td>\n",
       "      <td>517542.0</td>\n",
       "    </tr>\n",
       "    <tr>\n",
       "      <th>6</th>\n",
       "      <td>rf_model.pkl</td>\n",
       "      <td>pkl</td>\n",
       "      <td>14530126.0</td>\n",
       "    </tr>\n",
       "    <tr>\n",
       "      <th>7</th>\n",
       "      <td>y.csv</td>\n",
       "      <td>csv</td>\n",
       "      <td>13290.0</td>\n",
       "    </tr>\n",
       "  </tbody>\n",
       "</table>\n",
       "</div>"
      ],
      "text/plain": [
       "       base_name extension        size\n",
       "1          X.csv       csv  33663549.0\n",
       "2    X_drift.csv       csv    511237.0\n",
       "3  X_feature.csv       csv   1736963.0\n",
       "4     X_test.csv       csv  10048776.0\n",
       "5   X_test_f.csv       csv    517542.0\n",
       "6   rf_model.pkl       pkl  14530126.0\n",
       "7          y.csv       csv     13290.0"
      ]
     },
     "execution_count": 5,
     "metadata": {},
     "output_type": "execute_result"
    }
   ],
   "source": [
    "a360ai.list_datasets()"
   ]
  },
  {
   "cell_type": "code",
   "execution_count": 6,
   "id": "2d7abe1e-886c-4884-8fa2-c4cf5bab01f7",
   "metadata": {},
   "outputs": [],
   "source": [
    "X = a360ai.load_dataset(\"X_feature.csv\")\n",
    "y = a360ai.load_dataset(\"y.csv\")"
   ]
  },
  {
   "cell_type": "code",
   "execution_count": 7,
   "id": "e748b83d-4587-4cdd-9c0e-ffc6736b3993",
   "metadata": {},
   "outputs": [],
   "source": [
    "X_train, X_test, y_train, y_test = train_test_split(X, y, test_size=0.15, random_state=0)"
   ]
  },
  {
   "cell_type": "markdown",
   "id": "c6a1c66b-ab90-4219-ad03-54bd3b61ec33",
   "metadata": {},
   "source": [
    "#### 2. Load existing model binary"
   ]
  },
  {
   "cell_type": "code",
   "execution_count": 9,
   "id": "9550d91f-075c-4fca-b8e0-f4ebd88094d4",
   "metadata": {},
   "outputs": [],
   "source": [
    "a360ai.get_object(\"rf_model.pkl\")"
   ]
  },
  {
   "cell_type": "code",
   "execution_count": 8,
   "id": "919828a2-5737-4f28-a44d-97faf65c8b90",
   "metadata": {},
   "outputs": [],
   "source": [
    "rf = joblib.load(\"rf_model.pkl\")"
   ]
  },
  {
   "cell_type": "markdown",
   "id": "87bdf42e-4d88-4111-a257-a5de41042f14",
   "metadata": {},
   "source": [
    "#### 3. Test a prediction to make sure the model works as expected"
   ]
  },
  {
   "cell_type": "code",
   "execution_count": 9,
   "id": "494214bc-a635-42c4-a917-a4fab36ec206",
   "metadata": {},
   "outputs": [],
   "source": [
    "y_pred = rf.predict(X_test)"
   ]
  },
  {
   "cell_type": "code",
   "execution_count": 10,
   "id": "ae7282e2-b0f3-4ac6-8a63-5821854a607e",
   "metadata": {},
   "outputs": [
    {
     "data": {
      "text/plain": [
       "0.8276553106212425"
      ]
     },
     "execution_count": 10,
     "metadata": {},
     "output_type": "execute_result"
    }
   ],
   "source": [
    "accuracy = accuracy_score(y_test, y_pred)\n",
    "accuracy"
   ]
  },
  {
   "cell_type": "markdown",
   "id": "6503fd22-0d9d-4d01-b4e6-7fc6889fdbfc",
   "metadata": {},
   "source": [
    "#### 4. Register model with A360 AI\n",
    "- Register and import the existing model with a360ai MDK\n",
    "- Check on `Models` in the platform left panel, if registered successfully, the specified `model_name` will show up "
   ]
  },
  {
   "cell_type": "code",
   "execution_count": 11,
   "id": "38327533-69f0-4462-98d8-890e301709f6",
   "metadata": {},
   "outputs": [
    {
     "name": "stdout",
     "output_type": "stream",
     "text": [
      "\n",
      "//-- Experiment Loaded --//\n",
      "Model Name: cancer_rf_import_6_3\n",
      "Experiment Name: cancer_rf_import_experiment_6_3\n",
      "Final Run Id: None\n",
      "Model Flavor: sklearn\n",
      "Input Signature: 2 float, 3 float, 4 float, 16 float, 13 float, 12 float, 35 float, 9 float, 18 float, 25 float, 8 float, 19 float, 7 float, 15 float, 22 float, 33 float, 14 float, 10 float, 5 float, 64 float, 29 float, 11 float, 17 float, 70 float, 36 float\n",
      "Output Signature: Class float\n",
      "Data Exploration File: /home/jovyan/import_model.ipynb\n",
      "Data Preparation File: /home/jovyan/import_model.ipynb\n",
      "Model Training File: /home/jovyan/import_model.ipynb\n",
      "Drift Monitoring Enabled: True\n",
      "\n"
     ]
    }
   ],
   "source": [
    "imported_model = a360ai.import_model(\n",
    "    model_name = \"cancer_rf_import\",\n",
    "    experiment_name = \"cancer_rf_import_experiment\",\n",
    "    model_artifact_object_in_memory = rf,\n",
    "    model_flavor = \"sklearn\",\n",
    "    model_type = \"classification\",\n",
    "    enable_drift_monitoring=True,\n",
    "    train_features=X_train,\n",
    "    train_target=y_train,\n",
    "    feature_names=list(X.columns)\n",
    ")"
   ]
  },
  {
   "cell_type": "code",
   "execution_count": null,
   "id": "17680c4d-502f-4ac4-af4c-975baf1ebdd3",
   "metadata": {},
   "outputs": [],
   "source": []
  }
 ],
 "metadata": {
  "kernelspec": {
   "display_name": "Python 3 (ipykernel)",
   "language": "python",
   "name": "python3"
  },
  "language_info": {
   "codemirror_mode": {
    "name": "ipython",
    "version": 3
   },
   "file_extension": ".py",
   "mimetype": "text/x-python",
   "name": "python",
   "nbconvert_exporter": "python",
   "pygments_lexer": "ipython3",
   "version": "3.9.12"
  }
 },
 "nbformat": 4,
 "nbformat_minor": 5
}
