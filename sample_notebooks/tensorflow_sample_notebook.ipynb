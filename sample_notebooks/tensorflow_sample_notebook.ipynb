{
 "cells": [
  {
   "cell_type": "markdown",
   "id": "cb728d45-66c8-4362-884c-680c0e909762",
   "metadata": {},
   "source": [
    "### A360AI\n",
    "Ensure that the A360AI object is loaded"
   ]
  },
  {
   "cell_type": "code",
   "execution_count": null,
   "id": "d0b3f1ee-7214-43ac-a6fc-af9e22bdb69c",
   "metadata": {},
   "outputs": [],
   "source": [
    "a360ai"
   ]
  },
  {
   "cell_type": "markdown",
   "id": "3321623d-e662-4896-9591-718d0881afe2",
   "metadata": {},
   "source": [
    "This is the project associated with the workspace."
   ]
  },
  {
   "cell_type": "code",
   "execution_count": null,
   "id": "b957819f-379f-439d-9cb3-663b06c9f045",
   "metadata": {},
   "outputs": [],
   "source": [
    "a360ai.project_name"
   ]
  },
  {
   "cell_type": "markdown",
   "id": "e58886e3-7709-431b-a963-34054cdb5eb6",
   "metadata": {},
   "source": [
    "This is the workspace flavor. It can be any one of 'spark', 'scipy', 'pytorch', 'tensorflow', 'huggingface', or 'xgboost'."
   ]
  },
  {
   "cell_type": "code",
   "execution_count": null,
   "id": "a2dbce31-4cb6-4b66-905c-a7bc15787235",
   "metadata": {},
   "outputs": [],
   "source": [
    "import os\n",
    "image_flavor = os.environ[\"A360_IMAGE\"].split(\"-\")\n",
    "if image_flavor[-2] == \"huggingface\":\n",
    "    flavor = \"huggingface\"\n",
    "else:\n",
    "    flavor = image_flavor[-1]\n",
    "flavor"
   ]
  },
  {
   "cell_type": "markdown",
   "id": "39f77c9d-3139-49c2-8e2d-5031837b4365",
   "metadata": {},
   "source": [
    "### Data Repos\n",
    "Data Repos are A360AI objects used to read and write datasets. A project can be associated with multiple datarepos but a datarepo is always associated with a single project.\n",
    "\n",
    "List the datarepos associated with the current project."
   ]
  },
  {
   "cell_type": "code",
   "execution_count": null,
   "id": "370931f5-9528-4b17-9c54-cc0cc196eced",
   "metadata": {},
   "outputs": [],
   "source": [
    "datarepos = a360ai.list_datarepos()\n",
    "\n",
    "if datarepos.shape[0] == 0:\n",
    "    raise Exception(f\"No data repos associated with the project {a360ai.project_name}. Please add a datarepo.\")\n",
    "datarepos"
   ]
  },
  {
   "cell_type": "markdown",
   "id": "19bc2deb-24ce-4dc3-818d-a1c35707df1c",
   "metadata": {},
   "source": [
    "#### Select a datarepo\n",
    "Please set the *datarepo_name* variable to a valid string. The ``set_default_datarepo`` method needs to be used in order to access the datasets stored in the specific datarepo."
   ]
  },
  {
   "cell_type": "code",
   "execution_count": null,
   "id": "77b446ed-c020-44b3-95d3-9f490c18c829",
   "metadata": {},
   "outputs": [],
   "source": [
    "### Can use \"Health Byte - Dev\"\n",
    "\n",
    "datarepo_name = <DATAREPO_NAME> \n",
    "a360ai.set_default_datarepo(datarepo_name)"
   ]
  },
  {
   "cell_type": "markdown",
   "id": "4369a6ae-61f1-4269-ac38-053aba5c4209",
   "metadata": {},
   "source": [
    "List the datasets stored in the current datarepo."
   ]
  },
  {
   "cell_type": "code",
   "execution_count": null,
   "id": "fa5b5d93-b59b-4357-ab3f-42e990962af9",
   "metadata": {},
   "outputs": [],
   "source": [
    "datasets = a360ai.list_datasets()\n",
    "\n",
    "if datasets.shape[0] == 0:\n",
    "    raise Exception(f\"No datasets associated with the datarepo {datarepo_name}. Please add a dataset.\")\n",
    "datasets"
   ]
  },
  {
   "cell_type": "markdown",
   "id": "e1825d8d-f32a-481b-9a08-88dca04331c3",
   "metadata": {},
   "source": [
    "#### Select the model type\n",
    "\n",
    "Please specify the type of task to be performed. Options are limited to \"classification\" and \"regression\"."
   ]
  },
  {
   "cell_type": "code",
   "execution_count": null,
   "id": "6c9fc02d-63ac-4d12-b525-5d956e22619a",
   "metadata": {},
   "outputs": [],
   "source": [
    "model_type = <MODEL_TYPE> "
   ]
  },
  {
   "cell_type": "markdown",
   "id": "3ac58ae2-47ca-4c51-88bd-5e83df03939b",
   "metadata": {
    "tags": []
   },
   "source": [
    "#### Select the dataset\n",
    "Please set the *dataset_name* variable to a valid string. "
   ]
  },
  {
   "cell_type": "code",
   "execution_count": null,
   "id": "700571aa-e244-4e24-a382-a85e6b0015d5",
   "metadata": {},
   "outputs": [],
   "source": [
    "### The datasets \"merged_anonymous.parquet\" (classification)\n",
    "### or \"machine_dataset.csv\" (regression) can be used.\n",
    "### Both datasets are in \"Health Byte - Dev\" datarepo.\n",
    "\n",
    "dataset_name = <DATASET_NAME> \n",
    "\n",
    "df = a360ai.load_dataset(dataset_name)"
   ]
  },
  {
   "cell_type": "markdown",
   "id": "b9d8380b-d7c5-43cf-9fff-820ff55c0ef8",
   "metadata": {},
   "source": [
    "#### Specify the target column \n",
    "Please set the target column out of the following columns"
   ]
  },
  {
   "cell_type": "code",
   "execution_count": null,
   "id": "c39d4e52-ec66-43fd-a12b-b51c8d59262f",
   "metadata": {},
   "outputs": [],
   "source": [
    "df.columns.values.tolist()"
   ]
  },
  {
   "cell_type": "code",
   "execution_count": null,
   "id": "21ba592a-5f9e-4261-8690-acd7a6ddaab3",
   "metadata": {},
   "outputs": [],
   "source": [
    "### \"lifestyle\" if using \"merged_anonymous.parquet\" \n",
    "### or \"published_relative_performance\" if using \"machine_dataset.csv\"\n",
    "\n",
    "target_column = <TARGET_COLUMN> "
   ]
  },
  {
   "cell_type": "markdown",
   "id": "9e464aaf-e773-4ffd-85b7-cc3c2c8bbb9c",
   "metadata": {},
   "source": [
    "#### Please provide the number of classes\n",
    "If the model_type is classification, please specify the number of classes present. An integer should be assigned to the variable ``num_classes``."
   ]
  },
  {
   "cell_type": "code",
   "execution_count": null,
   "id": "2a1ccb7a-5cbd-49a9-a2bf-0b212379ae8d",
   "metadata": {},
   "outputs": [],
   "source": [
    "### 3 if using \"merged_anonymous.parquet\"\n",
    "\n",
    "num_classes = <NUM_CLASSES>"
   ]
  },
  {
   "cell_type": "markdown",
   "id": "a5ada30c-fb5e-4471-ba1b-41c58f5fec85",
   "metadata": {},
   "source": [
    "#### Split the dataset into train/test data\n",
    "\n",
    "The ``get_dummies`` method yields one-hot encoded vectors for classification tasks."
   ]
  },
  {
   "cell_type": "code",
   "execution_count": null,
   "id": "dcbed6a4-1ddc-4981-93fd-08eb98994460",
   "metadata": {},
   "outputs": [],
   "source": [
    "import pandas as pd\n",
    "from sklearn.model_selection import train_test_split\n",
    "\n",
    "X, y = df.drop(target_column,axis=1), df[target_column]\n",
    "\n",
    "if model_type == \"classification\": \n",
    "    y = pd.get_dummies(y, prefix=target_column)\n",
    "\n",
    "X_train, X_test, y_train, y_test = train_test_split(X.values, y.values, random_state=42, test_size=0.1)\n",
    "    \n",
    "num_features = X_train.shape[1]"
   ]
  },
  {
   "cell_type": "markdown",
   "id": "c7f7b6fb-6854-4eae-9594-e8fc32288d39",
   "metadata": {},
   "source": [
    "### A360AI Model\n",
    "\n",
    "Create/retrieve an A360AI model. The following arguments need to be passed to the ``get_or_create_model`` method: model_name, version and model_type (default is \"classification\")."
   ]
  },
  {
   "cell_type": "code",
   "execution_count": null,
   "id": "15650dbc-c92b-4650-9c48-95f79b733e23",
   "metadata": {},
   "outputs": [],
   "source": [
    "from uuid import uuid4\n",
    "unique = str(uuid4())[-6:]\n",
    "\n",
    "model = a360ai.get_or_create_model(\n",
    "    model_name=f\"Sample Notebook {flavor} {model_type} - {unique}\", \n",
    "    version=\"1.0\", \n",
    "    model_type=model_type\n",
    ")"
   ]
  },
  {
   "cell_type": "markdown",
   "id": "2f2b9cbc-54d1-4a63-a4a7-8afc7154aac5",
   "metadata": {},
   "source": [
    "### A360AI Experiment\n",
    "\n",
    "Create/retrieve an A360AI experiment. The following arguments need to be passed to the ``get_or_create_experiment`` method of the Model object: experiment_name, model_flavor, train_features and train_target."
   ]
  },
  {
   "cell_type": "code",
   "execution_count": null,
   "id": "4e0d6fc4-65ae-479d-bc89-2c5248677b1b",
   "metadata": {},
   "outputs": [],
   "source": [
    "experiment = model.get_or_create_experiment(\n",
    "    experiment_name=f\"sample_notebook_experiment{unique}\",\n",
    "    model_flavor=flavor,\n",
    "    train_features=X_train,\n",
    "    train_target=y_train,\n",
    ")"
   ]
  },
  {
   "cell_type": "markdown",
   "id": "c210b3a9-14fc-4752-bd10-48c3241812a2",
   "metadata": {},
   "source": [
    "#### View the experiments listed with the model"
   ]
  },
  {
   "cell_type": "code",
   "execution_count": null,
   "id": "4cd9ddc7-0acc-4e5c-acee-bcfd78385297",
   "metadata": {},
   "outputs": [],
   "source": [
    "model.list_experiments()"
   ]
  },
  {
   "cell_type": "markdown",
   "id": "3d23f297-2aee-4539-8d7f-a5061629100b",
   "metadata": {},
   "source": [
    "#### Choose the candidate model to be trained.\n",
    "\n",
    "This model will be trained on the train dataset and evaluated on the test dataset. The candidate model will also be logged later after it has been trained."
   ]
  },
  {
   "cell_type": "code",
   "execution_count": null,
   "id": "1300c437-3b5e-4bab-adef-e29bdd9b2fa8",
   "metadata": {},
   "outputs": [],
   "source": [
    "import tensorflow as tf\n",
    "from tensorflow import keras \n",
    "    \n",
    "input_shape = (num_features, )\n",
    "        \n",
    "candidate_model = tf.keras.models.Sequential(\n",
    "        [\n",
    "            keras.layers.Dense(\n",
    "                7, activation=\"relu\", input_shape=input_shape\n",
    "            ),\n",
    "            keras.layers.Dense(5, activation=\"relu\"),\n",
    "            keras.layers.Dense(3, activation=\"softmax\"),\n",
    "        ]\n",
    "    )\n",
    "\n",
    "if model_type == \"classification\":\n",
    "    candidate_model.compile(\n",
    "        optimizer=\"adam\",\n",
    "        loss=\"categorical_crossentropy\",\n",
    "        metrics=[\"accuracy\"],\n",
    "    )\n",
    "else:\n",
    "    candidate_model.compile( \n",
    "        loss =\"mean_absolute_error\",\n",
    "        optimizer = \"sgd\", \n",
    "        metrics = ['mae']\n",
    "    )\n",
    "    \n",
    "scorer = candidate_model.evaluate"
   ]
  },
  {
   "cell_type": "markdown",
   "id": "e1c6a6b6-6af5-440f-8df9-25ff09d8af2e",
   "metadata": {},
   "source": [
    "### Create an A360AI Run\n",
    "\n",
    "Use the Run to log the trained model, metadata, metrics and hyperparameters."
   ]
  },
  {
   "cell_type": "code",
   "execution_count": null,
   "id": "b2dd4abe-ad1f-457f-8c98-00cc0487703a",
   "metadata": {},
   "outputs": [],
   "source": [
    "import numpy as np\n",
    "from sklearn.metrics import accuracy_score, mean_squared_error\n",
    "\n",
    "with experiment.run_experiment() as run:\n",
    "    candidate_model.fit(X_train, y_train)\n",
    "\n",
    "    run.log_metadata({\n",
    "        \"notes\": \"This model was generated with extreme care.\"\n",
    "    })\n",
    "    run.log_metrics({\n",
    "        \"train_score\": scorer(X_train, y_train),\n",
    "        \"test_score\": scorer(X_test, y_test),\n",
    "    })\n",
    "    run.log_hyperparameters({\n",
    "        \"foo\": 1\n",
    "    })\n",
    "    run.log_model(candidate_model)"
   ]
  },
  {
   "cell_type": "markdown",
   "id": "35826cf1-e28e-42f5-99f6-1b9cfa72e20e",
   "metadata": {},
   "source": [
    "#### View the runs associated with the experiment. \n",
    "If the code above has been executed successfully, there will be a new entry in the dataframe returned by the ``list_runs`` method."
   ]
  },
  {
   "cell_type": "code",
   "execution_count": null,
   "id": "4733ea03-300c-4ecb-88db-e47c38398985",
   "metadata": {},
   "outputs": [],
   "source": [
    "experiment.list_runs()"
   ]
  }
 ],
 "metadata": {
  "kernelspec": {
   "display_name": "Python 3 (ipykernel)",
   "language": "python",
   "name": "python3"
  },
  "language_info": {
   "codemirror_mode": {
    "name": "ipython",
    "version": 3
   },
   "file_extension": ".py",
   "mimetype": "text/x-python",
   "name": "python",
   "nbconvert_exporter": "python",
   "pygments_lexer": "ipython3",
   "version": "3.10.6"
  }
 },
 "nbformat": 4,
 "nbformat_minor": 5
}
