{
 "cells": [
  {
   "cell_type": "markdown",
   "id": "b0cc9c20-7424-4312-86cd-b1c8850f4ac0",
   "metadata": {},
   "source": [
    "## 3. Model Training"
   ]
  },
  {
   "cell_type": "markdown",
   "id": "272bd90e-86ec-4e0a-8090-224c07fdfb0e",
   "metadata": {},
   "source": [
    "#### A360 MDK interface"
   ]
  },
  {
   "cell_type": "code",
   "execution_count": 1,
   "id": "d231ef6b-88de-4acf-addf-23126434205a",
   "metadata": {},
   "outputs": [
    {
     "data": {
      "text/plain": [
       "<A360 AI Interface for project: Product Demand Forecasting>"
      ]
     },
     "execution_count": 1,
     "metadata": {},
     "output_type": "execute_result"
    }
   ],
   "source": [
    "a360ai"
   ]
  },
  {
   "cell_type": "code",
   "execution_count": 2,
   "id": "6fca839a-3a38-4314-89bd-7102dcdc0625",
   "metadata": {},
   "outputs": [
    {
     "data": {
      "text/plain": [
       "'Product Demand Forecasting'"
      ]
     },
     "execution_count": 2,
     "metadata": {},
     "output_type": "execute_result"
    }
   ],
   "source": [
    "# Get default data repo\n",
    "DATAREPO_LIST = a360ai.list_datarepos()\n",
    "DATAREPO = DATAREPO_LIST['name'][0]\n",
    "DATAREPO"
   ]
  },
  {
   "cell_type": "code",
   "execution_count": 3,
   "id": "b3853539-5e16-4fb6-ae7a-ff25ab52c647",
   "metadata": {},
   "outputs": [],
   "source": [
    "import numpy as np\n",
    "import pandas as pd\n",
    "from sklearn.model_selection import train_test_split\n",
    "from sklearn.ensemble import RandomForestRegressor\n",
    "from sklearn.metrics import r2_score\n",
    "from matplotlib import pyplot as plt"
   ]
  },
  {
   "cell_type": "code",
   "execution_count": 4,
   "id": "3e4a42f2-f41e-40e9-acd3-a943eabbb68d",
   "metadata": {},
   "outputs": [],
   "source": [
    "import warnings\n",
    "warnings.filterwarnings('ignore')"
   ]
  },
  {
   "cell_type": "markdown",
   "id": "7de8f3c6-6ce5-4e6d-b66d-025cf2be0ccf",
   "metadata": {},
   "source": [
    "### 1. Set Default Data Repo and load data"
   ]
  },
  {
   "cell_type": "code",
   "execution_count": 5,
   "id": "c48e4f41-a024-4791-82bd-c0381cc55c79",
   "metadata": {},
   "outputs": [],
   "source": [
    "a360ai.set_default_datarepo(DATAREPO)"
   ]
  },
  {
   "cell_type": "code",
   "execution_count": 6,
   "id": "e80b56d3-1f6c-4f23-85c4-ca81a34d1211",
   "metadata": {},
   "outputs": [
    {
     "data": {
      "text/html": [
       "<div>\n",
       "<style scoped>\n",
       "    .dataframe tbody tr th:only-of-type {\n",
       "        vertical-align: middle;\n",
       "    }\n",
       "\n",
       "    .dataframe tbody tr th {\n",
       "        vertical-align: top;\n",
       "    }\n",
       "\n",
       "    .dataframe thead th {\n",
       "        text-align: right;\n",
       "    }\n",
       "</style>\n",
       "<table border=\"1\" class=\"dataframe\">\n",
       "  <thead>\n",
       "    <tr style=\"text-align: right;\">\n",
       "      <th></th>\n",
       "      <th>base_name</th>\n",
       "      <th>extension</th>\n",
       "      <th>size</th>\n",
       "    </tr>\n",
       "  </thead>\n",
       "  <tbody>\n",
       "    <tr>\n",
       "      <th>1</th>\n",
       "      <td>X.csv</td>\n",
       "      <td>csv</td>\n",
       "      <td>97672.0</td>\n",
       "    </tr>\n",
       "    <tr>\n",
       "      <th>2</th>\n",
       "      <td>X.parquet</td>\n",
       "      <td>parquet</td>\n",
       "      <td>20323.0</td>\n",
       "    </tr>\n",
       "    <tr>\n",
       "      <th>3</th>\n",
       "      <td>product-demand-2015-2020-a.csv</td>\n",
       "      <td>csv</td>\n",
       "      <td>44133.0</td>\n",
       "    </tr>\n",
       "    <tr>\n",
       "      <th>4</th>\n",
       "      <td>rf_model.pkl</td>\n",
       "      <td>pkl</td>\n",
       "      <td>11465124.0</td>\n",
       "    </tr>\n",
       "    <tr>\n",
       "      <th>5</th>\n",
       "      <td>y.csv</td>\n",
       "      <td>csv</td>\n",
       "      <td>10765.0</td>\n",
       "    </tr>\n",
       "    <tr>\n",
       "      <th>6</th>\n",
       "      <td>y.parquet</td>\n",
       "      <td>parquet</td>\n",
       "      <td>5080.0</td>\n",
       "    </tr>\n",
       "  </tbody>\n",
       "</table>\n",
       "</div>"
      ],
      "text/plain": [
       "                        base_name extension        size\n",
       "1                           X.csv       csv     97672.0\n",
       "2                       X.parquet   parquet     20323.0\n",
       "3  product-demand-2015-2020-a.csv       csv     44133.0\n",
       "4                    rf_model.pkl       pkl  11465124.0\n",
       "5                           y.csv       csv     10765.0\n",
       "6                       y.parquet   parquet      5080.0"
      ]
     },
     "execution_count": 6,
     "metadata": {},
     "output_type": "execute_result"
    }
   ],
   "source": [
    "a360ai.list_datasets()"
   ]
  },
  {
   "cell_type": "code",
   "execution_count": 7,
   "id": "5947c40c-2195-4c46-9026-b77e67691dfa",
   "metadata": {},
   "outputs": [],
   "source": [
    "X = a360ai.load_dataset(\"X.parquet\")\n",
    "y = a360ai.load_dataset(\"y.parquet\")"
   ]
  },
  {
   "cell_type": "markdown",
   "id": "988e6ce8-e74a-488b-af1d-ada739ec26c2",
   "metadata": {},
   "source": [
    "#### Fliter Train/ Val Set to only include 2015-2019 (pre-COVID)\n",
    "- Train: 2015 Jan- 2019 Sep \n",
    "- Val: 2019 Oct- Dec"
   ]
  },
  {
   "cell_type": "code",
   "execution_count": 7,
   "id": "130ca432-f89e-4256-878a-623dcffd473c",
   "metadata": {},
   "outputs": [],
   "source": [
    "df_X_train = X.drop(X.index[list(range(1734, 1946))])\n",
    "df_y_train = y['sales'][0:1734]"
   ]
  },
  {
   "cell_type": "code",
   "execution_count": 8,
   "id": "0e91cc29-dbb4-46f9-b258-1c27c9e15ec6",
   "metadata": {},
   "outputs": [
    {
     "data": {
      "text/plain": [
       "((1734, 20), (1734,))"
      ]
     },
     "execution_count": 8,
     "metadata": {},
     "output_type": "execute_result"
    }
   ],
   "source": [
    "df_X_train.shape, df_y_train.shape"
   ]
  },
  {
   "cell_type": "code",
   "execution_count": 9,
   "id": "637b2052-6263-4f68-a7ce-24abdc63f4a6",
   "metadata": {},
   "outputs": [],
   "source": [
    "df_X_val = X.loc[1734:1824]\n",
    "df_y_val = y['sales'][1734:1825]\n",
    "df_X_val = df_X_val.reset_index(drop=True)\n",
    "df_y_val = df_y_val.reset_index(drop=True)"
   ]
  },
  {
   "cell_type": "code",
   "execution_count": 10,
   "id": "c6c505c3-9585-45b6-9c05-2fa963899e85",
   "metadata": {},
   "outputs": [
    {
     "data": {
      "text/plain": [
       "((91, 20), (91,))"
      ]
     },
     "execution_count": 10,
     "metadata": {},
     "output_type": "execute_result"
    }
   ],
   "source": [
    "df_X_val.shape, df_y_val.shape"
   ]
  },
  {
   "cell_type": "markdown",
   "id": "7ea2c2f1-3486-456d-9fc4-834b7f7bdabf",
   "metadata": {},
   "source": [
    "#### Set up data for COVID period (2020 Jan- April) to study potential drift "
   ]
  },
  {
   "cell_type": "code",
   "execution_count": 11,
   "id": "ed782b2f-1cac-4da3-b101-b435c2c286b7",
   "metadata": {},
   "outputs": [],
   "source": [
    "df_X_covid = X.loc[1825:]\n",
    "df_y_covid = y['sales'][1825:]\n",
    "df_X_covid = df_X_covid.reset_index(drop=True)\n",
    "df_y_covid = df_y_covid.reset_index(drop=True)"
   ]
  },
  {
   "cell_type": "code",
   "execution_count": 12,
   "id": "b46bea20-0f92-4d8d-8a0a-69405da149fe",
   "metadata": {},
   "outputs": [
    {
     "data": {
      "text/plain": [
       "((121, 20), (121,))"
      ]
     },
     "execution_count": 12,
     "metadata": {},
     "output_type": "execute_result"
    }
   ],
   "source": [
    "df_X_covid.shape, df_y_covid.shape"
   ]
  },
  {
   "cell_type": "markdown",
   "id": "9b9c2751-ac4c-4b1b-b465-dd840c577b8c",
   "metadata": {},
   "source": [
    "### 2. Model training"
   ]
  },
  {
   "cell_type": "code",
   "execution_count": 13,
   "id": "0afe7938-8663-4ba3-b70c-6c8295113fc4",
   "metadata": {},
   "outputs": [],
   "source": [
    "X_train, X_test, y_train, y_test = train_test_split(df_X_train, df_y_train, test_size=0.15, random_state=0)"
   ]
  },
  {
   "cell_type": "markdown",
   "id": "c865f820-c3ca-49c4-8179-d9cdb97f18a1",
   "metadata": {},
   "source": [
    "#### Use a360ai MDK to track model experiments"
   ]
  },
  {
   "cell_type": "code",
   "execution_count": 14,
   "id": "3bdc6e84-14bf-442e-8bee-54ec979af7c9",
   "metadata": {},
   "outputs": [],
   "source": [
    "model = a360ai.get_or_create_model(model_name=f\"demand_forecast_demo_6_9\", model_type = \"regression\")"
   ]
  },
  {
   "cell_type": "code",
   "execution_count": 15,
   "id": "2419bd90-76cf-4ac1-8492-79966c252ad5",
   "metadata": {},
   "outputs": [
    {
     "name": "stdout",
     "output_type": "stream",
     "text": [
      "\n",
      "//-- Experiment Loaded --//\n",
      "Model Name: demand_forecast_demo_6_9\n",
      "Experiment Name: cdemand_forecast_demo_RF_6_9\n",
      "Final Run Id: None\n",
      "Model Flavor: sklearn\n",
      "Input Signature: trend-index float, day_of_month big_integer, day_of_year big_integer, week_of_year big_integer, year big_integer, is_wknd big_integer, is_month_start big_integer, is_month_end big_integer, month_1 small_integer, month_2 small_integer, month_3 small_integer, month_4 small_integer, month_5 small_integer, month_6 small_integer, month_7 small_integer, month_8 small_integer, month_9 small_integer, month_10 small_integer, month_11 small_integer, month_12 small_integer\n",
      "Output Signature: sales float\n",
      "Data Exploration File: /home/jovyan/01_exploratory-data-analysis.ipynb\n",
      "Data Preparation File: /home/jovyan/02_data-preprocessing.ipynb\n",
      "Model Training File: /home/jovyan/03_model-training.ipynb\n",
      "Drift Monitoring Enabled: True\n",
      "\n"
     ]
    }
   ],
   "source": [
    "experiment = model.get_or_create_experiment(\n",
    "    experiment_name = f\"cdemand_forecast_demo_RF_6_9\",\n",
    "    model_flavor = \"sklearn\",\n",
    "    enable_drift_monitoring=True,\n",
    "    train_features=X_train,\n",
    "    train_target=y_train,\n",
    "    feature_names=list(X.columns),\n",
    "    data_exploration_file=\"/home/jovyan/01_exploratory-data-analysis.ipynb\",\n",
    "    data_preparation_file=\"/home/jovyan/02_data-preprocessing.ipynb\",\n",
    "    model_training_file=\"/home/jovyan/03_model-training.ipynb\",\n",
    ")"
   ]
  },
  {
   "cell_type": "code",
   "execution_count": 16,
   "id": "a55dac58-d680-4ca3-9e53-6ab3f713fe13",
   "metadata": {},
   "outputs": [
    {
     "data": {
      "text/html": [
       "<div>\n",
       "<style scoped>\n",
       "    .dataframe tbody tr th:only-of-type {\n",
       "        vertical-align: middle;\n",
       "    }\n",
       "\n",
       "    .dataframe tbody tr th {\n",
       "        vertical-align: top;\n",
       "    }\n",
       "\n",
       "    .dataframe thead th {\n",
       "        text-align: right;\n",
       "    }\n",
       "</style>\n",
       "<table border=\"1\" class=\"dataframe\">\n",
       "  <thead>\n",
       "    <tr style=\"text-align: right;\">\n",
       "      <th></th>\n",
       "      <th>id</th>\n",
       "      <th>bestRun</th>\n",
       "      <th>model_id</th>\n",
       "      <th>experiment_name</th>\n",
       "      <th>best_run_id</th>\n",
       "      <th>model_flavor</th>\n",
       "      <th>input_signature</th>\n",
       "      <th>output_signature</th>\n",
       "      <th>data_exploration_file</th>\n",
       "      <th>data_preparation_file</th>\n",
       "      <th>model_training_file</th>\n",
       "      <th>baseline</th>\n",
       "      <th>train_shape</th>\n",
       "      <th>model_name</th>\n",
       "      <th>updated_at</th>\n",
       "    </tr>\n",
       "  </thead>\n",
       "  <tbody>\n",
       "    <tr>\n",
       "      <th>0</th>\n",
       "      <td>9e60ec24-5bdd-4d1b-bd20-bfc4986a295e</td>\n",
       "      <td>None</td>\n",
       "      <td>c789c008-c7cc-4f7a-b4ac-ce9378b9c6f0</td>\n",
       "      <td>cdemand_forecast_demo_RF_6_9</td>\n",
       "      <td>None</td>\n",
       "      <td>sklearn</td>\n",
       "      <td>trend-index float, day_of_month big_integer, d...</td>\n",
       "      <td>sales float</td>\n",
       "      <td>/home/jovyan/01_exploratory-data-analysis.ipynb</td>\n",
       "      <td>/home/jovyan/02_data-preprocessing.ipynb</td>\n",
       "      <td>/home/jovyan/03_model-training.ipynb</td>\n",
       "      <td>{'trend-index': {'mean': 36.36070604209099, 's...</td>\n",
       "      <td>[20]</td>\n",
       "      <td>demand_forecast_demo_6_9</td>\n",
       "      <td>2022-06-09 16:14</td>\n",
       "    </tr>\n",
       "  </tbody>\n",
       "</table>\n",
       "</div>"
      ],
      "text/plain": [
       "                                     id bestRun  \\\n",
       "0  9e60ec24-5bdd-4d1b-bd20-bfc4986a295e    None   \n",
       "\n",
       "                               model_id               experiment_name  \\\n",
       "0  c789c008-c7cc-4f7a-b4ac-ce9378b9c6f0  cdemand_forecast_demo_RF_6_9   \n",
       "\n",
       "  best_run_id model_flavor                                    input_signature  \\\n",
       "0        None      sklearn  trend-index float, day_of_month big_integer, d...   \n",
       "\n",
       "  output_signature                            data_exploration_file  \\\n",
       "0      sales float  /home/jovyan/01_exploratory-data-analysis.ipynb   \n",
       "\n",
       "                      data_preparation_file  \\\n",
       "0  /home/jovyan/02_data-preprocessing.ipynb   \n",
       "\n",
       "                    model_training_file  \\\n",
       "0  /home/jovyan/03_model-training.ipynb   \n",
       "\n",
       "                                            baseline train_shape  \\\n",
       "0  {'trend-index': {'mean': 36.36070604209099, 's...        [20]   \n",
       "\n",
       "                 model_name        updated_at  \n",
       "0  demand_forecast_demo_6_9  2022-06-09 16:14  "
      ]
     },
     "execution_count": 16,
     "metadata": {},
     "output_type": "execute_result"
    }
   ],
   "source": [
    "experiments = model.list_experiments()\n",
    "experiments"
   ]
  },
  {
   "cell_type": "code",
   "execution_count": 17,
   "id": "b4bdddff-d2a3-4b73-881f-6711a4be0431",
   "metadata": {},
   "outputs": [
    {
     "name": "stdout",
     "output_type": "stream",
     "text": [
      "Run 1 Complete!\n",
      "Run 2 Complete!\n",
      "Run 3 Complete!\n",
      "Run 4 Complete!\n",
      "Run 5 Complete!\n",
      "Run 6 Complete!\n"
     ]
    }
   ],
   "source": [
    "count = 1\n",
    "for n in [25,50,75,100,125,150]:\n",
    "    with experiment.run_experiment() as run:\n",
    "    \n",
    "        hyperparams = {\n",
    "            \"n_estimators\": n,\n",
    "            \"max_depth\": 6            \n",
    "        }\n",
    "    \n",
    "        rf = RandomForestRegressor(**hyperparams)\n",
    "        rf.fit(X_train, y_train)\n",
    "        train_score = rf.score(X_train, y_train)\n",
    "        test_score = rf.score(X_test, y_test)\n",
    "\n",
    "        metrics = {\n",
    "            \"train_score\": train_score,\n",
    "            \"test_score\": test_score,\n",
    "        }\n",
    "\n",
    "        run.log_metrics(metrics)\n",
    "        run.log_hyperparameters(hyperparams)\n",
    "        run.log_model(rf)\n",
    "        \n",
    "        print(\"Run \" + str(count) + \" Complete!\")\n",
    "        count = count + 1 "
   ]
  },
  {
   "cell_type": "code",
   "execution_count": 18,
   "id": "d587113f-67f7-45fd-b658-da536be0df8e",
   "metadata": {},
   "outputs": [
    {
     "data": {
      "text/html": [
       "<div>\n",
       "<style scoped>\n",
       "    .dataframe tbody tr th:only-of-type {\n",
       "        vertical-align: middle;\n",
       "    }\n",
       "\n",
       "    .dataframe tbody tr th {\n",
       "        vertical-align: top;\n",
       "    }\n",
       "\n",
       "    .dataframe thead th {\n",
       "        text-align: right;\n",
       "    }\n",
       "</style>\n",
       "<table border=\"1\" class=\"dataframe\">\n",
       "  <thead>\n",
       "    <tr style=\"text-align: right;\">\n",
       "      <th></th>\n",
       "      <th>id</th>\n",
       "      <th>dataset</th>\n",
       "      <th>artifact_paths</th>\n",
       "      <th>metric_test_score</th>\n",
       "      <th>metric_train_score</th>\n",
       "      <th>hyperparameter_max_depth</th>\n",
       "      <th>hyperparameter_n_estimators</th>\n",
       "      <th>metadata_run_time</th>\n",
       "    </tr>\n",
       "  </thead>\n",
       "  <tbody>\n",
       "    <tr>\n",
       "      <th>0</th>\n",
       "      <td>f3903739-5459-417e-9aa6-7bad4a8f5527</td>\n",
       "      <td>de7922d4-2b3b-4721-883f-605ab14a1954</td>\n",
       "      <td>[{'id': 'd9c76eb1-166f-4b02-84c8-ef0630d3c606'...</td>\n",
       "      <td>0.874706</td>\n",
       "      <td>0.873968</td>\n",
       "      <td>6</td>\n",
       "      <td>25</td>\n",
       "      <td>0.081347</td>\n",
       "    </tr>\n",
       "    <tr>\n",
       "      <th>1</th>\n",
       "      <td>089cb908-6d3f-480a-9842-7fd694b161ea</td>\n",
       "      <td>de7922d4-2b3b-4721-883f-605ab14a1954</td>\n",
       "      <td>[{'id': '4640798c-1b43-4597-976b-e1492fb291f2'...</td>\n",
       "      <td>0.875468</td>\n",
       "      <td>0.873814</td>\n",
       "      <td>6</td>\n",
       "      <td>50</td>\n",
       "      <td>0.154114</td>\n",
       "    </tr>\n",
       "    <tr>\n",
       "      <th>2</th>\n",
       "      <td>786f754e-9e42-4ec8-be7b-8f043a549ac7</td>\n",
       "      <td>de7922d4-2b3b-4721-883f-605ab14a1954</td>\n",
       "      <td>[{'id': 'baecb487-387c-44f0-beb1-06ecaaed9d6c'...</td>\n",
       "      <td>0.876737</td>\n",
       "      <td>0.877087</td>\n",
       "      <td>6</td>\n",
       "      <td>75</td>\n",
       "      <td>0.225202</td>\n",
       "    </tr>\n",
       "    <tr>\n",
       "      <th>3</th>\n",
       "      <td>25a8f488-90e4-45b5-8124-5f5a2660842e</td>\n",
       "      <td>de7922d4-2b3b-4721-883f-605ab14a1954</td>\n",
       "      <td>[{'id': '34b13e1e-ad83-481b-9cf4-aa87561832fe'...</td>\n",
       "      <td>0.875668</td>\n",
       "      <td>0.873892</td>\n",
       "      <td>6</td>\n",
       "      <td>100</td>\n",
       "      <td>0.293164</td>\n",
       "    </tr>\n",
       "    <tr>\n",
       "      <th>4</th>\n",
       "      <td>3ebfbb29-d791-4c92-a511-a9cd04c49735</td>\n",
       "      <td>de7922d4-2b3b-4721-883f-605ab14a1954</td>\n",
       "      <td>[{'id': 'a25bca90-9d48-4f12-af01-37bde121089e'...</td>\n",
       "      <td>0.875978</td>\n",
       "      <td>0.876713</td>\n",
       "      <td>6</td>\n",
       "      <td>125</td>\n",
       "      <td>0.369278</td>\n",
       "    </tr>\n",
       "    <tr>\n",
       "      <th>5</th>\n",
       "      <td>582e99d5-b366-48c4-a51c-765527d51f51</td>\n",
       "      <td>de7922d4-2b3b-4721-883f-605ab14a1954</td>\n",
       "      <td>[{'id': '6bdeaf14-4f74-4e77-b816-2da36aad6df3'...</td>\n",
       "      <td>0.876782</td>\n",
       "      <td>0.875965</td>\n",
       "      <td>6</td>\n",
       "      <td>150</td>\n",
       "      <td>0.420461</td>\n",
       "    </tr>\n",
       "  </tbody>\n",
       "</table>\n",
       "</div>"
      ],
      "text/plain": [
       "                                     id                               dataset  \\\n",
       "0  f3903739-5459-417e-9aa6-7bad4a8f5527  de7922d4-2b3b-4721-883f-605ab14a1954   \n",
       "1  089cb908-6d3f-480a-9842-7fd694b161ea  de7922d4-2b3b-4721-883f-605ab14a1954   \n",
       "2  786f754e-9e42-4ec8-be7b-8f043a549ac7  de7922d4-2b3b-4721-883f-605ab14a1954   \n",
       "3  25a8f488-90e4-45b5-8124-5f5a2660842e  de7922d4-2b3b-4721-883f-605ab14a1954   \n",
       "4  3ebfbb29-d791-4c92-a511-a9cd04c49735  de7922d4-2b3b-4721-883f-605ab14a1954   \n",
       "5  582e99d5-b366-48c4-a51c-765527d51f51  de7922d4-2b3b-4721-883f-605ab14a1954   \n",
       "\n",
       "                                      artifact_paths  metric_test_score  \\\n",
       "0  [{'id': 'd9c76eb1-166f-4b02-84c8-ef0630d3c606'...           0.874706   \n",
       "1  [{'id': '4640798c-1b43-4597-976b-e1492fb291f2'...           0.875468   \n",
       "2  [{'id': 'baecb487-387c-44f0-beb1-06ecaaed9d6c'...           0.876737   \n",
       "3  [{'id': '34b13e1e-ad83-481b-9cf4-aa87561832fe'...           0.875668   \n",
       "4  [{'id': 'a25bca90-9d48-4f12-af01-37bde121089e'...           0.875978   \n",
       "5  [{'id': '6bdeaf14-4f74-4e77-b816-2da36aad6df3'...           0.876782   \n",
       "\n",
       "   metric_train_score  hyperparameter_max_depth  hyperparameter_n_estimators  \\\n",
       "0            0.873968                         6                           25   \n",
       "1            0.873814                         6                           50   \n",
       "2            0.877087                         6                           75   \n",
       "3            0.873892                         6                          100   \n",
       "4            0.876713                         6                          125   \n",
       "5            0.875965                         6                          150   \n",
       "\n",
       "   metadata_run_time  \n",
       "0           0.081347  \n",
       "1           0.154114  \n",
       "2           0.225202  \n",
       "3           0.293164  \n",
       "4           0.369278  \n",
       "5           0.420461  "
      ]
     },
     "execution_count": 18,
     "metadata": {},
     "output_type": "execute_result"
    }
   ],
   "source": [
    "runs = experiment.list_runs()\n",
    "runs"
   ]
  },
  {
   "cell_type": "code",
   "execution_count": 19,
   "id": "dd407297-5647-444e-a496-a45cc3a2efdd",
   "metadata": {},
   "outputs": [
    {
     "data": {
      "text/html": [
       "<div>\n",
       "<style scoped>\n",
       "    .dataframe tbody tr th:only-of-type {\n",
       "        vertical-align: middle;\n",
       "    }\n",
       "\n",
       "    .dataframe tbody tr th {\n",
       "        vertical-align: top;\n",
       "    }\n",
       "\n",
       "    .dataframe thead th {\n",
       "        text-align: right;\n",
       "    }\n",
       "</style>\n",
       "<table border=\"1\" class=\"dataframe\">\n",
       "  <thead>\n",
       "    <tr style=\"text-align: right;\">\n",
       "      <th></th>\n",
       "      <th>id</th>\n",
       "      <th>dataset</th>\n",
       "      <th>artifact_paths</th>\n",
       "      <th>metric_test_score</th>\n",
       "      <th>metric_train_score</th>\n",
       "      <th>hyperparameter_max_depth</th>\n",
       "      <th>hyperparameter_n_estimators</th>\n",
       "      <th>metadata_run_time</th>\n",
       "    </tr>\n",
       "  </thead>\n",
       "  <tbody>\n",
       "    <tr>\n",
       "      <th>5</th>\n",
       "      <td>582e99d5-b366-48c4-a51c-765527d51f51</td>\n",
       "      <td>de7922d4-2b3b-4721-883f-605ab14a1954</td>\n",
       "      <td>[{'id': '6bdeaf14-4f74-4e77-b816-2da36aad6df3'...</td>\n",
       "      <td>0.876782</td>\n",
       "      <td>0.875965</td>\n",
       "      <td>6</td>\n",
       "      <td>150</td>\n",
       "      <td>0.420461</td>\n",
       "    </tr>\n",
       "    <tr>\n",
       "      <th>2</th>\n",
       "      <td>786f754e-9e42-4ec8-be7b-8f043a549ac7</td>\n",
       "      <td>de7922d4-2b3b-4721-883f-605ab14a1954</td>\n",
       "      <td>[{'id': 'baecb487-387c-44f0-beb1-06ecaaed9d6c'...</td>\n",
       "      <td>0.876737</td>\n",
       "      <td>0.877087</td>\n",
       "      <td>6</td>\n",
       "      <td>75</td>\n",
       "      <td>0.225202</td>\n",
       "    </tr>\n",
       "    <tr>\n",
       "      <th>4</th>\n",
       "      <td>3ebfbb29-d791-4c92-a511-a9cd04c49735</td>\n",
       "      <td>de7922d4-2b3b-4721-883f-605ab14a1954</td>\n",
       "      <td>[{'id': 'a25bca90-9d48-4f12-af01-37bde121089e'...</td>\n",
       "      <td>0.875978</td>\n",
       "      <td>0.876713</td>\n",
       "      <td>6</td>\n",
       "      <td>125</td>\n",
       "      <td>0.369278</td>\n",
       "    </tr>\n",
       "    <tr>\n",
       "      <th>3</th>\n",
       "      <td>25a8f488-90e4-45b5-8124-5f5a2660842e</td>\n",
       "      <td>de7922d4-2b3b-4721-883f-605ab14a1954</td>\n",
       "      <td>[{'id': '34b13e1e-ad83-481b-9cf4-aa87561832fe'...</td>\n",
       "      <td>0.875668</td>\n",
       "      <td>0.873892</td>\n",
       "      <td>6</td>\n",
       "      <td>100</td>\n",
       "      <td>0.293164</td>\n",
       "    </tr>\n",
       "    <tr>\n",
       "      <th>1</th>\n",
       "      <td>089cb908-6d3f-480a-9842-7fd694b161ea</td>\n",
       "      <td>de7922d4-2b3b-4721-883f-605ab14a1954</td>\n",
       "      <td>[{'id': '4640798c-1b43-4597-976b-e1492fb291f2'...</td>\n",
       "      <td>0.875468</td>\n",
       "      <td>0.873814</td>\n",
       "      <td>6</td>\n",
       "      <td>50</td>\n",
       "      <td>0.154114</td>\n",
       "    </tr>\n",
       "    <tr>\n",
       "      <th>0</th>\n",
       "      <td>f3903739-5459-417e-9aa6-7bad4a8f5527</td>\n",
       "      <td>de7922d4-2b3b-4721-883f-605ab14a1954</td>\n",
       "      <td>[{'id': 'd9c76eb1-166f-4b02-84c8-ef0630d3c606'...</td>\n",
       "      <td>0.874706</td>\n",
       "      <td>0.873968</td>\n",
       "      <td>6</td>\n",
       "      <td>25</td>\n",
       "      <td>0.081347</td>\n",
       "    </tr>\n",
       "  </tbody>\n",
       "</table>\n",
       "</div>"
      ],
      "text/plain": [
       "                                     id                               dataset  \\\n",
       "5  582e99d5-b366-48c4-a51c-765527d51f51  de7922d4-2b3b-4721-883f-605ab14a1954   \n",
       "2  786f754e-9e42-4ec8-be7b-8f043a549ac7  de7922d4-2b3b-4721-883f-605ab14a1954   \n",
       "4  3ebfbb29-d791-4c92-a511-a9cd04c49735  de7922d4-2b3b-4721-883f-605ab14a1954   \n",
       "3  25a8f488-90e4-45b5-8124-5f5a2660842e  de7922d4-2b3b-4721-883f-605ab14a1954   \n",
       "1  089cb908-6d3f-480a-9842-7fd694b161ea  de7922d4-2b3b-4721-883f-605ab14a1954   \n",
       "0  f3903739-5459-417e-9aa6-7bad4a8f5527  de7922d4-2b3b-4721-883f-605ab14a1954   \n",
       "\n",
       "                                      artifact_paths  metric_test_score  \\\n",
       "5  [{'id': '6bdeaf14-4f74-4e77-b816-2da36aad6df3'...           0.876782   \n",
       "2  [{'id': 'baecb487-387c-44f0-beb1-06ecaaed9d6c'...           0.876737   \n",
       "4  [{'id': 'a25bca90-9d48-4f12-af01-37bde121089e'...           0.875978   \n",
       "3  [{'id': '34b13e1e-ad83-481b-9cf4-aa87561832fe'...           0.875668   \n",
       "1  [{'id': '4640798c-1b43-4597-976b-e1492fb291f2'...           0.875468   \n",
       "0  [{'id': 'd9c76eb1-166f-4b02-84c8-ef0630d3c606'...           0.874706   \n",
       "\n",
       "   metric_train_score  hyperparameter_max_depth  hyperparameter_n_estimators  \\\n",
       "5            0.875965                         6                          150   \n",
       "2            0.877087                         6                           75   \n",
       "4            0.876713                         6                          125   \n",
       "3            0.873892                         6                          100   \n",
       "1            0.873814                         6                           50   \n",
       "0            0.873968                         6                           25   \n",
       "\n",
       "   metadata_run_time  \n",
       "5           0.420461  \n",
       "2           0.225202  \n",
       "4           0.369278  \n",
       "3           0.293164  \n",
       "1           0.154114  \n",
       "0           0.081347  "
      ]
     },
     "execution_count": 19,
     "metadata": {},
     "output_type": "execute_result"
    }
   ],
   "source": [
    "runs.sort_values('metric_test_score',ascending=False)"
   ]
  },
  {
   "cell_type": "markdown",
   "id": "43a90729-6a82-40c5-852d-83783074e88b",
   "metadata": {},
   "source": [
    "#### Get the best run from model experiments"
   ]
  },
  {
   "cell_type": "code",
   "execution_count": 20,
   "id": "129f7dd3-f89a-49dc-b44b-2d1a6640adbe",
   "metadata": {},
   "outputs": [
    {
     "data": {
      "text/plain": [
       "'582e99d5-b366-48c4-a51c-765527d51f51'"
      ]
     },
     "execution_count": 20,
     "metadata": {},
     "output_type": "execute_result"
    }
   ],
   "source": [
    "best_run_id = runs.sort_values(\"metric_test_score\", ascending=False).id.values[0]\n",
    "best_run_id"
   ]
  },
  {
   "cell_type": "code",
   "execution_count": 21,
   "id": "c73defab-6116-471e-8e55-4b64db3548ab",
   "metadata": {},
   "outputs": [],
   "source": [
    "model.set_final_run(experiment, best_run_id)"
   ]
  },
  {
   "cell_type": "markdown",
   "id": "80af22f0-031f-4eac-9e23-938ec4ccf075",
   "metadata": {},
   "source": [
    "#### Prediction for Val data: 2019 Oct-Dec"
   ]
  },
  {
   "cell_type": "code",
   "execution_count": null,
   "id": "b3a6d9eb-0934-422b-899c-add56c2ed055",
   "metadata": {},
   "outputs": [],
   "source": [
    "y_pred_val = rf.predict(df_X_val)"
   ]
  },
  {
   "cell_type": "code",
   "execution_count": null,
   "id": "74617da5-f94e-437a-9437-210691444af8",
   "metadata": {},
   "outputs": [],
   "source": [
    "fig = plt.figure(figsize=(20, 5))\n",
    "ax = plt.gca()\n",
    "#ax.xaxis.set_major_locator(locator)\n",
    "plt.plot(y_pred_val, label='Pred')\n",
    "plt.plot(df_y_val, label='Obs')\n",
    "plt.tight_layout()\n",
    "plt.title('Product Demand Forecast')\n",
    "plt.xlabel('day_of_month')\n",
    "plt.ylabel(\"Sales\")\n",
    "plt.legend()\n",
    "plt.show()"
   ]
  },
  {
   "cell_type": "markdown",
   "id": "4205d56b-9a96-444a-ba14-1a97df017f00",
   "metadata": {},
   "source": [
    "#### Model prediction for COVID data: 2020 Jan-April"
   ]
  },
  {
   "cell_type": "code",
   "execution_count": null,
   "id": "fefe0e2e-ab17-4adb-b971-d27f20502f91",
   "metadata": {},
   "outputs": [],
   "source": [
    "y_pred_covid = rf.predict(df_X_covid)"
   ]
  },
  {
   "cell_type": "code",
   "execution_count": null,
   "id": "30c7ce01-7688-42d1-b0fc-2410740f0349",
   "metadata": {},
   "outputs": [],
   "source": [
    "fig = plt.figure(figsize=(20, 5))\n",
    "ax = plt.gca()\n",
    "#ax.xaxis.set_major_locator(locator)\n",
    "plt.plot(y_pred_covid, label='Pred')\n",
    "plt.plot(df_y_covid, label='Obs')\n",
    "plt.tight_layout()\n",
    "plt.title('Product Demand Forecast')\n",
    "plt.xlabel('day_of_month')\n",
    "plt.ylabel(\"Sales\")\n",
    "plt.legend()\n",
    "plt.show()"
   ]
  },
  {
   "cell_type": "code",
   "execution_count": null,
   "id": "5fca874b-7f71-42ce-b464-4e94492c417b",
   "metadata": {},
   "outputs": [],
   "source": []
  }
 ],
 "metadata": {
  "kernelspec": {
   "display_name": "Python 3 (ipykernel)",
   "language": "python",
   "name": "python3"
  },
  "language_info": {
   "codemirror_mode": {
    "name": "ipython",
    "version": 3
   },
   "file_extension": ".py",
   "mimetype": "text/x-python",
   "name": "python",
   "nbconvert_exporter": "python",
   "pygments_lexer": "ipython3",
   "version": "3.9.12"
  }
 },
 "nbformat": 4,
 "nbformat_minor": 5
}
