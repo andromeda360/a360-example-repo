{
 "cells": [
  {
   "cell_type": "markdown",
   "id": "f6001489-927a-487b-b57b-592121c28ea2",
   "metadata": {},
   "source": [
    "## 4. Inference"
   ]
  },
  {
   "cell_type": "markdown",
   "id": "386bc73d-f24d-46c5-93a6-9a077c16a14d",
   "metadata": {},
   "source": [
    "#### A360 MDK interface"
   ]
  },
  {
   "cell_type": "code",
   "execution_count": 1,
   "id": "a4968914-dfe9-4df1-b372-deab02fb6518",
   "metadata": {},
   "outputs": [
    {
     "data": {
      "text/plain": [
       "<A360 AI Interface for project: Product Demand Forecasting>"
      ]
     },
     "execution_count": 1,
     "metadata": {},
     "output_type": "execute_result"
    }
   ],
   "source": [
    "a360ai"
   ]
  },
  {
   "cell_type": "code",
   "execution_count": 2,
   "id": "e095710a-a6b1-4182-a77c-c922f37c1bac",
   "metadata": {},
   "outputs": [
    {
     "data": {
      "text/plain": [
       "'Product Demand Forecasting'"
      ]
     },
     "execution_count": 2,
     "metadata": {},
     "output_type": "execute_result"
    }
   ],
   "source": [
    "# Get default data repo\n",
    "DATAREPO_LIST = a360ai.list_datarepos()\n",
    "DATAREPO = DATAREPO_LIST['name'][0]\n",
    "DATAREPO"
   ]
  },
  {
   "cell_type": "code",
   "execution_count": 3,
   "id": "f2cb6c88-faa4-488f-88bb-bfe5f60d19eb",
   "metadata": {},
   "outputs": [],
   "source": [
    "import requests\n",
    "import json\n",
    "\n",
    "import matplotlib.pyplot as plt\n",
    "import matplotlib.dates as mdates"
   ]
  },
  {
   "cell_type": "markdown",
   "id": "db8908f5-3ef4-4e2d-af72-57ca29afb272",
   "metadata": {},
   "source": [
    "### 1. Set Default Data Repo and load data"
   ]
  },
  {
   "cell_type": "code",
   "execution_count": 4,
   "id": "382fdd86-99a8-4a22-80e3-570e3b502407",
   "metadata": {},
   "outputs": [],
   "source": [
    "a360ai.set_default_datarepo(DATAREPO)"
   ]
  },
  {
   "cell_type": "code",
   "execution_count": 5,
   "id": "ff331db8-6464-4b48-8da9-89f690512e07",
   "metadata": {},
   "outputs": [
    {
     "data": {
      "text/html": [
       "<div>\n",
       "<style scoped>\n",
       "    .dataframe tbody tr th:only-of-type {\n",
       "        vertical-align: middle;\n",
       "    }\n",
       "\n",
       "    .dataframe tbody tr th {\n",
       "        vertical-align: top;\n",
       "    }\n",
       "\n",
       "    .dataframe thead th {\n",
       "        text-align: right;\n",
       "    }\n",
       "</style>\n",
       "<table border=\"1\" class=\"dataframe\">\n",
       "  <thead>\n",
       "    <tr style=\"text-align: right;\">\n",
       "      <th></th>\n",
       "      <th>base_name</th>\n",
       "      <th>extension</th>\n",
       "      <th>size</th>\n",
       "    </tr>\n",
       "  </thead>\n",
       "  <tbody>\n",
       "    <tr>\n",
       "      <th>1</th>\n",
       "      <td>X.csv</td>\n",
       "      <td>csv</td>\n",
       "      <td>97672.0</td>\n",
       "    </tr>\n",
       "    <tr>\n",
       "      <th>2</th>\n",
       "      <td>X.parquet</td>\n",
       "      <td>parquet</td>\n",
       "      <td>20323.0</td>\n",
       "    </tr>\n",
       "    <tr>\n",
       "      <th>3</th>\n",
       "      <td>product-demand-2015-2020-a.csv</td>\n",
       "      <td>csv</td>\n",
       "      <td>44133.0</td>\n",
       "    </tr>\n",
       "    <tr>\n",
       "      <th>4</th>\n",
       "      <td>rf_model.pkl</td>\n",
       "      <td>pkl</td>\n",
       "      <td>11465124.0</td>\n",
       "    </tr>\n",
       "    <tr>\n",
       "      <th>5</th>\n",
       "      <td>y.csv</td>\n",
       "      <td>csv</td>\n",
       "      <td>10765.0</td>\n",
       "    </tr>\n",
       "    <tr>\n",
       "      <th>6</th>\n",
       "      <td>y.parquet</td>\n",
       "      <td>parquet</td>\n",
       "      <td>5080.0</td>\n",
       "    </tr>\n",
       "  </tbody>\n",
       "</table>\n",
       "</div>"
      ],
      "text/plain": [
       "                        base_name extension        size\n",
       "1                           X.csv       csv     97672.0\n",
       "2                       X.parquet   parquet     20323.0\n",
       "3  product-demand-2015-2020-a.csv       csv     44133.0\n",
       "4                    rf_model.pkl       pkl  11465124.0\n",
       "5                           y.csv       csv     10765.0\n",
       "6                       y.parquet   parquet      5080.0"
      ]
     },
     "execution_count": 5,
     "metadata": {},
     "output_type": "execute_result"
    }
   ],
   "source": [
    "a360ai.list_datasets()"
   ]
  },
  {
   "cell_type": "code",
   "execution_count": 6,
   "id": "5dc76b35-6813-4295-af1f-e016ba01e5b3",
   "metadata": {},
   "outputs": [],
   "source": [
    "df = a360ai.load_dataset(\"product-demand-2015-2020-a.csv\")"
   ]
  },
  {
   "cell_type": "code",
   "execution_count": 7,
   "id": "91dbd8ce-be0b-4915-97fc-4faba576d63e",
   "metadata": {},
   "outputs": [],
   "source": [
    "df_covid = df.loc[1825:]\n",
    "df_covid = df_covid.reset_index(drop=True)"
   ]
  },
  {
   "cell_type": "code",
   "execution_count": 8,
   "id": "fc565945-0304-4001-96ff-6d083fbe94a4",
   "metadata": {},
   "outputs": [],
   "source": [
    "X = a360ai.load_dataset(\"X.csv\")\n",
    "y = a360ai.load_dataset(\"y.csv\")"
   ]
  },
  {
   "cell_type": "code",
   "execution_count": 9,
   "id": "487ec51c-cb3d-4672-a28c-357c85a1f050",
   "metadata": {},
   "outputs": [],
   "source": [
    "df_X_val = X.loc[1734:1824]\n",
    "df_y_val = y['sales'][1734:1825]\n",
    "df_X_val = df_X_val.reset_index(drop=True)\n",
    "df_y_val = df_y_val.reset_index(drop=True)"
   ]
  },
  {
   "cell_type": "code",
   "execution_count": 10,
   "id": "15c986ed-4732-4207-9014-3c9802a21175",
   "metadata": {},
   "outputs": [],
   "source": [
    "df_X_covid = X.loc[1825:]\n",
    "df_y_covid = y['sales'][1825:]\n",
    "df_X_covid = df_X_covid.reset_index(drop=True)\n",
    "df_y_covid = df_y_covid.reset_index(drop=True)"
   ]
  },
  {
   "cell_type": "markdown",
   "id": "3c029746-885f-4988-8efb-6f39a44a38d2",
   "metadata": {},
   "source": [
    "### 2. Test endpoint with one data point "
   ]
  },
  {
   "cell_type": "code",
   "execution_count": 10,
   "id": "e1e8fa78-c339-4255-a0c4-4bd367bb61c9",
   "metadata": {},
   "outputs": [],
   "source": [
    "data = df_X_val.iloc[0]\n",
    "out = data.to_json() "
   ]
  },
  {
   "cell_type": "code",
   "execution_count": 11,
   "id": "6c2275e3-160a-4c89-bc88-75be76555604",
   "metadata": {},
   "outputs": [
    {
     "data": {
      "text/plain": [
       "'{\"trend-index\":48.0,\"day_of_month\":1.0,\"day_of_year\":274.0,\"week_of_year\":40.0,\"year\":2019.0,\"is_wknd\":0.0,\"is_month_start\":1.0,\"is_month_end\":0.0,\"month_1\":0.0,\"month_2\":0.0,\"month_3\":0.0,\"month_4\":0.0,\"month_5\":0.0,\"month_6\":0.0,\"month_7\":0.0,\"month_8\":0.0,\"month_9\":0.0,\"month_10\":1.0,\"month_11\":0.0,\"month_12\":0.0}'"
      ]
     },
     "execution_count": 11,
     "metadata": {},
     "output_type": "execute_result"
    }
   ],
   "source": [
    "out"
   ]
  },
  {
   "cell_type": "code",
   "execution_count": 12,
   "id": "a457f8aa-218e-4909-9676-3e80486b57ce",
   "metadata": {},
   "outputs": [],
   "source": [
    "url = \"https://ms-demo.a360.ai/product-demand-forec-demand-forecast-demo-6-9-1/\"\n",
    "with open('header.json') as json_file:\n",
    "    headers = json.load(json_file)"
   ]
  },
  {
   "cell_type": "code",
   "execution_count": 13,
   "id": "382b54bf-6caa-4723-96d7-e64a0a31228d",
   "metadata": {},
   "outputs": [
    {
     "data": {
      "text/plain": [
       "'55.332393646240234'"
      ]
     },
     "execution_count": 13,
     "metadata": {},
     "output_type": "execute_result"
    }
   ],
   "source": [
    "prediction = requests.post(url,data=out,headers=headers).text.split(':')[-1].split(\"}\")[0]\n",
    "prediction"
   ]
  },
  {
   "cell_type": "markdown",
   "id": "1509f8c3-0df0-4c33-a16b-6a132b7f4ac6",
   "metadata": {},
   "source": [
    "### 3. Test data outlier/ anomaly "
   ]
  },
  {
   "cell_type": "code",
   "execution_count": 14,
   "id": "1583072a-b027-4f68-8a10-56ec88aef4ee",
   "metadata": {},
   "outputs": [],
   "source": [
    "data = {\"trend-index\":4800.0, #<---\n",
    "        \"day_of_month\":1.000,\n",
    "        \"day_of_year\":274.000,\n",
    "        \"week_of_year\":40.000,\n",
    "        \"year\":2019.000,\n",
    "        \"is_wknd\":0.000,\n",
    "        \"is_month_start\":1.000,\n",
    "        \"is_month_end\":0.000,\n",
    "        \"month_1\":0.000,\n",
    "        \"month_2\":0.000,\n",
    "        \"month_3\":0.000,\n",
    "        \"month_4\":0.000,\n",
    "        \"month_5\":0.000,\n",
    "        \"month_6\":0.000,\n",
    "        \"month_7\":0.000,\n",
    "        \"month_8\":0.000,\n",
    "        \"month_9\":0.000,\n",
    "        \"month_10\":1.000,\n",
    "        \"month_11\":0.000,\n",
    "        \"month_12\":0.000}"
   ]
  },
  {
   "cell_type": "code",
   "execution_count": 15,
   "id": "1b29026d-6f47-4419-bde6-434e9a3e505a",
   "metadata": {},
   "outputs": [],
   "source": [
    "data = json.dumps(data,indent=2)"
   ]
  },
  {
   "cell_type": "code",
   "execution_count": 16,
   "id": "6bbb9d17-03b7-4fb7-8964-1e9af397dc5d",
   "metadata": {},
   "outputs": [
    {
     "data": {
      "text/plain": [
       "'55.218448638916016'"
      ]
     },
     "execution_count": 16,
     "metadata": {},
     "output_type": "execute_result"
    }
   ],
   "source": [
    "prediction = requests.post(url,data=data,headers=headers).text.split(':')[-1].split(\"}\")[0]\n",
    "prediction"
   ]
  },
  {
   "cell_type": "markdown",
   "id": "4e1712bb-e1c4-4460-bed4-795fec333731",
   "metadata": {},
   "source": [
    "### 4. Test data and concept drift "
   ]
  },
  {
   "cell_type": "code",
   "execution_count": 17,
   "id": "fbd41344-b6fb-4ee3-9549-bd64e45a09bc",
   "metadata": {},
   "outputs": [
    {
     "data": {
      "image/png": "[encoded data removed]",
      "text/plain": [
       "<Figure size 1440x360 with 1 Axes>"
      ]
     },
     "metadata": {
      "needs_background": "light"
     },
     "output_type": "display_data"
    }
   ],
   "source": [
    "locator = mdates.MonthLocator()\n",
    "\n",
    "fig = plt.figure(figsize=(20, 5))\n",
    "ax = plt.gca()\n",
    "ax.xaxis.set_major_locator(locator)\n",
    "plt.plot(df_covid['date'], df_covid['sales'], label='Daily Sales')\n",
    "plt.plot(df_covid['date'], df_covid['trend-index'], label='Trend Index')\n",
    "plt.tight_layout()\n",
    "plt.title('Product Demand- Daily Sales')\n",
    "plt.xlabel('Date')\n",
    "plt.ylabel(\"Sales\")\n",
    "plt.legend()\n",
    "plt.show()"
   ]
  },
  {
   "cell_type": "code",
   "execution_count": 18,
   "id": "90349beb-b506-40e2-9fdf-e89ca013003c",
   "metadata": {},
   "outputs": [],
   "source": [
    "data_drift = df_X_covid"
   ]
  },
  {
   "cell_type": "code",
   "execution_count": 19,
   "id": "b6b605e4-924d-4967-8329-3391b14314b6",
   "metadata": {},
   "outputs": [],
   "source": [
    "data_drift['day_of_year'] = data_drift['day_of_year']*2"
   ]
  },
  {
   "cell_type": "code",
   "execution_count": 20,
   "id": "f3cdd485-142c-441a-92b8-4e2a5373bb06",
   "metadata": {},
   "outputs": [
    {
     "data": {
      "text/html": [
       "<div>\n",
       "<style scoped>\n",
       "    .dataframe tbody tr th:only-of-type {\n",
       "        vertical-align: middle;\n",
       "    }\n",
       "\n",
       "    .dataframe tbody tr th {\n",
       "        vertical-align: top;\n",
       "    }\n",
       "\n",
       "    .dataframe thead th {\n",
       "        text-align: right;\n",
       "    }\n",
       "</style>\n",
       "<table border=\"1\" class=\"dataframe\">\n",
       "  <thead>\n",
       "    <tr style=\"text-align: right;\">\n",
       "      <th></th>\n",
       "      <th>trend-index</th>\n",
       "      <th>day_of_month</th>\n",
       "      <th>day_of_year</th>\n",
       "      <th>week_of_year</th>\n",
       "      <th>year</th>\n",
       "      <th>is_wknd</th>\n",
       "      <th>is_month_start</th>\n",
       "      <th>is_month_end</th>\n",
       "      <th>month_1</th>\n",
       "      <th>month_2</th>\n",
       "      <th>month_3</th>\n",
       "      <th>month_4</th>\n",
       "      <th>month_5</th>\n",
       "      <th>month_6</th>\n",
       "      <th>month_7</th>\n",
       "      <th>month_8</th>\n",
       "      <th>month_9</th>\n",
       "      <th>month_10</th>\n",
       "      <th>month_11</th>\n",
       "      <th>month_12</th>\n",
       "    </tr>\n",
       "  </thead>\n",
       "  <tbody>\n",
       "    <tr>\n",
       "      <th>0</th>\n",
       "      <td>28.56</td>\n",
       "      <td>31</td>\n",
       "      <td>730</td>\n",
       "      <td>1</td>\n",
       "      <td>2019</td>\n",
       "      <td>0</td>\n",
       "      <td>0</td>\n",
       "      <td>1</td>\n",
       "      <td>0</td>\n",
       "      <td>0</td>\n",
       "      <td>0</td>\n",
       "      <td>0</td>\n",
       "      <td>0</td>\n",
       "      <td>0</td>\n",
       "      <td>0</td>\n",
       "      <td>0</td>\n",
       "      <td>0</td>\n",
       "      <td>0</td>\n",
       "      <td>0</td>\n",
       "      <td>1</td>\n",
       "    </tr>\n",
       "    <tr>\n",
       "      <th>1</th>\n",
       "      <td>32.00</td>\n",
       "      <td>1</td>\n",
       "      <td>2</td>\n",
       "      <td>1</td>\n",
       "      <td>2020</td>\n",
       "      <td>0</td>\n",
       "      <td>1</td>\n",
       "      <td>0</td>\n",
       "      <td>1</td>\n",
       "      <td>0</td>\n",
       "      <td>0</td>\n",
       "      <td>0</td>\n",
       "      <td>0</td>\n",
       "      <td>0</td>\n",
       "      <td>0</td>\n",
       "      <td>0</td>\n",
       "      <td>0</td>\n",
       "      <td>0</td>\n",
       "      <td>0</td>\n",
       "      <td>0</td>\n",
       "    </tr>\n",
       "    <tr>\n",
       "      <th>2</th>\n",
       "      <td>37.72</td>\n",
       "      <td>2</td>\n",
       "      <td>4</td>\n",
       "      <td>1</td>\n",
       "      <td>2020</td>\n",
       "      <td>0</td>\n",
       "      <td>0</td>\n",
       "      <td>0</td>\n",
       "      <td>1</td>\n",
       "      <td>0</td>\n",
       "      <td>0</td>\n",
       "      <td>0</td>\n",
       "      <td>0</td>\n",
       "      <td>0</td>\n",
       "      <td>0</td>\n",
       "      <td>0</td>\n",
       "      <td>0</td>\n",
       "      <td>0</td>\n",
       "      <td>0</td>\n",
       "      <td>0</td>\n",
       "    </tr>\n",
       "    <tr>\n",
       "      <th>3</th>\n",
       "      <td>32.56</td>\n",
       "      <td>3</td>\n",
       "      <td>6</td>\n",
       "      <td>1</td>\n",
       "      <td>2020</td>\n",
       "      <td>1</td>\n",
       "      <td>0</td>\n",
       "      <td>0</td>\n",
       "      <td>1</td>\n",
       "      <td>0</td>\n",
       "      <td>0</td>\n",
       "      <td>0</td>\n",
       "      <td>0</td>\n",
       "      <td>0</td>\n",
       "      <td>0</td>\n",
       "      <td>0</td>\n",
       "      <td>0</td>\n",
       "      <td>0</td>\n",
       "      <td>0</td>\n",
       "      <td>0</td>\n",
       "    </tr>\n",
       "    <tr>\n",
       "      <th>4</th>\n",
       "      <td>24.56</td>\n",
       "      <td>4</td>\n",
       "      <td>8</td>\n",
       "      <td>1</td>\n",
       "      <td>2020</td>\n",
       "      <td>1</td>\n",
       "      <td>0</td>\n",
       "      <td>0</td>\n",
       "      <td>1</td>\n",
       "      <td>0</td>\n",
       "      <td>0</td>\n",
       "      <td>0</td>\n",
       "      <td>0</td>\n",
       "      <td>0</td>\n",
       "      <td>0</td>\n",
       "      <td>0</td>\n",
       "      <td>0</td>\n",
       "      <td>0</td>\n",
       "      <td>0</td>\n",
       "      <td>0</td>\n",
       "    </tr>\n",
       "    <tr>\n",
       "      <th>...</th>\n",
       "      <td>...</td>\n",
       "      <td>...</td>\n",
       "      <td>...</td>\n",
       "      <td>...</td>\n",
       "      <td>...</td>\n",
       "      <td>...</td>\n",
       "      <td>...</td>\n",
       "      <td>...</td>\n",
       "      <td>...</td>\n",
       "      <td>...</td>\n",
       "      <td>...</td>\n",
       "      <td>...</td>\n",
       "      <td>...</td>\n",
       "      <td>...</td>\n",
       "      <td>...</td>\n",
       "      <td>...</td>\n",
       "      <td>...</td>\n",
       "      <td>...</td>\n",
       "      <td>...</td>\n",
       "      <td>...</td>\n",
       "    </tr>\n",
       "    <tr>\n",
       "      <th>116</th>\n",
       "      <td>200.61</td>\n",
       "      <td>25</td>\n",
       "      <td>232</td>\n",
       "      <td>17</td>\n",
       "      <td>2020</td>\n",
       "      <td>1</td>\n",
       "      <td>0</td>\n",
       "      <td>0</td>\n",
       "      <td>0</td>\n",
       "      <td>0</td>\n",
       "      <td>0</td>\n",
       "      <td>1</td>\n",
       "      <td>0</td>\n",
       "      <td>0</td>\n",
       "      <td>0</td>\n",
       "      <td>0</td>\n",
       "      <td>0</td>\n",
       "      <td>0</td>\n",
       "      <td>0</td>\n",
       "      <td>0</td>\n",
       "    </tr>\n",
       "    <tr>\n",
       "      <th>117</th>\n",
       "      <td>194.13</td>\n",
       "      <td>26</td>\n",
       "      <td>234</td>\n",
       "      <td>17</td>\n",
       "      <td>2020</td>\n",
       "      <td>1</td>\n",
       "      <td>0</td>\n",
       "      <td>0</td>\n",
       "      <td>0</td>\n",
       "      <td>0</td>\n",
       "      <td>0</td>\n",
       "      <td>1</td>\n",
       "      <td>0</td>\n",
       "      <td>0</td>\n",
       "      <td>0</td>\n",
       "      <td>0</td>\n",
       "      <td>0</td>\n",
       "      <td>0</td>\n",
       "      <td>0</td>\n",
       "      <td>0</td>\n",
       "    </tr>\n",
       "    <tr>\n",
       "      <th>118</th>\n",
       "      <td>192.87</td>\n",
       "      <td>27</td>\n",
       "      <td>236</td>\n",
       "      <td>18</td>\n",
       "      <td>2020</td>\n",
       "      <td>0</td>\n",
       "      <td>0</td>\n",
       "      <td>0</td>\n",
       "      <td>0</td>\n",
       "      <td>0</td>\n",
       "      <td>0</td>\n",
       "      <td>1</td>\n",
       "      <td>0</td>\n",
       "      <td>0</td>\n",
       "      <td>0</td>\n",
       "      <td>0</td>\n",
       "      <td>0</td>\n",
       "      <td>0</td>\n",
       "      <td>0</td>\n",
       "      <td>0</td>\n",
       "    </tr>\n",
       "    <tr>\n",
       "      <th>119</th>\n",
       "      <td>213.39</td>\n",
       "      <td>28</td>\n",
       "      <td>238</td>\n",
       "      <td>18</td>\n",
       "      <td>2020</td>\n",
       "      <td>0</td>\n",
       "      <td>0</td>\n",
       "      <td>0</td>\n",
       "      <td>0</td>\n",
       "      <td>0</td>\n",
       "      <td>0</td>\n",
       "      <td>1</td>\n",
       "      <td>0</td>\n",
       "      <td>0</td>\n",
       "      <td>0</td>\n",
       "      <td>0</td>\n",
       "      <td>0</td>\n",
       "      <td>0</td>\n",
       "      <td>0</td>\n",
       "      <td>0</td>\n",
       "    </tr>\n",
       "    <tr>\n",
       "      <th>120</th>\n",
       "      <td>194.13</td>\n",
       "      <td>29</td>\n",
       "      <td>240</td>\n",
       "      <td>18</td>\n",
       "      <td>2020</td>\n",
       "      <td>0</td>\n",
       "      <td>0</td>\n",
       "      <td>0</td>\n",
       "      <td>0</td>\n",
       "      <td>0</td>\n",
       "      <td>0</td>\n",
       "      <td>1</td>\n",
       "      <td>0</td>\n",
       "      <td>0</td>\n",
       "      <td>0</td>\n",
       "      <td>0</td>\n",
       "      <td>0</td>\n",
       "      <td>0</td>\n",
       "      <td>0</td>\n",
       "      <td>0</td>\n",
       "    </tr>\n",
       "  </tbody>\n",
       "</table>\n",
       "<p>121 rows × 20 columns</p>\n",
       "</div>"
      ],
      "text/plain": [
       "     trend-index  day_of_month  day_of_year  week_of_year  year  is_wknd  \\\n",
       "0          28.56            31          730             1  2019        0   \n",
       "1          32.00             1            2             1  2020        0   \n",
       "2          37.72             2            4             1  2020        0   \n",
       "3          32.56             3            6             1  2020        1   \n",
       "4          24.56             4            8             1  2020        1   \n",
       "..           ...           ...          ...           ...   ...      ...   \n",
       "116       200.61            25          232            17  2020        1   \n",
       "117       194.13            26          234            17  2020        1   \n",
       "118       192.87            27          236            18  2020        0   \n",
       "119       213.39            28          238            18  2020        0   \n",
       "120       194.13            29          240            18  2020        0   \n",
       "\n",
       "     is_month_start  is_month_end  month_1  month_2  month_3  month_4  \\\n",
       "0                 0             1        0        0        0        0   \n",
       "1                 1             0        1        0        0        0   \n",
       "2                 0             0        1        0        0        0   \n",
       "3                 0             0        1        0        0        0   \n",
       "4                 0             0        1        0        0        0   \n",
       "..              ...           ...      ...      ...      ...      ...   \n",
       "116               0             0        0        0        0        1   \n",
       "117               0             0        0        0        0        1   \n",
       "118               0             0        0        0        0        1   \n",
       "119               0             0        0        0        0        1   \n",
       "120               0             0        0        0        0        1   \n",
       "\n",
       "     month_5  month_6  month_7  month_8  month_9  month_10  month_11  month_12  \n",
       "0          0        0        0        0        0         0         0         1  \n",
       "1          0        0        0        0        0         0         0         0  \n",
       "2          0        0        0        0        0         0         0         0  \n",
       "3          0        0        0        0        0         0         0         0  \n",
       "4          0        0        0        0        0         0         0         0  \n",
       "..       ...      ...      ...      ...      ...       ...       ...       ...  \n",
       "116        0        0        0        0        0         0         0         0  \n",
       "117        0        0        0        0        0         0         0         0  \n",
       "118        0        0        0        0        0         0         0         0  \n",
       "119        0        0        0        0        0         0         0         0  \n",
       "120        0        0        0        0        0         0         0         0  \n",
       "\n",
       "[121 rows x 20 columns]"
      ]
     },
     "execution_count": 20,
     "metadata": {},
     "output_type": "execute_result"
    }
   ],
   "source": [
    "data_drift"
   ]
  },
  {
   "cell_type": "code",
   "execution_count": 21,
   "id": "7b93319b-2396-4d39-8494-050bb4ed7f7c",
   "metadata": {},
   "outputs": [
    {
     "name": "stdout",
     "output_type": "stream",
     "text": [
      "41.015926361083984\n",
      "37.57156753540039\n",
      "35.7005615234375\n",
      "36.756134033203125\n",
      "37.493736267089844\n",
      "36.91287612915039\n",
      "37.2991943359375\n",
      "35.567893981933594\n",
      "36.60954666137695\n",
      "35.329368591308594\n",
      "34.92499923706055\n",
      "34.92499923706055\n",
      "34.90447235107422\n",
      "35.11140441894531\n",
      "35.19711685180664\n",
      "35.12502670288086\n",
      "35.05935287475586\n",
      "36.72284698486328\n",
      "38.415985107421875\n",
      "38.57356643676758\n",
      "39.32984161376953\n",
      "39.54672622680664\n",
      "39.45134735107422\n",
      "39.35078811645508\n",
      "39.20981216430664\n",
      "40.27384948730469\n",
      "40.56279754638672\n",
      "40.638885498046875\n",
      "40.65088653564453\n",
      "40.58724594116211\n",
      "42.59170150756836\n",
      "45.39776611328125\n",
      "47.14860153198242\n",
      "47.50193405151367\n",
      "48.20563888549805\n",
      "48.279483795166016\n",
      "48.67313766479492\n",
      "48.72288131713867\n",
      "48.21633529663086\n",
      "48.286197662353516\n",
      "48.27113723754883\n",
      "48.42703628540039\n",
      "48.41384506225586\n",
      "48.4297981262207\n",
      "48.425960540771484\n",
      "50.30916213989258\n",
      "57.64055633544922\n",
      "58.48451232910156\n",
      "59.306129455566406\n",
      "59.423484802246094\n",
      "59.37594223022461\n",
      "59.34737777709961\n",
      "58.58243942260742\n",
      "58.476192474365234\n",
      "58.476192474365234\n",
      "59.1861686706543\n",
      "59.05715560913086\n",
      "59.01729202270508\n",
      "59.01729202270508\n",
      "58.274478912353516\n",
      "58.329769134521484\n",
      "58.51366424560547\n",
      "59.761077880859375\n",
      "60.82181930541992\n",
      "60.82181930541992\n",
      "60.82181930541992\n",
      "60.23854446411133\n",
      "60.28810501098633\n",
      "60.28810501098633\n",
      "60.97844314575195\n",
      "60.97844314575195\n",
      "60.97844314575195\n",
      "60.97844314575195\n",
      "60.405887603759766\n",
      "60.99051284790039\n",
      "61.06742477416992\n",
      "61.849666595458984\n",
      "61.9488639831543\n",
      "61.9488639831543\n",
      "61.92900466918945\n",
      "61.22520065307617\n",
      "61.20308303833008\n",
      "61.06483840942383\n",
      "61.76864242553711\n",
      "61.76864242553711\n",
      "61.76864242553711\n",
      "61.76864242553711\n",
      "61.06483840942383\n",
      "61.06483840942383\n",
      "61.06483840942383\n",
      "62.72248840332031\n",
      "62.72248840332031\n",
      "62.957008361816406\n",
      "62.957008361816406\n",
      "62.28948974609375\n",
      "62.28948974609375\n",
      "62.28948974609375\n",
      "63.080413818359375\n",
      "63.080413818359375\n",
      "63.080413818359375\n",
      "63.080413818359375\n",
      "62.41289520263672\n",
      "62.41289520263672\n",
      "62.41289520263672\n",
      "63.080413818359375\n",
      "63.080413818359375\n",
      "63.080413818359375\n",
      "63.080413818359375\n",
      "62.41289520263672\n",
      "62.41289520263672\n",
      "62.41289520263672\n",
      "63.080413818359375\n",
      "63.080413818359375\n",
      "63.080413818359375\n",
      "63.080413818359375\n",
      "62.41289520263672\n",
      "62.37964630126953\n",
      "62.37964630126953\n",
      "63.109825134277344\n",
      "63.109825134277344\n",
      "63.06841278076172\n"
     ]
    }
   ],
   "source": [
    "for i in range(0, data_drift.shape[0]):\n",
    "    data = data_drift.iloc[i]\n",
    "    out = data.to_json() \n",
    "    prediction = requests.post(url,data=out,headers=headers).text.split(':')[-1].split(\"}\")[0]\n",
    "    print(prediction)"
   ]
  },
  {
   "cell_type": "code",
   "execution_count": null,
   "id": "4525af74-b055-44b4-a284-d84852dc45a5",
   "metadata": {},
   "outputs": [],
   "source": []
  }
 ],
 "metadata": {
  "kernelspec": {
   "display_name": "Python 3 (ipykernel)",
   "language": "python",
   "name": "python3"
  },
  "language_info": {
   "codemirror_mode": {
    "name": "ipython",
    "version": 3
   },
   "file_extension": ".py",
   "mimetype": "text/x-python",
   "name": "python",
   "nbconvert_exporter": "python",
   "pygments_lexer": "ipython3",
   "version": "3.9.12"
  }
 },
 "nbformat": 4,
 "nbformat_minor": 5
}
